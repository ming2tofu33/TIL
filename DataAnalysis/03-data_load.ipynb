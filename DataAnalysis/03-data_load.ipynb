{
 "cells": [
  {
   "cell_type": "markdown",
   "id": "65ac9498",
   "metadata": {},
   "source": [
    "# `03-data_load.ipynb`"
   ]
  },
  {
   "cell_type": "markdown",
   "id": "cfe60190",
   "metadata": {},
   "source": [
    "## CSV Lod & Save"
   ]
  },
  {
   "cell_type": "code",
   "execution_count": 3,
   "id": "d9a75afc",
   "metadata": {},
   "outputs": [
    {
     "name": "stdout",
     "output_type": "stream",
     "text": [
      "번호,도서명,저자,출판사,발행년도,ISBN,세트 ISBN,부가기호,권,주제분류번호,도서권수,대출건수,등록일자,\n",
      "\n",
      "\"1\",\"감정을 이해하는 그림책 큐레이션 \",\"그림책심리성장연구소,강혜진,김애이,김은경,박소영,장미혜,차연주 지음\",\"사우\",\"2025\",\"9791194126027\",\"\",\"0\",\"\",\"181.7\",\"1\",\"0\",\"2025-06-30\",\n",
      "\n"
     ]
    }
   ],
   "source": [
    "# python 으로 파일 불러오기\n",
    "with open('./namsan.csv', encoding='EUC-KR') as f:\n",
    "    print(f.readline())\n",
    "    print(f.readline())"
   ]
  },
  {
   "cell_type": "code",
   "execution_count": 17,
   "id": "0af70e51",
   "metadata": {},
   "outputs": [],
   "source": [
    "# pandas로 csv -> DataFrame으로 불러오기\n",
    "import pandas as pd\n",
    "\n",
    "# encoding 은 파일 불러올 때 매우 중요\n",
    "# df = pd.read_csv('./namsan.csv', encoding='EUC-KR', low_memory=False)\n",
    "df = pd.read_csv('./namsan.csv', encoding='EUC-KR', dtype={\n",
    "    'ISBN': str, \n",
    "    '세트 ISBN': str, \n",
    "    '주제분류번호': str\n",
    "})"
   ]
  },
  {
   "cell_type": "code",
   "execution_count": 21,
   "id": "4a51c904",
   "metadata": {},
   "outputs": [
    {
     "data": {
      "text/plain": [
       "번호               int64\n",
       "도서명             object\n",
       "저자              object\n",
       "출판사             object\n",
       "발행년도            object\n",
       "ISBN            object\n",
       "세트 ISBN         object\n",
       "부가기호            object\n",
       "권               object\n",
       "주제분류번호          object\n",
       "도서권수             int64\n",
       "대출건수             int64\n",
       "등록일자            object\n",
       "Unnamed: 13    float64\n",
       "dtype: object"
      ]
     },
     "execution_count": 21,
     "metadata": {},
     "output_type": "execute_result"
    }
   ],
   "source": [
    "df.dtypes"
   ]
  },
  {
   "cell_type": "code",
   "execution_count": null,
   "id": "269d03c0",
   "metadata": {},
   "outputs": [],
   "source": [
    "# 저장도 가능\n",
    "# df.to_csv('./test.csv', encoding='UTF-8', index=False)"
   ]
  },
  {
   "cell_type": "markdown",
   "id": "aa043dc8",
   "metadata": {},
   "source": [
    "## Web API Load"
   ]
  },
  {
   "cell_type": "code",
   "execution_count": null,
   "id": "cb287ca9",
   "metadata": {},
   "outputs": [
    {
     "name": "stdout",
     "output_type": "stream",
     "text": [
      "<class 'str'> <class 'dict'>\n"
     ]
    }
   ],
   "source": [
    "# Data Parsing (해석, 분석) [json -> dict]\n",
    "json_data = '{\"a\": 1, \"b\": 2}'\n",
    "\n",
    "# json_data 는 아직 dict 로 해석이 되지 않았다! => 파싱되지 않음\n",
    "# json_data['a']  # Error\n",
    "\n",
    "import json\n",
    "dict_data = json.loads(json_data)\n",
    "\n",
    "print(type(json_data), type(dict_data))"
   ]
  },
  {
   "cell_type": "code",
   "execution_count": 29,
   "id": "a08a5b89",
   "metadata": {},
   "outputs": [
    {
     "data": {
      "text/plain": [
       "'{\"a\": 1, \"b\": 2}'"
      ]
     },
     "execution_count": 29,
     "metadata": {},
     "output_type": "execute_result"
    }
   ],
   "source": [
    "# Data Serializing (직렬화) [dict -> json]\n",
    "dict_data = {'a': 1, 'b': 2}\n",
    "\n",
    "import json\n",
    "json.dumps(dict_data)"
   ]
  }
 ],
 "metadata": {
  "kernelspec": {
   "display_name": "Python 3",
   "language": "python",
   "name": "python3"
  },
  "language_info": {
   "codemirror_mode": {
    "name": "ipython",
    "version": 3
   },
   "file_extension": ".py",
   "mimetype": "text/x-python",
   "name": "python",
   "nbconvert_exporter": "python",
   "pygments_lexer": "ipython3",
   "version": "3.13.4"
  }
 },
 "nbformat": 4,
 "nbformat_minor": 5
}
