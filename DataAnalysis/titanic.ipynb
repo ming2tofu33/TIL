{
 "cells": [
  {
   "cell_type": "code",
   "execution_count": 1,
   "id": "8cb8becc",
   "metadata": {},
   "outputs": [
    {
     "name": "stdout",
     "output_type": "stream",
     "text": [
      "Note: you may need to restart the kernel to use updated packages.\n"
     ]
    }
   ],
   "source": [
    "# -q (quiet) 옵션은 로그 안보여줌\n",
    "%pip install -q seaborn"
   ]
  },
  {
   "cell_type": "code",
   "execution_count": 2,
   "id": "6c393f73",
   "metadata": {},
   "outputs": [
    {
     "name": "stdout",
     "output_type": "stream",
     "text": [
      "타이타닉 데이터 미리보기:\n",
      "   survived  pclass     sex   age  sibsp  parch     fare embarked  class  \\\n",
      "0         0       3    male  22.0      1      0   7.2500        S  Third   \n",
      "1         1       1  female  38.0      1      0  71.2833        C  First   \n",
      "2         1       3  female  26.0      0      0   7.9250        S  Third   \n",
      "3         1       1  female  35.0      1      0  53.1000        S  First   \n",
      "4         0       3    male  35.0      0      0   8.0500        S  Third   \n",
      "\n",
      "     who  adult_male deck  embark_town alive  alone  \n",
      "0    man        True  NaN  Southampton    no  False  \n",
      "1  woman       False    C    Cherbourg   yes  False  \n",
      "2  woman       False  NaN  Southampton   yes   True  \n",
      "3  woman       False    C  Southampton   yes  False  \n",
      "4    man        True  NaN  Southampton    no   True  \n",
      "\n",
      "데이터셋 정보:\n",
      "<class 'pandas.core.frame.DataFrame'>\n",
      "RangeIndex: 891 entries, 0 to 890\n",
      "Data columns (total 15 columns):\n",
      " #   Column       Non-Null Count  Dtype   \n",
      "---  ------       --------------  -----   \n",
      " 0   survived     891 non-null    int64   \n",
      " 1   pclass       891 non-null    int64   \n",
      " 2   sex          891 non-null    object  \n",
      " 3   age          714 non-null    float64 \n",
      " 4   sibsp        891 non-null    int64   \n",
      " 5   parch        891 non-null    int64   \n",
      " 6   fare         891 non-null    float64 \n",
      " 7   embarked     889 non-null    object  \n",
      " 8   class        891 non-null    category\n",
      " 9   who          891 non-null    object  \n",
      " 10  adult_male   891 non-null    bool    \n",
      " 11  deck         203 non-null    category\n",
      " 12  embark_town  889 non-null    object  \n",
      " 13  alive        891 non-null    object  \n",
      " 14  alone        891 non-null    bool    \n",
      "dtypes: bool(2), category(2), float64(2), int64(4), object(5)\n",
      "memory usage: 80.7+ KB\n",
      "None\n",
      "\n",
      "데이터 요약 통계:\n",
      "         survived      pclass         age       sibsp       parch        fare\n",
      "count  891.000000  891.000000  714.000000  891.000000  891.000000  891.000000\n",
      "mean     0.383838    2.308642   29.699118    0.523008    0.381594   32.204208\n",
      "std      0.486592    0.836071   14.526497    1.102743    0.806057   49.693429\n",
      "min      0.000000    1.000000    0.420000    0.000000    0.000000    0.000000\n",
      "25%      0.000000    2.000000   20.125000    0.000000    0.000000    7.910400\n",
      "50%      0.000000    3.000000   28.000000    0.000000    0.000000   14.454200\n",
      "75%      1.000000    3.000000   38.000000    1.000000    0.000000   31.000000\n",
      "max      1.000000    3.000000   80.000000    8.000000    6.000000  512.329200\n"
     ]
    }
   ],
   "source": [
    "# 타이타닉 데이터셋 불러오기\n",
    "# (pandas에 기본 내장된 예제 데이터셋)\n",
    "import seaborn as sns\n",
    "\n",
    "# titanic 데이터 DataFrame\n",
    "titanic = sns.load_dataset('titanic')\n",
    "\n",
    "# 처음 5개 행 보기\n",
    "print(\"타이타닉 데이터 미리보기:\")\n",
    "print(titanic.head())\n",
    "\n",
    "# 데이터셋 정보 확인\n",
    "print(\"\\n데이터셋 정보:\")\n",
    "print(titanic.info())\n",
    "\n",
    "# 데이터 요약 통계\n",
    "print(\"\\n데이터 요약 통계:\")\n",
    "print(titanic.describe())"
   ]
  },
  {
   "cell_type": "code",
   "execution_count": 19,
   "id": "3c7828cb",
   "metadata": {},
   "outputs": [
    {
     "name": "stdout",
     "output_type": "stream",
     "text": [
      "(891, 15)\n",
      "Index(['survived', 'pclass', 'sex', 'age', 'sibsp', 'parch', 'fare',\n",
      "       'embarked', 'class', 'who', 'adult_male', 'deck', 'embark_town',\n",
      "       'alive', 'alone'],\n",
      "      dtype='object')\n"
     ]
    }
   ],
   "source": [
    "print(titanic.shape)\n",
    "print(titanic.columns)"
   ]
  },
  {
   "cell_type": "code",
   "execution_count": 26,
   "id": "a6747a00",
   "metadata": {},
   "outputs": [
    {
     "name": "stdout",
     "output_type": "stream",
     "text": [
      "549\n",
      "     survived  pclass   sex   age  sibsp  parch     fare embarked   class  \\\n",
      "0           0       3  male  22.0      1      0   7.2500        S   Third   \n",
      "4           0       3  male  35.0      0      0   8.0500        S   Third   \n",
      "5           0       3  male   NaN      0      0   8.4583        Q   Third   \n",
      "6           0       1  male  54.0      0      0  51.8625        S   First   \n",
      "12          0       3  male  20.0      0      0   8.0500        S   Third   \n",
      "..        ...     ...   ...   ...    ...    ...      ...      ...     ...   \n",
      "881         0       3  male  33.0      0      0   7.8958        S   Third   \n",
      "883         0       2  male  28.0      0      0  10.5000        S  Second   \n",
      "884         0       3  male  25.0      0      0   7.0500        S   Third   \n",
      "886         0       2  male  27.0      0      0  13.0000        S  Second   \n",
      "890         0       3  male  32.0      0      0   7.7500        Q   Third   \n",
      "\n",
      "     who  adult_male deck  embark_town alive  alone  \n",
      "0    man        True  NaN  Southampton    no  False  \n",
      "4    man        True  NaN  Southampton    no   True  \n",
      "5    man        True  NaN   Queenstown    no   True  \n",
      "6    man        True    E  Southampton    no   True  \n",
      "12   man        True  NaN  Southampton    no   True  \n",
      "..   ...         ...  ...          ...   ...    ...  \n",
      "881  man        True  NaN  Southampton    no   True  \n",
      "883  man        True  NaN  Southampton    no   True  \n",
      "884  man        True  NaN  Southampton    no   True  \n",
      "886  man        True  NaN  Southampton    no   True  \n",
      "890  man        True  NaN   Queenstown    no   True  \n",
      "\n",
      "[449 rows x 15 columns]\n"
     ]
    }
   ],
   "source": [
    "survived0 = titanic[titanic['survived'] == 0]\n",
    "survived1 = titanic[titanic['survived'] == 1]\n",
    "\n",
    "print(survived0['survived'].count())\n",
    "print(titanic[(titanic['survived'] == 0) & (titanic['adult_male'] == True)])"
   ]
  },
  {
   "cell_type": "code",
   "execution_count": 34,
   "id": "9bbb43e7",
   "metadata": {},
   "outputs": [
    {
     "name": "stdout",
     "output_type": "stream",
     "text": [
      "pclass\n",
      "1    216\n",
      "2    184\n",
      "3    491\n",
      "Name: survived, dtype: int64\n",
      "pclass\n",
      "1    136\n",
      "2     87\n",
      "3    119\n",
      "Name: survived, dtype: int64\n"
     ]
    }
   ],
   "source": [
    "print(titanic.groupby('pclass')['survived'].agg('count'))\n",
    "print(survived1.groupby('pclass')['survived'].agg('count'))"
   ]
  },
  {
   "cell_type": "code",
   "execution_count": 24,
   "id": "3e871eb5",
   "metadata": {},
   "outputs": [
    {
     "name": "stdout",
     "output_type": "stream",
     "text": [
      "    survived  pclass     sex   age  sibsp  parch     fare embarked   class  \\\n",
      "1          1       1  female  38.0      1      0  71.2833        C   First   \n",
      "2          1       3  female  26.0      0      0   7.9250        S   Third   \n",
      "3          1       1  female  35.0      1      0  53.1000        S   First   \n",
      "8          1       3  female  27.0      0      2  11.1333        S   Third   \n",
      "9          1       2  female  14.0      1      0  30.0708        C  Second   \n",
      "10         1       3  female   4.0      1      1  16.7000        S   Third   \n",
      "11         1       1  female  58.0      0      0  26.5500        S   First   \n",
      "15         1       2  female  55.0      0      0  16.0000        S  Second   \n",
      "17         1       2    male   NaN      0      0  13.0000        S  Second   \n",
      "19         1       3  female   NaN      0      0   7.2250        C   Third   \n",
      "\n",
      "      who  adult_male deck  embark_town alive  alone  \n",
      "1   woman       False    C    Cherbourg   yes  False  \n",
      "2   woman       False  NaN  Southampton   yes   True  \n",
      "3   woman       False    C  Southampton   yes  False  \n",
      "8   woman       False  NaN  Southampton   yes  False  \n",
      "9   child       False  NaN    Cherbourg   yes  False  \n",
      "10  child       False    G  Southampton   yes  False  \n",
      "11  woman       False    C  Southampton   yes   True  \n",
      "15  woman       False  NaN  Southampton   yes   True  \n",
      "17    man        True  NaN  Southampton   yes   True  \n",
      "19  woman       False  NaN    Cherbourg   yes   True  \n"
     ]
    }
   ],
   "source": [
    "\n",
    "print(survived1.head(10))"
   ]
  }
 ],
 "metadata": {
  "kernelspec": {
   "display_name": "Python 3",
   "language": "python",
   "name": "python3"
  },
  "language_info": {
   "codemirror_mode": {
    "name": "ipython",
    "version": 3
   },
   "file_extension": ".py",
   "mimetype": "text/x-python",
   "name": "python",
   "nbconvert_exporter": "python",
   "pygments_lexer": "ipython3",
   "version": "3.13.4"
  }
 },
 "nbformat": 4,
 "nbformat_minor": 5
}
