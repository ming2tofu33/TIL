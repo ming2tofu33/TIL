{
 "cells": [
  {
   "cell_type": "markdown",
   "id": "8664b3f8",
   "metadata": {},
   "source": [
    "# `03-output_parser`\n",
    "\n",
    "# 출력 파서 (`OutputParser`)\n",
    "\n",
    "- LLM의 출력을 더 유용/구조화된 형태로 변환함\n",
    "- 구조화: LLM의 자유 형식 출력을 구조화된 데이터로 변환\n",
    "- 일관성: 항상 일관된 출력 형식 -> 후속 처리에 용이\n",
    "- 유연성: 다양한 출력 형식(JSON, list, dict)으로 변환 가능"
   ]
  },
  {
   "cell_type": "markdown",
   "id": "09ae24da",
   "metadata": {},
   "source": [
    "## `PydanticOutputParser`"
   ]
  },
  {
   "cell_type": "code",
   "execution_count": null,
   "id": "d602eb80",
   "metadata": {},
   "outputs": [],
   "source": [
    "from dotenv import load_dotenv\n",
    "from langchain_openai import ChatOpenAI\n",
    "from langchain_core.output_parsers import PydanticOutputParser\n",
    "from pydantic import BaseModel, Field\n",
    "\n",
    "load_dotenv()\n",
    "\n",
    "llm = ChatOpenAI(model='gpt-4.1-nano')"
   ]
  },
  {
   "cell_type": "code",
   "execution_count": null,
   "id": "7a288c4c",
   "metadata": {},
   "outputs": [],
   "source": [
    "from langchain_core.prompts import \n",
    "prompt = "
   ]
  },
  {
   "cell_type": "code",
   "execution_count": null,
   "id": "f0ac4120",
   "metadata": {},
   "outputs": [],
   "source": []
  }
 ],
 "metadata": {
  "language_info": {
   "name": "python"
  }
 },
 "nbformat": 4,
 "nbformat_minor": 5
}
