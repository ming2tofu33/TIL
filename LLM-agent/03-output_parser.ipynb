{
 "cells": [
  {
   "cell_type": "markdown",
   "id": "8664b3f8",
   "metadata": {},
   "source": [
    "# `03-output_parser`\n",
    "\n",
    "# 출력 파서 (`OutputParser`)\n",
    "\n",
    "- LLM의 출력을 더 유용/구조화된 형태로 변환함\n",
    "- 구조화: LLM의 자유 형식 출력을 구조화된 데이터로 변환\n",
    "- 일관성: 항상 일관된 출력 형식 -> 후속 처리에 용이\n",
    "- 유연성: 다양한 출력 형식(JSON, list, dict)으로 변환 가능"
   ]
  },
  {
   "cell_type": "markdown",
   "id": "09ae24da",
   "metadata": {},
   "source": [
    "## `PydanticOutputParser`"
   ]
  },
  {
   "cell_type": "code",
   "execution_count": 2,
   "id": "d602eb80",
   "metadata": {},
   "outputs": [],
   "source": [
    "from dotenv import load_dotenv\n",
    "from langchain_openai import ChatOpenAI\n",
    "from langchain_core.output_parsers import PydanticOutputParser\n",
    "from pydantic import BaseModel, Field\n",
    "\n",
    "load_dotenv()\n",
    "\n",
    "llm = ChatOpenAI(model='gpt-4.1-nano')"
   ]
  },
  {
   "cell_type": "code",
   "execution_count": 1,
   "id": "7a288c4c",
   "metadata": {},
   "outputs": [],
   "source": [
    "email_conversation = \"\"\"From: 김철수 (chulsoo.kim@bikecorporation.me)\n",
    "To: 이은채 (eunchae@teddyinternational.me)\n",
    "Subject: \"ZENESIS\" 자전거 유통 협력 및 미팅 일정 제안\n",
    "\n",
    "안녕하세요, 이은채 대리님,\n",
    "\n",
    "저는 바이크코퍼레이션의 김철수 상무입니다. 최근 보도자료를 통해 귀사의 신규 자전거 \"ZENESIS\"에 대해 알게 되었습니다. 바이크코퍼레이션은 자전거 제조 및 유통 분야에서 혁신과 품질을 선도하는 기업으로, 이 분야에서의 장기적인 경험과 전문성을 가지고 있습니다.\n",
    "\n",
    "ZENESIS 모델에 대한 상세한 브로슈어를 요청드립니다. 특히 기술 사양, 배터리 성능, 그리고 디자인 측면에 대한 정보가 필요합니다. 이를 통해 저희가 제안할 유통 전략과 마케팅 계획을 보다 구체화할 수 있을 것입니다.\n",
    "\n",
    "또한, 협력 가능성을 더 깊이 논의하기 위해 다음 주 화요일(1월 15일) 오전 10시에 미팅을 제안합니다. 귀사 사무실에서 만나 이야기를 나눌 수 있을까요?\n",
    "\n",
    "감사합니다.\n",
    "\n",
    "김철수\n",
    "상무이사\n",
    "바이크코퍼레이션\n",
    "\"\"\""
   ]
  },
  {
   "cell_type": "code",
   "execution_count": 3,
   "id": "f0ac4120",
   "metadata": {},
   "outputs": [
    {
     "name": "stdout",
     "output_type": "stream",
     "text": [
      "---출력파서 없는 요약---\n",
      "1. 발신자: 김철수 상무 (바이크코퍼레이션)  \n",
      "2. 수신자: 이은채 대리님 (Teddy International)  \n",
      "3. 요청사항: \"ZENESIS\" 자전거의 상세 브로슈어(기술 사양, 배터리 성능, 디자인 정보) 요청  \n",
      "4. 미팅 일시 및 장소: 1월 15일(화요일) 오전 10시, 귀사 사무실에서 협력 논의 예정\n"
     ]
    }
   ],
   "source": [
    "from langchain_core.prompts import PromptTemplate\n",
    "\n",
    "prompt = PromptTemplate.from_template(\n",
    "    '아래 이메일 내용중 중요한 것만 추출해.\\n\\n---\\n\\n{email_conversation}'\n",
    ")\n",
    "\n",
    "# print(prompt.format(email_conversation=email_conversation))\n",
    "chain = prompt | llm \n",
    "\n",
    "print('---출력파서 없는 요약---')\n",
    "print(chain.invoke({'email_conversation': email_conversation}).content)"
   ]
  },
  {
   "cell_type": "code",
   "execution_count": 4,
   "id": "68dc95bd",
   "metadata": {},
   "outputs": [
    {
     "name": "stdout",
     "output_type": "stream",
     "text": [
      "The output should be formatted as a JSON instance that conforms to the JSON schema below.\n",
      "\n",
      "As an example, for the schema {\"properties\": {\"foo\": {\"title\": \"Foo\", \"description\": \"a list of strings\", \"type\": \"array\", \"items\": {\"type\": \"string\"}}}, \"required\": [\"foo\"]}\n",
      "the object {\"foo\": [\"bar\", \"baz\"]} is a well-formatted instance of the schema. The object {\"properties\": {\"foo\": [\"bar\", \"baz\"]}} is not well-formatted.\n",
      "\n",
      "Here is the output schema:\n",
      "```\n",
      "{\"properties\": {\"person\": {\"description\": \"메일 보낸 사람\", \"title\": \"Person\", \"type\": \"string\"}, \"email\": {\"description\": \"보낸사람의 메일주소\", \"title\": \"Email\", \"type\": \"string\"}, \"subject\": {\"description\": \"메일 제목\", \"title\": \"Subject\", \"type\": \"string\"}, \"summary\": {\"description\": \"메일 본문 요약\", \"title\": \"Summary\", \"type\": \"string\"}, \"date\": {\"description\": \"메일에 언급된 미팅 날짜와 시간\", \"title\": \"Date\", \"type\": \"string\"}}, \"required\": [\"person\", \"email\", \"subject\", \"summary\", \"date\"]}\n",
      "```\n"
     ]
    }
   ],
   "source": [
    "class EmailSummary(BaseModel):\n",
    "    person: str = Field(description='메일 보낸 사람')\n",
    "    email: str = Field(description='보낸사람의 메일주소')\n",
    "    subject: str = Field(description='메일 제목')\n",
    "    summary: str = Field(description='메일 본문 요약')\n",
    "    date: str = Field(description='메일에 언급된 미팅 날짜와 시간')\n",
    "\n",
    "parser = PydanticOutputParser(pydantic_object=EmailSummary)\n",
    "print(parser.get_format_instructions())"
   ]
  },
  {
   "cell_type": "code",
   "execution_count": 5,
   "id": "4df06fe6",
   "metadata": {},
   "outputs": [],
   "source": [
    "prompt = PromptTemplate.from_template(\n",
    "    \"\"\"\n",
    "너는 요약의 신 어시스턴트야. 아래 질문에 맞게 답변을 한국어로 만들어줘\n",
    "\n",
    "질문: {question}\n",
    "\n",
    "이메일 내용: {email_conversation}\n",
    "\n",
    "형식: {format}\n",
    "\n",
    "\"\"\"\n",
    ")\n",
    "\n",
    "# 프롬프트 변수들중 일부만 채우기\n",
    "prompt = prompt.partial(format=parser.get_format_instructions())"
   ]
  },
  {
   "cell_type": "code",
   "execution_count": 6,
   "id": "6edeaded",
   "metadata": {},
   "outputs": [
    {
     "data": {
      "text/plain": [
       "EmailSummary(person='김철수 상무', email='chulsoo.kim@bikecorporation.me', subject='\"ZENESIS\" 자전거 유통 협력 및 미팅 일정 제안', summary=\"김철수 상무는 이은채 대리에게 'ZENESIS' 자전거에 대한 상세 정보 요청과 함께, 1월 15일 오전 10시에 사무실에서 협력 미팅을 제안하고 있습니다.\", date='1월 15일 오전 10시')"
      ]
     },
     "execution_count": 6,
     "metadata": {},
     "output_type": "execute_result"
    }
   ],
   "source": [
    "chain = prompt | llm | parser\n",
    "\n",
    "res = chain.invoke(\n",
    "    {\n",
    "        'question': '이메일 내용중 중요한 내용을 추출해 줘!',\n",
    "        'email_conversation': email_conversation\n",
    "    }\n",
    ")\n",
    "\n",
    "res"
   ]
  },
  {
   "cell_type": "code",
   "execution_count": 7,
   "id": "894cb3ab",
   "metadata": {},
   "outputs": [
    {
     "name": "stdout",
     "output_type": "stream",
     "text": [
      "{'date': '1월 15일 오전 10시',\n",
      " 'email': 'chulsoo.kim@bikecorporation.me',\n",
      " 'person': '김철수 상무',\n",
      " 'subject': '\"ZENESIS\" 자전거 유통 협력 및 미팅 일정 제안',\n",
      " 'summary': \"김철수 상무는 이은채 대리에게 'ZENESIS' 자전거에 대한 상세 정보 요청과 함께, 1월 15일 오전 10시에 \"\n",
      "            '사무실에서 협력 미팅을 제안하고 있습니다.'}\n"
     ]
    }
   ],
   "source": [
    "from pprint import pprint\n",
    "pprint(res.model_dump())"
   ]
  },
  {
   "cell_type": "markdown",
   "id": "61d1209f",
   "metadata": {},
   "source": [
    "## CSV Parser"
   ]
  },
  {
   "cell_type": "code",
   "execution_count": 18,
   "id": "633f7b03",
   "metadata": {},
   "outputs": [
    {
     "name": "stdout",
     "output_type": "stream",
     "text": [
      "Your response should be a list of comma separated values, eg: `foo, bar, baz` or `foo,bar,baz`\n",
      "---\n",
      "List 5 중국집대표메뉴.\n",
      "Your response should be a list of comma separated values, eg: `foo, bar, baz` or `foo,bar,baz`\n"
     ]
    }
   ],
   "source": [
    "from langchain_core.output_parsers import CommaSeparatedListOutputParser\n",
    "\n",
    "output_parser = CommaSeparatedListOutputParser()\n",
    "\n",
    "print(output_parser.get_format_instructions())\n",
    "\n",
    "prompt = PromptTemplate(\n",
    "    template='List 5 {subject}.\\n{format_instructions}',\n",
    "    input_variables=['subject'],\n",
    "    partial_variables={'format_instructions': output_parser.get_format_instructions()}\n",
    ")\n",
    "print('---')\n",
    "print(prompt.format(subject='중국집대표메뉴'))\n",
    "\n",
    "chain1 = prompt | llm\n",
    "csv_res = chain1.invoke({'subject': '맥도날드 대표메뉴'}).content\n",
    "\n",
    "chain2 = prompt | llm | output_parser\n",
    "\n",
    "list_res = chain2.invoke({'subject': '중국집대표메뉴'})"
   ]
  },
  {
   "cell_type": "code",
   "execution_count": 19,
   "id": "ed8aac4b",
   "metadata": {},
   "outputs": [
    {
     "name": "stdout",
     "output_type": "stream",
     "text": [
      "Big Mac, Quarter Pounder, Chicken McNuggets, McChicken, Filet-O-Fish\n",
      "['짜장면', '짬뽕', '탕수육', '간짜장', '군만두']\n"
     ]
    }
   ],
   "source": [
    "print(csv_res)\n",
    "print(list_res)"
   ]
  },
  {
   "cell_type": "markdown",
   "id": "df32ce7e",
   "metadata": {},
   "source": [
    "## Structured Output Parser\n",
    "\n",
    "- dict 형식 -> 멍청한 모델에도 적용 가능"
   ]
  },
  {
   "cell_type": "code",
   "execution_count": null,
   "id": "16c769d5",
   "metadata": {},
   "outputs": [],
   "source": [
    "from langchain.output_parsers import ResponseSchema, StructuredOutputParser"
   ]
  },
  {
   "cell_type": "code",
   "execution_count": null,
   "id": "6163213c",
   "metadata": {},
   "outputs": [],
   "source": [
    "response_schema = [\n",
    "    ResponseSchema(name='answer', type='사용자의 질문에 대한 답변'),\n",
    "    ResponseSchema(name='source', description='질문에 답하기 위해 사용된 \"출처\", ')\n",
    "]"
   ]
  },
  {
   "cell_type": "markdown",
   "id": "8c9cc23a",
   "metadata": {},
   "source": [
    "## DataFrame Output Parser\n",
    "- 원하는 Dataframe을 분석할 수 있음.\n",
    "- 답변 또한 판다스 DF로 반환"
   ]
  },
  {
   "cell_type": "code",
   "execution_count": 51,
   "id": "aef71065",
   "metadata": {},
   "outputs": [],
   "source": [
    "from langchain.output_parsers import PandasDataFrameOutputParser\n",
    "import seaborn as sns\n",
    "\n",
    "titanic_df = sns.load_dataset('titanic')"
   ]
  },
  {
   "cell_type": "code",
   "execution_count": 52,
   "id": "79b4f485",
   "metadata": {},
   "outputs": [
    {
     "name": "stdout",
     "output_type": "stream",
     "text": [
      "The output should be formatted as a string as the operation, followed by a colon, followed by the column or row to be queried on, followed by optional array parameters.\n",
      "1. The column names are limited to the possible columns below.\n",
      "2. Arrays must either be a comma-separated list of numbers formatted as [1,3,5], or it must be in range of numbers formatted as [0..4].\n",
      "3. Remember that arrays are optional and not necessarily required.\n",
      "4. If the column is not in the possible columns or the operation is not a valid Pandas DataFrame operation, return why it is invalid as a sentence starting with either \"Invalid column\" or \"Invalid operation\".\n",
      "\n",
      "As an example, for the formats:\n",
      "1. String \"column:num_legs\" is a well-formatted instance which gets the column num_legs, where num_legs is a possible column.\n",
      "2. String \"row:1\" is a well-formatted instance which gets row 1.\n",
      "3. String \"column:num_legs[1,2]\" is a well-formatted instance which gets the column num_legs for rows 1 and 2, where num_legs is a possible column.\n",
      "4. String \"row:1[num_legs]\" is a well-formatted instance which gets row 1, but for just column num_legs, where num_legs is a possible column.\n",
      "5. String \"mean:num_legs[1..3]\" is a well-formatted instance which takes the mean of num_legs from rows 1 to 3, where num_legs is a possible column and mean is a valid Pandas DataFrame operation.\n",
      "6. String \"do_something:num_legs\" is a badly-formatted instance, where do_something is not a valid Pandas DataFrame operation.\n",
      "7. String \"mean:invalid_col\" is a badly-formatted instance, where invalid_col is not a possible column.\n",
      "\n",
      "Here are the possible columns:\n",
      "```\n",
      "survived, pclass, sex, age, sibsp, parch, fare, embarked, class, who, adult_male, deck, embark_town, alive, alone\n",
      "```\n",
      "\n"
     ]
    }
   ],
   "source": [
    "parser = PandasDataFrameOutputParser(dataframe=titanic_df)\n",
    "\n",
    "print(parser.get_format_instructions())"
   ]
  },
  {
   "cell_type": "code",
   "execution_count": 54,
   "id": "cee9872a",
   "metadata": {},
   "outputs": [],
   "source": [
    "prompt = PromptTemplate(\n",
    "    template='Answer the user query.\\n{format_instructions}\\n{query}',\n",
    "    input_variables=['query'],\n",
    "    partial_variables={'format_instructions': parser.get_format_instructions()},\n",
    ")\n",
    "\n",
    "chain = prompt | llm | parser"
   ]
  },
  {
   "cell_type": "code",
   "execution_count": 55,
   "id": "a247d05d",
   "metadata": {},
   "outputs": [
    {
     "name": "stdout",
     "output_type": "stream",
     "text": [
      "0      22.0\n",
      "1      38.0\n",
      "2      26.0\n",
      "3      35.0\n",
      "4      35.0\n",
      "       ... \n",
      "886    27.0\n",
      "887    19.0\n",
      "888     NaN\n",
      "889    26.0\n",
      "890    32.0\n",
      "Name: age, Length: 891, dtype: float64\n"
     ]
    }
   ],
   "source": [
    "res = chain.invoke({'query': 'age 컬럼을 조회해 줘'})\n",
    "print(res['age'])  # Sereis"
   ]
  },
  {
   "cell_type": "code",
   "execution_count": 56,
   "id": "05dd8c17",
   "metadata": {},
   "outputs": [
    {
     "data": {
      "text/plain": [
       "np.float64(29.69911764705882)"
      ]
     },
     "execution_count": 56,
     "metadata": {},
     "output_type": "execute_result"
    }
   ],
   "source": [
    "res = chain.invoke({'query': 'age 컬럼의 평균을 구해줘'})\n",
    "res['mean']"
   ]
  },
  {
   "cell_type": "code",
   "execution_count": 57,
   "id": "589d66cf",
   "metadata": {},
   "outputs": [
    {
     "data": {
      "text/plain": [
       "np.float64(32.204207968574636)"
      ]
     },
     "execution_count": 57,
     "metadata": {},
     "output_type": "execute_result"
    }
   ],
   "source": [
    "res = chain.invoke({'query': 'fare 컬럼 평균을 구해줘'})\n",
    "res['mean']"
   ]
  },
  {
   "cell_type": "markdown",
   "id": "c0abc0f8",
   "metadata": {},
   "source": [
    "## Datetime Output Parser\n",
    "- 날짜 출력용"
   ]
  },
  {
   "cell_type": "code",
   "execution_count": 49,
   "id": "e772a256",
   "metadata": {},
   "outputs": [],
   "source": [
    "from langchain.output_parsers import DatetimeOutputParser\n",
    "\n",
    "parser = DatetimeOutputParser(format='%Y-%m-%d')\n",
    "\n",
    "prompt = PromptTemplate(\n",
    "    template='사용자 질문에 답해라.\\n{format_instructions}\\n{question}',\n",
    "    input_variables=['question'],\n",
    "    partial_variables={\n",
    "        'format_instructions': parser.get_format_instructions()\n",
    "    }\n",
    ")"
   ]
  },
  {
   "cell_type": "code",
   "execution_count": 50,
   "id": "ce6d7f28",
   "metadata": {},
   "outputs": [
    {
     "data": {
      "text/plain": [
       "datetime.datetime(2024, 9, 7, 0, 0)"
      ]
     },
     "execution_count": 50,
     "metadata": {},
     "output_type": "execute_result"
    }
   ],
   "source": [
    "chain = prompt | llm | parser\n",
    "# datetime 인스턴스로 만들어 줌!\n",
    "chain.invoke({'question': '내가 로또를 사서 당첨될 미래의 날(토요일)은?'})"
   ]
  },
  {
   "cell_type": "markdown",
   "id": "53daacdf",
   "metadata": {},
   "source": [
    "## Enum Output Parser (Enumerated Type -> 열거형)\n",
    "\n",
    "- 정해진 목록중에 답을 고르도록"
   ]
  },
  {
   "cell_type": "code",
   "execution_count": null,
   "id": "07007435",
   "metadata": {},
   "outputs": [
    {
     "name": "stdout",
     "output_type": "stream",
     "text": [
      "8\n"
     ]
    }
   ],
   "source": [
    "from langchain.output_parsers import EnumOutputParser\n",
    "from enum import Enum\n",
    "\n",
    "llm = ChatOpenAI(model='gpt-4.1-nano')\n",
    "\n",
    "class Colors(Enum):\n",
    "    RED = '빨간색'\n",
    "    GREEN = '초록색'\n",
    "    BLUE = '파란색'\n",
    "    # YELLOW = '노란색'\n",
    "\n",
    "\n",
    "parser = EnumOutputParser(enum=Colors)\n",
    "\n",
    "prompt = PromptTemplate(\n",
    "    template='다음 물체는 어느색깔에 가깝나요?\\n{object}\\n\\n*Instructions*: {instructions}',\n",
    "    input_variables=['object'],\n",
    "    partial_variables={'instructions': parser.get_format_instructions()}\n",
    ")\n",
    "\n",
    "chain = prompt | llm | parser\n",
    "\n",
    "chain.invoke({'object': '병아리'})"
   ]
  }
 ],
 "metadata": {
  "kernelspec": {
   "display_name": "Python 3",
   "language": "python",
   "name": "python3"
  },
  "language_info": {
   "codemirror_mode": {
    "name": "ipython",
    "version": 3
   },
   "file_extension": ".py",
   "mimetype": "text/x-python",
   "name": "python",
   "nbconvert_exporter": "python",
   "pygments_lexer": "ipython3",
   "version": "3.13.4"
  }
 },
 "nbformat": 4,
 "nbformat_minor": 5
}
