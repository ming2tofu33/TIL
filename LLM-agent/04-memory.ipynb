{
 "cells": [
  {
   "cell_type": "markdown",
   "id": "f01e00de",
   "metadata": {},
   "source": [
    "# `04-memory`\n",
    "\n",
    "# Memtory (대화 내용 기억)\n",
    " \n",
    "- 대화 내용 기억\n",
    "- LLM은 기본적으로 대화 내용을 기억하지 않는다 (stateless)\n",
    "- 이전 대화 내용을 계속 프롬프트에 주입해야 함\n",
    "\n",
    "1. Short-Term Memory\n",
    "    - 단기기억: 한 대화 세션에 대한 기억\n",
    "2. Long-Term Memory\n",
    "    - 장기기억: 전체 세션에서 추출한 중요한 정보\n",
    "\n",
    "## Memory 구동 방식\n",
    "1. 메모리는 기본적으로 모든 대화 내역을 LLM Input에 밀어 넣는 것.\n",
    "2. 이 때 대화가 길어지면 토큰 수 증가 및 성능 하락이 일어남\n",
    "3. 개선 방식 컨셉\n",
    "    1. 요약\n",
    "    2. 적정 길이에서 앞부분 자르기\n",
    "    3. 정리(특정 명사들로 정리, Node-Edge 그래프 방식 등)"
   ]
  },
  {
   "cell_type": "markdown",
   "id": "a34d83a7",
   "metadata": {},
   "source": [
    "## ConverstionBufferMemory\n",
    "\n",
    "- 메시지 저장 -> 변수에서 추출 가능"
   ]
  },
  {
   "cell_type": "code",
   "execution_count": 17,
   "id": "ca104f00",
   "metadata": {},
   "outputs": [
    {
     "data": {
      "text/plain": [
       "{'chat_history': []}"
      ]
     },
     "execution_count": 17,
     "metadata": {},
     "output_type": "execute_result"
    }
   ],
   "source": [
    "\n",
    "from langchain.memory import ConversationBufferMemory\n",
    "from langchain_core.prompts import ChatPromptTemplate, MessagesPlaceholder\n",
    "from langchain_core.runnables import RunnableLambda, RunnablePassthrough\n",
    "from langchain_openai import ChatOpenAI\n",
    "\n",
    "llm = ChatOpenAI(model='gpt-4.1-nano', temperature=0)\n",
    "\n",
    "prompt = ChatPromptTemplate(\n",
    "    [\n",
    "        ('system', '넌 유용한 챗봇이야'),\n",
    "        MessagesPlaceholder(variable_name='chat_history'),  # 기존 채팅 내역을 다 주입\n",
    "        ('human', '{input}'),\n",
    "    ]\n",
    ")\n",
    "\n",
    "memory = ConversationBufferMemory(return_messages=True, memory_key='chat_history')\n",
    "\n",
    "# 메모리를 저장할 변수는 {}다. 기존에 대화내용이 있다면 불러와라\n",
    "memory.load_memory_variables({})"
   ]
  },
  {
   "cell_type": "code",
   "execution_count": 18,
   "id": "e9622450",
   "metadata": {},
   "outputs": [],
   "source": [
    "from operator import itemgetter\n",
    "# `chat_history`변수에, load_memory_var 결과를 저장하고, `chat_history 키를 추출`\n",
    "runnable = RunnablePassthrough.assign(\n",
    "    chat_history=RunnableLambda(memory.load_memory_variables) |\n",
    "    itemgetter('chat_history')\n",
    ")"
   ]
  },
  {
   "cell_type": "code",
   "execution_count": 19,
   "id": "712f7bb0",
   "metadata": {},
   "outputs": [],
   "source": [
    "chain = runnable | prompt | llm "
   ]
  },
  {
   "cell_type": "code",
   "execution_count": 20,
   "id": "ff5888ec",
   "metadata": {},
   "outputs": [],
   "source": [
    "res = chain.invoke({'input': '만나서 반가워'})"
   ]
  },
  {
   "cell_type": "code",
   "execution_count": 21,
   "id": "40eba13a",
   "metadata": {},
   "outputs": [],
   "source": [
    "memory.save_context(\n",
    "    {'human': '만나서 반가워'},\n",
    "    {'ai': res.content}\n",
    ")"
   ]
  },
  {
   "cell_type": "code",
   "execution_count": 22,
   "id": "c3390a02",
   "metadata": {},
   "outputs": [],
   "source": [
    "my_message = '내 이름 뭐라고?'\n",
    "res = chain.invoke({'input': my_message})\n",
    "memory.save_context(\n",
    "    {'human': my_message},\n",
    "    {'ai': res.content}\n",
    ")"
   ]
  },
  {
   "cell_type": "code",
   "execution_count": 23,
   "id": "aefcf5cc",
   "metadata": {},
   "outputs": [
    {
     "data": {
      "text/plain": [
       "{'chat_history': [HumanMessage(content='만나서 반가워', additional_kwargs={}, response_metadata={}),\n",
       "  AIMessage(content='저도 만나서 반가워요! 어떻게 도와드릴까요?', additional_kwargs={}, response_metadata={}),\n",
       "  HumanMessage(content='내 이름 뭐라고?', additional_kwargs={}, response_metadata={}),\n",
       "  AIMessage(content='죄송하지만, 아직 당신의 이름을 모르겠어요. 이름을 알려주시면 기억해둘게요!', additional_kwargs={}, response_metadata={})]}"
      ]
     },
     "execution_count": 23,
     "metadata": {},
     "output_type": "execute_result"
    }
   ],
   "source": [
    "memory.load_memory_variables({})"
   ]
  },
  {
   "cell_type": "code",
   "execution_count": 25,
   "id": "72d862f3",
   "metadata": {},
   "outputs": [
    {
     "name": "stdout",
     "output_type": "stream",
     "text": [
      "인간:  난 데이터 분석가야\n",
      "AI: 아, 데이터 분석가시구나. 어떤 프로젝트나 데이터에 대해 이야기하고 싶어?\n",
      "---\n",
      "인간:  너가 아이디어 좀 줘봐\n",
      "AI: 아이디어를 원하시는군요. 어떤 분야나 목적에 맞는 데이터 분석 아이디어를 찾고 계신가요? 예를 들어, 고객 분석, 판매 예측, 소셜 미디어 분석 등 구체적인 분야를 알려주시면 더 적합한 아이디어를 드릴 수 있어요.\n",
      "---\n",
      "인간:  카페\n",
      "AI: 카페 관련 데이터 분석 아이디어를 원하시는군요. 좀 더 구체적으로 어떤 목표를 가지고 싶은지 알려주시면 좋겠어요. 예를 들어, 고객 행동 분석, 매출 증대 방안, 메뉴 최적화, 고객 만족도 향상 등 어떤 방향이든 맞춰서 아이디어를 드릴 수 있어요.\n",
      "---\n",
      "인간:  카페 상권\n",
      "AI: 카페 상권 분석이라니, 꽤 흥미로운 주제군요. 어떤 구체적인 목표가 있나요? 예를 들어, 신규 매장 입지 선정, 경쟁 분석, 고객 유입 패턴 파악, 매출 예측 등. 그에 맞는 데이터 분석 아이디어를 제시해 드릴게요.\n",
      "---\n",
      "인간:  그만할래\n",
      "AI: 알겠어요. 필요하면 언제든 다시 이야기하자고요.\n",
      "---\n",
      "인간:  그만\n",
      "AI: 알겠습니다. 언제든 필요하시면 말씀하세요.\n",
      "---\n"
     ]
    }
   ],
   "source": [
    "import time\n",
    "from operator import itemgetter\n",
    "from langchain.memory import ConversationBufferMemory\n",
    "from langchain_core.prompts import ChatPromptTemplate, MessagesPlaceholder\n",
    "from langchain_core.runnables import RunnableLambda, RunnablePassthrough\n",
    "from langchain_core.output_parsers import PydanticOutputParser, StrOutputParser\n",
    "from langchain_openai import ChatOpenAI\n",
    "from pydantic import BaseModel, Field\n",
    "\n",
    "# LLM\n",
    "llm = ChatOpenAI(model='gpt-4.1-nano', temperature=0)\n",
    "\n",
    "\n",
    "# Prompt\n",
    "prompt = ChatPromptTemplate(\n",
    "    [\n",
    "        ('system', '넌 좀 틱틱대는 챗봇이야. '),\n",
    "        MessagesPlaceholder(variable_name='chat_history'),  # 기존 채팅 내역을 다 주입\n",
    "        ('human', '{input}'),\n",
    "    ]\n",
    ")\n",
    "\n",
    "# Memory\n",
    "memory = ConversationBufferMemory(return_messages=True, memory_key='chat_history')\n",
    "\n",
    "runnable = RunnablePassthrough.assign(\n",
    "    chat_history=RunnableLambda(memory.load_memory_variables) |\n",
    "    itemgetter('chat_history')\n",
    ")\n",
    "\n",
    "chain = runnable | prompt | llm | StrOutputParser()\n",
    "\n",
    "# 메세지 스트리밍 하는 함수\n",
    "def stream_msg(chain, msg):\n",
    "    full_msg = ''\n",
    "    print('AI: ', end='')\n",
    "    for token in chain.stream({'input': msg}):\n",
    "        full_msg += token\n",
    "        print(token, end='', flush=True)\n",
    "    print('\\n---')\n",
    "    return full_msg\n",
    "\n",
    "input_msg = ''\n",
    "\n",
    "# 사용자가 ('quit', '정지', '그만') 중에 하나를 입력하면 대화 종료\n",
    "while input_msg not in ('quit', '정지', '그만'):\n",
    "    input_msg = input()\n",
    "    print('인간: ', input_msg)\n",
    "    output_msg = stream_msg(chain, input_msg)\n",
    "    memory.save_context(\n",
    "        {'human': input_msg},\n",
    "        {'ai': output_msg}\n",
    "    )\n",
    "    time.sleep(0.5)"
   ]
  },
  {
   "cell_type": "code",
   "execution_count": 27,
   "id": "f01fa910",
   "metadata": {},
   "outputs": [],
   "source": [
    "# 레포트 작성 챗봇\n",
    "from operator import itemgetter\n",
    "from pprint import pprint\n",
    "from pydantic import BaseModel, Field\n",
    "\n",
    "from langchain.memory import ConversationBufferMemory\n",
    "from langchain_core.prompts import ChatPromptTemplate, MessagesPlaceholder\n",
    "from langchain_core.runnables import RunnableLambda, RunnablePassthrough\n",
    "from langchain_core.output_parsers import PydanticOutputParser\n",
    "from langchain_openai import ChatOpenAI\n",
    "\n",
    "# LLM\n",
    "llm = ChatOpenAI(model='gpt-4.1-nano', temperature=0)\n",
    "\n",
    "# Output parser 정의\n",
    "class Report(BaseModel):\n",
    "    title: str = Field(..., description='보고서의 제목')\n",
    "    summary: str = Field(..., description='보고서 요약본')\n",
    "    content_kr: str = Field(..., description='한국어로 작성된 보고서의 내용(1000자 이내)')\n",
    "    content_jp: str = Field(..., description='영어로 작성된 보고서의 내용(1000자 이내)')\n",
    "\n",
    "parser = PydanticOutputParser(pydantic_object=Report)\n",
    "\n",
    "# Prompt에 format instructions 추가\n",
    "prompt = ChatPromptTemplate(\n",
    "    [\n",
    "        ('system', '넌 보고서 작성에 특화된 챗봇이야. '\n",
    "                   '반드시 지정된 형식에 맞춰 JSON으로 답변해.\\n\\nFORMAT INSTRUCTION: {format_instructions}'),\n",
    "        MessagesPlaceholder(variable_name='chat_history'),\n",
    "        ('human', '{input}'),\n",
    "    ]\n",
    ").partial(format_instructions=parser.get_format_instructions())\n",
    "\n",
    "# Memory\n",
    "memory = ConversationBufferMemory(return_messages=True, memory_key='chat_history')\n",
    "\n",
    "runnable = RunnablePassthrough.assign(\n",
    "    chat_history=RunnableLambda(memory.load_memory_variables) |\n",
    "    itemgetter('chat_history')\n",
    ")\n",
    "\n",
    "# 체인 구성\n",
    "chain = runnable | prompt | llm | parser\n",
    "\n",
    "input_msg = ''\n",
    "\n",
    "# 사용자가 ('quit', '정지', '그만', '') 중에 하나를 입력하면 대화 종료\n",
    "while 1:\n",
    "    input_msg = input()\n",
    "    if input_msg  in ('quit', '정지', '그만', ''):\n",
    "        break\n",
    "\n",
    "    print('인간: ', input_msg)\n",
    "    output_msg = chain.invoke({'input': input_msg})\n",
    "    pprint(output_msg.model_dump())\n",
    "    memory.save_context(\n",
    "        {'human': input_msg},\n",
    "        {'ai': output_msg.model_dump_json()}\n",
    "    )"
   ]
  }
 ],
 "metadata": {
  "kernelspec": {
   "display_name": "Python 3",
   "language": "python",
   "name": "python3"
  },
  "language_info": {
   "codemirror_mode": {
    "name": "ipython",
    "version": 3
   },
   "file_extension": ".py",
   "mimetype": "text/x-python",
   "name": "python",
   "nbconvert_exporter": "python",
   "pygments_lexer": "ipython3",
   "version": "3.13.4"
  }
 },
 "nbformat": 4,
 "nbformat_minor": 5
}
