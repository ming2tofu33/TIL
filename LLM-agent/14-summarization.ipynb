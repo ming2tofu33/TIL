{
 "cells": [
  {
   "cell_type": "markdown",
   "id": "9ea7777a",
   "metadata": {},
   "source": [
    "# `14-summarization.ipynb`\n",
    "\n",
    "# 요약 (Summarization)\n",
    "\n",
    "매우 많은 양의 컨텍스트가 있을 경우, 어떻게 요약을 해야 할까?\n",
    "1. 프롬프트에 다 때려 넣기\n",
    "2. Map-Reduce: 각 문서를 요약하고, 이것들을 다 합쳐서 최종 요약본을 만든다."
   ]
  },
  {
   "cell_type": "code",
   "execution_count": 46,
   "id": "6d314897",
   "metadata": {},
   "outputs": [
    {
     "data": {
      "text/plain": [
       "True"
      ]
     },
     "execution_count": 46,
     "metadata": {},
     "output_type": "execute_result"
    }
   ],
   "source": [
    "from dotenv import load_dotenv\n",
    "\n",
    "load_dotenv()"
   ]
  },
  {
   "cell_type": "code",
   "execution_count": 47,
   "id": "e0d2fe94",
   "metadata": {},
   "outputs": [
    {
     "name": "stdout",
     "output_type": "stream",
     "text": [
      "Note: you may need to restart the kernel to use updated packages.\n"
     ]
    },
    {
     "name": "stderr",
     "output_type": "stream",
     "text": [
      "\n",
      "[notice] A new release of pip is available: 25.1.1 -> 25.2\n",
      "[notice] To update, run: python.exe -m pip install --upgrade pip\n"
     ]
    }
   ],
   "source": [
    "%pip install -q arxiv"
   ]
  },
  {
   "cell_type": "code",
   "execution_count": 48,
   "id": "6e182ff2",
   "metadata": {},
   "outputs": [
    {
     "data": {
      "text/plain": [
       "2"
      ]
     },
     "execution_count": 48,
     "metadata": {},
     "output_type": "execute_result"
    }
   ],
   "source": [
    "from langchain_community.document_loaders import WebBaseLoader, ArxivLoader\n",
    "\n",
    "loader = ArxivLoader(\n",
    "    query='reasoning',\n",
    ")\n",
    "\n",
    "docs = loader.load()\n",
    "docs = docs[:2]\n",
    "len(docs)"
   ]
  },
  {
   "cell_type": "code",
   "execution_count": 49,
   "id": "9072fd7f",
   "metadata": {},
   "outputs": [],
   "source": [
    "from langchain_openai import ChatOpenAI\n",
    "\n",
    "llm = ChatOpenAI(model='gpt-4o', temperature=0)"
   ]
  },
  {
   "cell_type": "markdown",
   "id": "25b15642",
   "metadata": {},
   "source": [
    "## 문서 때려 넣기 (Stuff Docs)"
   ]
  },
  {
   "cell_type": "code",
   "execution_count": 50,
   "id": "f9a2e38b",
   "metadata": {},
   "outputs": [],
   "source": [
    "from langchain.chains.combine_documents import create_stuff_documents_chain\n",
    "from langchain_core.prompts import ChatPromptTemplate\n",
    "\n",
    "prompt = ChatPromptTemplate.from_messages([\n",
    "    ('system', '아래 내용을 정확하게 요약해: \\n\\n{context}')\n",
    "])\n",
    "\n",
    "chain = create_stuff_documents_chain(llm, prompt)\n",
    "\n",
    "res = chain.invoke({'context': docs})"
   ]
  },
  {
   "cell_type": "code",
   "execution_count": 51,
   "id": "cc866680",
   "metadata": {},
   "outputs": [
    {
     "name": "stdout",
     "output_type": "stream",
     "text": [
      "The paper \"Process or Result? Manipulated Ending Tokens Can Mislead Reasoning LLMs to Ignore the Correct Reasoning Steps\" explores the vulnerability of reasoning large language models (LLMs) to subtle errors in their input reasoning chains. The authors introduce a concept called \"Compromising Thought\" (CPT), where models presented with reasoning tokens containing manipulated calculation results tend to ignore correct reasoning steps and adopt incorrect results. Through systematic evaluation across multiple reasoning LLMs, the study reveals that models struggle significantly to identify and correct these manipulations. The research highlights that local ending token manipulations have a greater impact on reasoning outcomes than structural changes. Additionally, a security vulnerability in DeepSeek-R1 is discovered, where tampered reasoning tokens can trigger complete reasoning cessation. The study emphasizes the importance of understanding reasoning robustness and security considerations for reasoning-intensive applications.\n"
     ]
    }
   ],
   "source": [
    "print(res)"
   ]
  },
  {
   "cell_type": "markdown",
   "id": "39898392",
   "metadata": {},
   "source": [
    "## Map - Reduce\n",
    "- 각각 나눠서 요약하기"
   ]
  },
  {
   "cell_type": "code",
   "execution_count": 52,
   "id": "9f8acc15",
   "metadata": {},
   "outputs": [
    {
     "data": {
      "text/plain": [
       "3"
      ]
     },
     "execution_count": 52,
     "metadata": {},
     "output_type": "execute_result"
    }
   ],
   "source": [
    "from langchain_community.document_loaders import ArxivLoader\n",
    "\n",
    "loader = ArxivLoader(query='reasoning')\n",
    "docs = loader.load()\n",
    "len(docs)"
   ]
  },
  {
   "cell_type": "code",
   "execution_count": 53,
   "id": "56c1993d",
   "metadata": {},
   "outputs": [],
   "source": [
    "from langchain_community.document_loaders import WebBaseLoader\n",
    "\n",
    "loader = WebBaseLoader(\"https://lilianweng.github.io/posts/2023-06-23-agent/\")\n",
    "docs = loader.load()"
   ]
  },
  {
   "cell_type": "markdown",
   "id": "86524b65",
   "metadata": {},
   "source": [
    "### Langgrpah로 문서별 요약 작업 조율"
   ]
  },
  {
   "cell_type": "code",
   "execution_count": 54,
   "id": "9f0132a8",
   "metadata": {},
   "outputs": [
    {
     "name": "stderr",
     "output_type": "stream",
     "text": [
      "Created a chunk of size 1003, which is longer than the specified 1000\n"
     ]
    },
    {
     "data": {
      "text/plain": [
       "13"
      ]
     },
     "execution_count": 54,
     "metadata": {},
     "output_type": "execute_result"
    }
   ],
   "source": [
    "# 문서를 더 작은 문서로 쪼개기\n",
    "from langchain_text_splitters import CharacterTextSplitter\n",
    "\n",
    "text_splitter = CharacterTextSplitter.from_tiktoken_encoder(\n",
    "    chunk_size=1000,  # tiktoken 인코더라 토큰 기준 1000개\n",
    "    chunk_overlap=0,\n",
    ")\n",
    "\n",
    "split_docs = text_splitter.split_documents(docs)\n",
    "len(split_docs)"
   ]
  },
  {
   "cell_type": "code",
   "execution_count": 55,
   "id": "33dd1b63",
   "metadata": {},
   "outputs": [],
   "source": [
    "import operator\n",
    "from typing_extensions import Annotated, List, Literal, TypedDict\n",
    "\n",
    "from langchain.chains.combine_documents.reduce import acollapse_docs, split_list_of_docs\n",
    "from langchain_core.documents import Document\n",
    "from langgraph.types import Send\n",
    "from langgraph.graph import START, END, StateGraph\n",
    "\n",
    "\n",
    "# 전체적으로 사용할 State (Reduce)\n",
    "class OverallState(TypedDict):\n",
    "    contents: List[str]                         # 입력 문서 조각의 내용들\n",
    "    summaries: Annotated[list, operator.add]    # 각 contents의 요약본 (노드들이 여러개의 요약을 반환하면, 자동으로 리스트에 합쳐짐)\n",
    "    collapsed_summaries: List[Document]         # summaries를 Document로 포장한 것들\n",
    "    final_summary: str                          # 최종 요약본\n",
    "\n",
    "\n",
    "# 개별 문서를 처리할 State (Map)\n",
    "class SummaryState(TypedDict):\n",
    "    content: str    # 각 문서를 요약할 때 사용할 문서의 내용\n"
   ]
  },
  {
   "cell_type": "code",
   "execution_count": 56,
   "id": "ed05ec8b",
   "metadata": {},
   "outputs": [],
   "source": [
    "from langchain_core.prompts import ChatPromptTemplate\n",
    "\n",
    "TOKEN_MAX = 2000\n",
    "\n",
    "map_prmopt = ChatPromptTemplate.from_messages([\n",
    "    (\"system\", \"Write a concise summary of the following:\\\\n\\\\n{context}\")\n",
    "])\n",
    "\n",
    "reduce_template = \"\"\"\n",
    "The following is a set of summaries:\n",
    "{docs}\n",
    "Take these and distill it into a final, consolidated summary\n",
    "of the main themes. \n",
    "Answer in Korean.\n",
    "\"\"\"\n",
    "\n",
    "reduce_prompt = ChatPromptTemplate([\n",
    "    ('human', reduce_template)\n",
    "])\n"
   ]
  },
  {
   "cell_type": "code",
   "execution_count": 57,
   "id": "ddc095ee",
   "metadata": {},
   "outputs": [],
   "source": [
    "# Node, Router 아닌 실제 사용할 함수들\n",
    "\n",
    "async def _reduce(input: dict) -> str:\n",
    "    prompt = reduce_prompt.invoke(input)\n",
    "    res = await llm.ainvoke(prompt)\n",
    "    return res.content\n",
    "\n",
    "# documents 인자 내부의 모든 내용의 토큰 총 합\n",
    "def sum_docs_tokens(documents: List[Document]) -> int:\n",
    "    return sum(llm.get_num_tokens(doc.page_content) for doc in documents)"
   ]
  },
  {
   "cell_type": "code",
   "execution_count": 58,
   "id": "f179fa52",
   "metadata": {},
   "outputs": [],
   "source": [
    "# Edge (router) -> 각 원본조각을 요약할수 있게 generate_summary 로 보냄 (문서 조각 개수만큼)\n",
    "def map_summaries(state: OverallState):\n",
    "    result = []\n",
    "    for content in state['contents']:\n",
    "        result.append(Send('generate_summary', {'content': content}))\n",
    "    return result  # List Comprehension 으로 교체 가능\n",
    "\n",
    "\n",
    "# Edge (router) -> 재귀적으로 계속 collapse_suammries 를 할지, 끝낼지 결정하는 라우터\n",
    "def should_collapse(\n",
    "    state: OverallState,\n",
    ") -> Literal[\"collapse_summaries\", \"generate_final_summary\"]:\n",
    "    num_tokens = sum_docs_tokens(state[\"collapsed_summaries\"])\n",
    "    if num_tokens > TOKEN_MAX:\n",
    "        return \"collapse_summaries\"\n",
    "    else:\n",
    "        return \"generate_final_summary\"\n",
    "\n",
    "\n",
    "# Node: 주어진 내용을 요약함. (비동기적 실행)\n",
    "async def generate_summary(state: SummaryState):\n",
    "    prompt = map_prmopt.invoke({'context': state['content']})\n",
    "    res = await llm.ainvoke(prompt)\n",
    "    return {'summaries': [res.content]}\n",
    "\n",
    "\n",
    "# Node: 위에서 생성한 요약들을 Document() 객체로 만들어서 'collapsed_summaries' 키에 넣어줌\n",
    "def collect_summaries(state: OverallState):\n",
    "    return {\n",
    "        'collapsed_summaries': [Document(summary) for summary in state['summaries']]\n",
    "    }\n",
    "\n",
    "\n",
    "# Node: 1차 요약이 완료. -> 요약본이 토큰수가 너무 많을 수 있다 -> 필요에 따라 더 작은 요약으로 축소(collapse)\n",
    "async def collapse_summaries(state: OverallState):\n",
    "    docs_lists = split_list_of_docs(\n",
    "        state['collapsed_summaries'],\n",
    "        sum_docs_tokens,\n",
    "        TOKEN_MAX\n",
    "    )\n",
    "    results = []\n",
    "    for doc_list in docs_lists:\n",
    "        results.append(await acollapse_docs(doc_list, _reduce))\n",
    "\n",
    "    return {'collapsed_summaries': results}\n",
    "\n",
    "\n",
    "# Node: 최종 정리 노드\n",
    "async def generate_final_summary(state: OverallState):\n",
    "    response = await _reduce(state[\"collapsed_summaries\"])\n",
    "    return {\"final_summary\": response}"
   ]
  },
  {
   "cell_type": "code",
   "execution_count": 59,
   "id": "4c348959",
   "metadata": {},
   "outputs": [],
   "source": [
    "# Construct the graph\n",
    "# Nodes:\n",
    "graph = StateGraph(OverallState)\n",
    "graph.add_node(\"generate_summary\", generate_summary)  # same as before\n",
    "graph.add_node(\"collect_summaries\", collect_summaries)\n",
    "graph.add_node(\"collapse_summaries\", collapse_summaries)\n",
    "graph.add_node(\"generate_final_summary\", generate_final_summary)\n",
    "\n",
    "# Edges:\n",
    "graph.add_conditional_edges(START, map_summaries, [\"generate_summary\"])\n",
    "graph.add_edge(\"generate_summary\", \"collect_summaries\")\n",
    "graph.add_conditional_edges(\"collect_summaries\", should_collapse)\n",
    "graph.add_conditional_edges(\"collapse_summaries\", should_collapse)\n",
    "graph.add_edge(\"generate_final_summary\", END)\n",
    "\n",
    "app = graph.compile()"
   ]
  },
  {
   "cell_type": "code",
   "execution_count": 60,
   "id": "0746778b",
   "metadata": {},
   "outputs": [
    {
     "name": "stdout",
     "output_type": "stream",
     "text": [
      "{'generate_summary': {'summaries': [\"The system's finite context length limits its ability to incorporate historical information, detailed instructions, and responses, which affects its communication bandwidth. While vector stores can access a larger knowledge pool, they lack the representation power of full attention. Long-term planning and task decomposition are challenging for LLMs, as they struggle to adapt plans when encountering unexpected errors, unlike humans who learn from trial and error. The reliability of the natural language interface is also a concern, as LLMs may produce formatting errors or refuse to follow instructions, leading to a focus on parsing model output in agent demos.\"]}}\n",
      "{'generate_summary': {'summaries': ['The article \"LLM Powered Autonomous Agents\" by Lilian Weng discusses the concept of building autonomous agents using large language models (LLMs) as their core controllers. These agents are capable of more than just generating text; they can serve as general problem solvers. The system is composed of three main components: planning, memory, and tool use. Planning involves breaking down tasks into subgoals and refining actions through self-reflection. Memory is divided into short-term, which involves in-context learning, and long-term, which allows for retaining and recalling information over time. Tool use enables the agent to access external APIs for additional information. The article also highlights challenges and provides case studies and proof-of-concept examples, such as AutoGPT and BabyAGI, to illustrate the potential of LLM-powered agents.']}}\n",
      "{'generate_summary': {'summaries': ['The conversation involves a user instructing an AI assistant to create a detailed and functional code architecture for a game using Python. The assistant is guided to think step-by-step, laying out core classes, functions, and methods necessary for the game, which includes a model for game data, a view for visuals, and a controller for user input. The user emphasizes the importance of following best practices, ensuring compatibility between files, and providing complete code without placeholders. The assistant is also reminded to create appropriate dependency files like `requirements.txt` for Python. The conversation highlights the need for a structured approach to coding, ensuring all parts of the architecture are present and functional.']}}\n",
      "{'generate_summary': {'summaries': [\"HuggingGPT is a framework that involves task execution by expert models, which log results, and response generation by LLMs that summarize these results for users. The process involves user input, task planning, model selection, and task execution, with the AI assistant providing a straightforward response to the user's request. Challenges in real-world usage include improving efficiency, managing long context windows, and enhancing stability. API-Bank is a benchmark for evaluating tool-augmented LLMs, focusing on API call accuracy, retrieval, and planning. Case studies like ChemCrow demonstrate the use of LLMs with expert tools in scientific discovery, highlighting the limitations of LLMs in evaluating their own performance in specialized domains.\"]}}\n",
      "{'generate_summary': {'summaries': ['The text discusses advanced techniques for planning and self-reflection in complex tasks using large language models (LLMs). It highlights task decomposition methods like Chain of Thought (CoT) and Tree of Thoughts, which break down tasks into smaller steps and explore multiple reasoning paths. Another approach, LLM+P, uses an external planner with Planning Domain Definition Language (PDDL) for long-term planning. Self-reflection is emphasized as crucial for iterative improvement, with frameworks like ReAct and Reflexion integrating reasoning and action, and using dynamic memory to refine decision-making. These methods enhance model performance in knowledge-intensive and decision-making tasks by allowing for more efficient planning and error correction.']}}\n",
      "{'generate_summary': {'summaries': ['The document outlines a set of commands and resources available for performing various tasks, such as searching the internet, managing files, analyzing and improving code, and interacting with GPT-3.5 powered agents. Commands include actions like Google searching, browsing websites, cloning repositories, writing and reading files, executing Python files, generating images, and sending tweets. The resources available include internet access, long-term memory management, and GPT-3.5 agents for task delegation. Performance evaluation emphasizes continuous self-review, efficiency, and strategic refinement to ensure optimal task completion with minimal steps. The system is trained on data up to October 2023.']}}\n",
      "{'generate_summary': {'summaries': ['The text discusses a process of anticancer drug discovery, where a target is selected, a scaffold is requested, and synthesis is attempted once a compound is identified. It also highlights the risks associated with illicit drugs and bioweapons, with a test set developed to synthesize known chemical weapon agents. Out of 11 requests, 4 were accepted for synthesis, while 7 were rejected, with reasons varying from web search results to prompt-based rejections. The text then shifts to Generative Agents Simulation, an experiment with 25 virtual characters controlled by LLM-powered agents in a sandbox environment. These agents use memory, planning, and reflection mechanisms to simulate human behavior. The architecture includes a memory stream, retrieval model, reflection mechanism, and planning & reacting components. The simulation results in emergent social behaviors. Lastly, AutoGPT is mentioned as a proof-of-concept for autonomous agents with LLM as the main controller, highlighting its reliability issues and format parsing code.']}}\n",
      "{'generate_summary': {'summaries': ['The article \"LLM-powered Autonomous Agents\" by Lilian Weng, published in June 2023, discusses the development and capabilities of autonomous agents powered by large language models (LLMs). It references various studies and preprints that explore different aspects of LLMs, such as reasoning, problem-solving, planning proficiency, and the integration of external tools and knowledge sources. The article highlights the potential of LLMs in enhancing autonomous agents\\' abilities to perform complex tasks, interact with humans, and adapt to feedback. It also mentions advancements in vector similarity search and the use of LLMs in scientific research and chemistry. The article is part of a broader discussion on the steerability and prompting of language models.']}}\n",
      "{'generate_summary': {'summaries': ['The text discusses the use of external tools to enhance the capabilities of large language models (LLMs). It highlights the concept of tool use as a unique human trait and explores how equipping LLMs with external tools can extend their functionality. The MRKL system is introduced as a neuro-symbolic architecture that uses expert modules to handle specific tasks, with the LLM acting as a router. Experiments showed challenges in solving verbal math problems, emphasizing the importance of knowing when and how to use external tools. TALM and Toolformer are mentioned as models that learn to use external APIs, and ChatGPT Plugins and OpenAI API function calling are examples of practical tool use. HuggingGPT is a framework that uses ChatGPT for task planning and model selection, involving four stages: task planning, model selection, task execution, and response summarization. The system uses few-shot examples and a structured approach to parse user input, select models, and execute tasks.']}}\n",
      "{'generate_summary': {'summaries': ['```json\\n{\\n    \"thoughts\": {\\n        \"text\": \"The task involves creating a Super Mario game in Python using the MVC architecture, with components split into separate files and controlled via keyboard input. Clarification is needed on game specifics, MVC component distribution, and keyboard controls.\",\\n        \"reasoning\": \"Understanding the specifics of the game, how the MVC components are organized, and the keyboard controls are crucial for accurately implementing the task.\",\\n        \"plan\": \"- Clarify game specifics like level design and characters\\\\n- Understand how MVC components are distributed across files\\\\n- Determine keyboard control implementation details\",\\n        \"criticism\": \"I should ensure that all necessary details are clarified before proceeding to avoid assumptions that could lead to incorrect implementation.\",\\n        \"speak\": \"I need to clarify the specifics of the Super Mario game, the distribution of MVC components, and the keyboard controls to proceed effectively.\"\\n    },\\n    \"command\": {\\n        \"name\": \"clarify_task\",\\n        \"args\": {\\n            \"aspect\": \"MVC components distribution\"\\n        }\\n    }\\n}\\n```']}}\n",
      "{'generate_summary': {'summaries': ['Human memory is categorized into three main types: sensory memory, short-term memory (STM), and long-term memory (LTM). Sensory memory is the initial stage that retains sensory impressions for a few seconds and includes iconic (visual), echoic (auditory), and haptic (touch) memory. STM, or working memory, holds information temporarily for tasks like learning and reasoning, with a capacity of about 7 items lasting 20-30 seconds. LTM stores information for extended periods, potentially decades, with unlimited capacity, and includes explicit (declarative) memory for facts and events, and implicit (procedural) memory for skills. In computational terms, sensory memory is akin to learning raw input representations, STM to in-context learning with finite context, and LTM to an external vector store for fast retrieval. Maximum Inner Product Search (MIPS) optimizes retrieval speed using algorithms like LSH, ANNOY, HNSW, FAISS, and ScaNN, which balance accuracy and speed through various data structuring and search techniques.']}}\n",
      "{'generate_summary': {'summaries': ['Chain of Hindsight (CoH) is a method that improves model outputs by presenting a sequence of past outputs with feedback, allowing the model to self-reflect and produce better results. The process involves fine-tuning the model using human feedback data, which includes prompts, model completions, human ratings, and hindsight feedback. The model is trained to predict the best output based on this feedback sequence, with regularization to prevent overfitting and random masking to avoid copying. CoH uses datasets like WebGPT comparisons and human feedback for training. Algorithm Distillation (AD) applies a similar concept to reinforcement learning, using cross-episode trajectories to improve performance. AD learns from a history of interactions with the environment, aiming to develop a task-agnostic policy. It outperforms baselines by learning faster and achieving near-optimal performance using offline RL. Both CoH and AD focus on leveraging historical data to enhance model outputs and learning processes.']}}\n",
      "{'generate_summary': {'summaries': ['To create a fully functional Python project with a clear architecture, we will follow these steps:\\n\\n1. **Define Core Classes and Functions:**\\n   - **MainApp**: The entry point of the application.\\n   - **DataProcessor**: Handles data processing tasks.\\n   - **DataModel**: Represents the data structure using dataclasses.\\n   - **Utilities**: Contains helper functions.\\n   - **Tests**: Contains test cases for the application.\\n\\n2. **File Structure and Code Implementation:**\\n\\n   - **main.py**: The entry point of the application.\\n     ```python\\n     # main.py\\n     from data_processor import DataProcessor\\n     from data_model import DataModel\\n\\n     def main():\\n         # Initialize data model\\n         data = DataModel(name=\"Sample\", value=42)\\n         \\n         # Process data\\n         processor = DataProcessor()\\n         result = processor.process(data)\\n         \\n         print(f\"Processed Result: {result}\")\\n\\n     if __name__ == \"__main__\":\\n         main()\\n     ```\\n\\n   - **data_processor.py**: Contains the DataProcessor class.\\n     ```python\\n     # data_processor.py\\n     from data_model import DataModel\\n\\n     class DataProcessor:\\n         \"\"\"Processes data using various algorithms.\"\"\"\\n\\n         def process(self, data: DataModel) -> str:\\n             # Example processing logic\\n             return f\"Processed {data.name} with value {data.value}\"\\n     ```\\n\\n   - **data_model.py**: Defines the DataModel using dataclasses.\\n     ```python\\n     # data_model.py\\n     from dataclasses import dataclass\\n\\n     @dataclass\\n     class DataModel:\\n         \"\"\"Represents the data structure.\"\"\"\\n         name: str\\n         value: int\\n     ```\\n\\n   - **utilities.py**: Contains utility functions.\\n     ```python\\n     # utilities.py\\n     def helper_function():\\n         \"\"\"A helper function for various tasks.\"\"\"\\n         pass\\n     ```\\n\\n   - **test_main.py**: Contains test cases for the application.\\n     ```python\\n     # test_main.py\\n     import pytest\\n     from data_processor import DataProcessor\\n     from data_model import DataModel\\n\\n     def test_process():\\n         processor = DataProcessor()\\n         data = DataModel(name=\"Test\", value=100)\\n         result = processor.process(data)\\n         assert result == \"Processed Test with value 100\"\\n     ```\\n\\n3. **Dependencies:**\\n\\n   - **requirements.txt**: Lists the Python package dependencies.\\n     ```\\n     pytest\\n     dataclasses\\n     ```\\n\\n4. **Final Checks:**\\n   - Ensure all files are correctly named and imported.\\n   - Verify that the code is functional and follows best practices.\\n   - Confirm that the test cases cover the main functionality.\\n\\nThis setup provides a clear and maintainable architecture for a Python project, with a focus on data processing and testing.']}}\n",
      "{'collect_summaries': {'collapsed_summaries': [Document(metadata={}, page_content='The article \"LLM Powered Autonomous Agents\" by Lilian Weng discusses the concept of building autonomous agents using large language models (LLMs) as their core controllers. These agents are capable of more than just generating text; they can serve as general problem solvers. The system is composed of three main components: planning, memory, and tool use. Planning involves breaking down tasks into subgoals and refining actions through self-reflection. Memory is divided into short-term, which involves in-context learning, and long-term, which allows for retaining and recalling information over time. Tool use enables the agent to access external APIs for additional information. The article also highlights challenges and provides case studies and proof-of-concept examples, such as AutoGPT and BabyAGI, to illustrate the potential of LLM-powered agents.'), Document(metadata={}, page_content='The text discusses advanced techniques for planning and self-reflection in complex tasks using large language models (LLMs). It highlights task decomposition methods like Chain of Thought (CoT) and Tree of Thoughts, which break down tasks into smaller steps and explore multiple reasoning paths. Another approach, LLM+P, uses an external planner with Planning Domain Definition Language (PDDL) for long-term planning. Self-reflection is emphasized as crucial for iterative improvement, with frameworks like ReAct and Reflexion integrating reasoning and action, and using dynamic memory to refine decision-making. These methods enhance model performance in knowledge-intensive and decision-making tasks by allowing for more efficient planning and error correction.'), Document(metadata={}, page_content='Chain of Hindsight (CoH) is a method that improves model outputs by presenting a sequence of past outputs with feedback, allowing the model to self-reflect and produce better results. The process involves fine-tuning the model using human feedback data, which includes prompts, model completions, human ratings, and hindsight feedback. The model is trained to predict the best output based on this feedback sequence, with regularization to prevent overfitting and random masking to avoid copying. CoH uses datasets like WebGPT comparisons and human feedback for training. Algorithm Distillation (AD) applies a similar concept to reinforcement learning, using cross-episode trajectories to improve performance. AD learns from a history of interactions with the environment, aiming to develop a task-agnostic policy. It outperforms baselines by learning faster and achieving near-optimal performance using offline RL. Both CoH and AD focus on leveraging historical data to enhance model outputs and learning processes.'), Document(metadata={}, page_content='Human memory is categorized into three main types: sensory memory, short-term memory (STM), and long-term memory (LTM). Sensory memory is the initial stage that retains sensory impressions for a few seconds and includes iconic (visual), echoic (auditory), and haptic (touch) memory. STM, or working memory, holds information temporarily for tasks like learning and reasoning, with a capacity of about 7 items lasting 20-30 seconds. LTM stores information for extended periods, potentially decades, with unlimited capacity, and includes explicit (declarative) memory for facts and events, and implicit (procedural) memory for skills. In computational terms, sensory memory is akin to learning raw input representations, STM to in-context learning with finite context, and LTM to an external vector store for fast retrieval. Maximum Inner Product Search (MIPS) optimizes retrieval speed using algorithms like LSH, ANNOY, HNSW, FAISS, and ScaNN, which balance accuracy and speed through various data structuring and search techniques.'), Document(metadata={}, page_content='The text discusses the use of external tools to enhance the capabilities of large language models (LLMs). It highlights the concept of tool use as a unique human trait and explores how equipping LLMs with external tools can extend their functionality. The MRKL system is introduced as a neuro-symbolic architecture that uses expert modules to handle specific tasks, with the LLM acting as a router. Experiments showed challenges in solving verbal math problems, emphasizing the importance of knowing when and how to use external tools. TALM and Toolformer are mentioned as models that learn to use external APIs, and ChatGPT Plugins and OpenAI API function calling are examples of practical tool use. HuggingGPT is a framework that uses ChatGPT for task planning and model selection, involving four stages: task planning, model selection, task execution, and response summarization. The system uses few-shot examples and a structured approach to parse user input, select models, and execute tasks.'), Document(metadata={}, page_content=\"HuggingGPT is a framework that involves task execution by expert models, which log results, and response generation by LLMs that summarize these results for users. The process involves user input, task planning, model selection, and task execution, with the AI assistant providing a straightforward response to the user's request. Challenges in real-world usage include improving efficiency, managing long context windows, and enhancing stability. API-Bank is a benchmark for evaluating tool-augmented LLMs, focusing on API call accuracy, retrieval, and planning. Case studies like ChemCrow demonstrate the use of LLMs with expert tools in scientific discovery, highlighting the limitations of LLMs in evaluating their own performance in specialized domains.\"), Document(metadata={}, page_content='The text discusses a process of anticancer drug discovery, where a target is selected, a scaffold is requested, and synthesis is attempted once a compound is identified. It also highlights the risks associated with illicit drugs and bioweapons, with a test set developed to synthesize known chemical weapon agents. Out of 11 requests, 4 were accepted for synthesis, while 7 were rejected, with reasons varying from web search results to prompt-based rejections. The text then shifts to Generative Agents Simulation, an experiment with 25 virtual characters controlled by LLM-powered agents in a sandbox environment. These agents use memory, planning, and reflection mechanisms to simulate human behavior. The architecture includes a memory stream, retrieval model, reflection mechanism, and planning & reacting components. The simulation results in emergent social behaviors. Lastly, AutoGPT is mentioned as a proof-of-concept for autonomous agents with LLM as the main controller, highlighting its reliability issues and format parsing code.'), Document(metadata={}, page_content='The document outlines a set of commands and resources available for performing various tasks, such as searching the internet, managing files, analyzing and improving code, and interacting with GPT-3.5 powered agents. Commands include actions like Google searching, browsing websites, cloning repositories, writing and reading files, executing Python files, generating images, and sending tweets. The resources available include internet access, long-term memory management, and GPT-3.5 agents for task delegation. Performance evaluation emphasizes continuous self-review, efficiency, and strategic refinement to ensure optimal task completion with minimal steps. The system is trained on data up to October 2023.'), Document(metadata={}, page_content='```json\\n{\\n    \"thoughts\": {\\n        \"text\": \"The task involves creating a Super Mario game in Python using the MVC architecture, with components split into separate files and controlled via keyboard input. Clarification is needed on game specifics, MVC component distribution, and keyboard controls.\",\\n        \"reasoning\": \"Understanding the specifics of the game, how the MVC components are organized, and the keyboard controls are crucial for accurately implementing the task.\",\\n        \"plan\": \"- Clarify game specifics like level design and characters\\\\n- Understand how MVC components are distributed across files\\\\n- Determine keyboard control implementation details\",\\n        \"criticism\": \"I should ensure that all necessary details are clarified before proceeding to avoid assumptions that could lead to incorrect implementation.\",\\n        \"speak\": \"I need to clarify the specifics of the Super Mario game, the distribution of MVC components, and the keyboard controls to proceed effectively.\"\\n    },\\n    \"command\": {\\n        \"name\": \"clarify_task\",\\n        \"args\": {\\n            \"aspect\": \"MVC components distribution\"\\n        }\\n    }\\n}\\n```'), Document(metadata={}, page_content='To create a fully functional Python project with a clear architecture, we will follow these steps:\\n\\n1. **Define Core Classes and Functions:**\\n   - **MainApp**: The entry point of the application.\\n   - **DataProcessor**: Handles data processing tasks.\\n   - **DataModel**: Represents the data structure using dataclasses.\\n   - **Utilities**: Contains helper functions.\\n   - **Tests**: Contains test cases for the application.\\n\\n2. **File Structure and Code Implementation:**\\n\\n   - **main.py**: The entry point of the application.\\n     ```python\\n     # main.py\\n     from data_processor import DataProcessor\\n     from data_model import DataModel\\n\\n     def main():\\n         # Initialize data model\\n         data = DataModel(name=\"Sample\", value=42)\\n         \\n         # Process data\\n         processor = DataProcessor()\\n         result = processor.process(data)\\n         \\n         print(f\"Processed Result: {result}\")\\n\\n     if __name__ == \"__main__\":\\n         main()\\n     ```\\n\\n   - **data_processor.py**: Contains the DataProcessor class.\\n     ```python\\n     # data_processor.py\\n     from data_model import DataModel\\n\\n     class DataProcessor:\\n         \"\"\"Processes data using various algorithms.\"\"\"\\n\\n         def process(self, data: DataModel) -> str:\\n             # Example processing logic\\n             return f\"Processed {data.name} with value {data.value}\"\\n     ```\\n\\n   - **data_model.py**: Defines the DataModel using dataclasses.\\n     ```python\\n     # data_model.py\\n     from dataclasses import dataclass\\n\\n     @dataclass\\n     class DataModel:\\n         \"\"\"Represents the data structure.\"\"\"\\n         name: str\\n         value: int\\n     ```\\n\\n   - **utilities.py**: Contains utility functions.\\n     ```python\\n     # utilities.py\\n     def helper_function():\\n         \"\"\"A helper function for various tasks.\"\"\"\\n         pass\\n     ```\\n\\n   - **test_main.py**: Contains test cases for the application.\\n     ```python\\n     # test_main.py\\n     import pytest\\n     from data_processor import DataProcessor\\n     from data_model import DataModel\\n\\n     def test_process():\\n         processor = DataProcessor()\\n         data = DataModel(name=\"Test\", value=100)\\n         result = processor.process(data)\\n         assert result == \"Processed Test with value 100\"\\n     ```\\n\\n3. **Dependencies:**\\n\\n   - **requirements.txt**: Lists the Python package dependencies.\\n     ```\\n     pytest\\n     dataclasses\\n     ```\\n\\n4. **Final Checks:**\\n   - Ensure all files are correctly named and imported.\\n   - Verify that the code is functional and follows best practices.\\n   - Confirm that the test cases cover the main functionality.\\n\\nThis setup provides a clear and maintainable architecture for a Python project, with a focus on data processing and testing.'), Document(metadata={}, page_content='The conversation involves a user instructing an AI assistant to create a detailed and functional code architecture for a game using Python. The assistant is guided to think step-by-step, laying out core classes, functions, and methods necessary for the game, which includes a model for game data, a view for visuals, and a controller for user input. The user emphasizes the importance of following best practices, ensuring compatibility between files, and providing complete code without placeholders. The assistant is also reminded to create appropriate dependency files like `requirements.txt` for Python. The conversation highlights the need for a structured approach to coding, ensuring all parts of the architecture are present and functional.'), Document(metadata={}, page_content=\"The system's finite context length limits its ability to incorporate historical information, detailed instructions, and responses, which affects its communication bandwidth. While vector stores can access a larger knowledge pool, they lack the representation power of full attention. Long-term planning and task decomposition are challenging for LLMs, as they struggle to adapt plans when encountering unexpected errors, unlike humans who learn from trial and error. The reliability of the natural language interface is also a concern, as LLMs may produce formatting errors or refuse to follow instructions, leading to a focus on parsing model output in agent demos.\"), Document(metadata={}, page_content='The article \"LLM-powered Autonomous Agents\" by Lilian Weng, published in June 2023, discusses the development and capabilities of autonomous agents powered by large language models (LLMs). It references various studies and preprints that explore different aspects of LLMs, such as reasoning, problem-solving, planning proficiency, and the integration of external tools and knowledge sources. The article highlights the potential of LLMs in enhancing autonomous agents\\' abilities to perform complex tasks, interact with humans, and adapt to feedback. It also mentions advancements in vector similarity search and the use of LLMs in scientific research and chemistry. The article is part of a broader discussion on the steerability and prompting of language models.')]}}\n",
      "{'collapse_summaries': {'collapsed_summaries': [Document(metadata={}, page_content='이 문서들은 대규모 언어 모델(LLM)을 활용한 자율 에이전트 구축과 관련된 다양한 주제를 다루고 있습니다. 주요 내용은 다음과 같습니다:\\n\\n1. **자율 에이전트와 LLM**: LLM을 핵심 제어기로 사용하는 자율 에이전트는 단순한 텍스트 생성 이상의 문제 해결 능력을 갖추고 있습니다. 이 시스템은 계획, 메모리, 도구 사용의 세 가지 주요 구성 요소로 이루어져 있으며, AutoGPT와 BabyAGI와 같은 사례 연구를 통해 그 잠재력을 보여줍니다.\\n\\n2. **계획 및 자기 성찰**: 복잡한 작업을 위한 계획 및 자기 성찰 기법이 강조됩니다. Chain of Thought (CoT)와 Tree of Thoughts 같은 방법은 작업을 작은 단계로 나누고 다양한 추론 경로를 탐색합니다. LLM+P는 외부 계획자를 사용하여 장기 계획을 수행합니다.\\n\\n3. **기억 체계**: 인간의 기억은 감각 기억, 단기 기억, 장기 기억으로 나뉘며, 이는 컴퓨터 시스템에서 입력 표현 학습, 컨텍스트 내 학습, 외부 벡터 저장소로 비유됩니다.\\n\\n4. **도구 사용**: LLM의 기능을 확장하기 위해 외부 도구를 사용하는 것이 강조됩니다. MRKL 시스템과 HuggingGPT는 이러한 도구 사용의 예시로, 특정 작업을 처리하기 위해 전문가 모듈을 활용합니다.\\n\\n5. **자기 성찰과 알고리즘 증류**: Chain of Hindsight (CoH)와 알고리즘 증류(AD)는 과거 데이터를 활용하여 모델 출력을 개선하는 방법입니다. CoH는 인간 피드백 데이터를 사용하여 모델을 미세 조정하고, AD는 강화 학습에서 상호작용 기록을 통해 성능을 향상시킵니다.\\n\\n6. **실험 및 사례 연구**: Generative Agents Simulation과 같은 실험은 LLM 기반 에이전트가 인간 행동을 시뮬레이션하는 방법을 보여줍니다. 또한, ChemCrow와 같은 사례 연구는 과학적 발견에서 LLM의 한계를 강조합니다.\\n\\n이러한 주제들은 LLM의 다양한 응용 가능성과 그에 따른 도전 과제를 탐구하며, 자율 에이전트의 발전 가능성을 제시합니다.'), Document(metadata={}, page_content='이 요약들은 주로 Python 프로젝트 아키텍처와 LLM(대형 언어 모델)을 활용한 자율 에이전트에 관한 내용을 다루고 있습니다. 첫 번째 문서는 Python 프로젝트를 위한 명확하고 유지보수 가능한 아키텍처를 설계하는 방법을 설명하며, 핵심 클래스와 함수, 파일 구조, 테스트 케이스, 의존성 관리 등을 강조합니다. 두 번째 문서는 게임 개발을 위한 Python 코드 아키텍처를 단계별로 설계하는 과정을 다루며, 모범 사례를 따르고 파일 간의 호환성을 보장하는 것이 중요하다고 언급합니다. 세 번째 문서는 LLM의 한계와 도전 과제, 특히 장기 계획 및 오류 적응의 어려움을 설명합니다. 마지막으로, 네 번째 문서는 LLM을 활용한 자율 에이전트의 발전 가능성과 다양한 연구를 통해 LLM의 문제 해결 능력, 계획 수립 능력, 외부 도구와의 통합 등을 탐구합니다. 전체적으로, Python 프로젝트 아키텍처 설계와 LLM의 활용 및 한계에 대한 논의가 주요 주제로 다루어지고 있습니다.')]}}\n",
      "{'generate_final_summary': {'final_summary': '이 문서들은 대규모 언어 모델(LLM)을 활용한 자율 에이전트 구축과 Python 프로젝트 아키텍처 설계에 관한 다양한 주제를 다루고 있습니다. 주요 내용은 다음과 같습니다:\\n\\n1. **자율 에이전트와 LLM**: LLM을 활용한 자율 에이전트는 단순한 텍스트 생성 이상의 문제 해결 능력을 갖추고 있으며, 계획, 메모리, 도구 사용의 세 가지 주요 구성 요소로 이루어져 있습니다. AutoGPT와 BabyAGI와 같은 사례 연구를 통해 그 잠재력을 보여줍니다.\\n\\n2. **계획 및 자기 성찰**: 복잡한 작업을 위한 계획 및 자기 성찰 기법이 강조되며, Chain of Thought (CoT)와 Tree of Thoughts 같은 방법이 사용됩니다. LLM+P는 외부 계획자를 사용하여 장기 계획을 수행합니다.\\n\\n3. **기억 체계 및 도구 사용**: 인간의 기억 체계를 컴퓨터 시스템에 비유하며, LLM의 기능을 확장하기 위해 외부 도구를 사용하는 것이 강조됩니다. MRKL 시스템과 HuggingGPT는 이러한 도구 사용의 예시입니다.\\n\\n4. **자기 성찰과 알고리즘 증류**: Chain of Hindsight (CoH)와 알고리즘 증류(AD)는 과거 데이터를 활용하여 모델 출력을 개선하는 방법입니다.\\n\\n5. **실험 및 사례 연구**: Generative Agents Simulation과 ChemCrow와 같은 사례 연구는 LLM 기반 에이전트의 가능성과 한계를 보여줍니다.\\n\\n6. **Python 프로젝트 아키텍처**: Python 프로젝트를 위한 명확하고 유지보수 가능한 아키텍처 설계 방법이 설명되며, 게임 개발을 위한 코드 아키텍처 설계 과정도 다루어집니다.\\n\\n이러한 주제들은 LLM의 다양한 응용 가능성과 그에 따른 도전 과제를 탐구하며, 자율 에이전트와 Python 프로젝트 아키텍처의 발전 가능성을 제시합니다.'}}\n"
     ]
    }
   ],
   "source": [
    "async for step in app.astream(\n",
    "    {'contents': [doc.page_content for doc in split_docs]},\n",
    "    {'recursion_limit': 10}\n",
    "):\n",
    "    print(step)"
   ]
  },
  {
   "cell_type": "code",
   "execution_count": 61,
   "id": "d9e4dd60",
   "metadata": {},
   "outputs": [
    {
     "data": {
      "image/png": "[encoded data removed]",
      "text/plain": [
       "<IPython.core.display.Image object>"
      ]
     },
     "execution_count": 61,
     "metadata": {},
     "output_type": "execute_result"
    }
   ],
   "source": [
    "from IPython.display import Image\n",
    "Image(app.get_graph().draw_mermaid_png())"
   ]
  },
  {
   "cell_type": "code",
   "execution_count": null,
   "id": "b1deb0e5",
   "metadata": {},
   "outputs": [],
   "source": []
  }
 ],
 "metadata": {
  "kernelspec": {
   "display_name": "Python 3",
   "language": "python",
   "name": "python3"
  },
  "language_info": {
   "codemirror_mode": {
    "name": "ipython",
    "version": 3
   },
   "file_extension": ".py",
   "mimetype": "text/x-python",
   "name": "python",
   "nbconvert_exporter": "python",
   "pygments_lexer": "ipython3",
   "version": "3.13.2"
  }
 },
 "nbformat": 4,
 "nbformat_minor": 5
}
