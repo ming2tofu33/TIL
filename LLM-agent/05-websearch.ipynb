{
 "cells": [
  {
   "cell_type": "markdown",
   "id": "8b7e6053",
   "metadata": {},
   "source": [
    "# `05-websearch`\n",
    "\n",
    "# Tavily Web Search\n",
    "- LLM에게 웹 검색을 쥐어주자"
   ]
  },
  {
   "cell_type": "code",
   "execution_count": 1,
   "id": "c7d18ccb",
   "metadata": {},
   "outputs": [
    {
     "name": "stdout",
     "output_type": "stream",
     "text": [
      "Note: you may need to restart the kernel to use updated packages.\n"
     ]
    },
    {
     "name": "stderr",
     "output_type": "stream",
     "text": [
      "\n",
      "[notice] A new release of pip is available: 25.1.1 -> 25.2\n",
      "[notice] To update, run: python.exe -m pip install --upgrade pip\n"
     ]
    }
   ],
   "source": [
    "%pip install -q langchain-tavily"
   ]
  },
  {
   "cell_type": "code",
   "execution_count": null,
   "id": "c460f48b",
   "metadata": {},
   "outputs": [],
   "source": [
    "from dotenv import  load_dotenv\n",
    "\n",
    "load_dotenv()"
   ]
  },
  {
   "cell_type": "code",
   "execution_count": 2,
   "id": "3bdfbc03",
   "metadata": {},
   "outputs": [],
   "source": [
    "from langchain_tavily import TavilySearch\n",
    "\n",
    "search_tool = TavilySearch(\n",
    "    max_results=5,\n",
    "    topic=\"general\",\n",
    "    # include_answer=False,\n",
    "    # include_raw_content=False,\n",
    "    # include_images=False,\n",
    "    # include_image_descriptions=False,\n",
    "    search_depth=\"basic\",\n",
    "    # time_range=\"day\",\n",
    "    # include_domains=None,\n",
    "    # exclude_domains=None,\n",
    "    # country=None\n",
    ")"
   ]
  },
  {
   "cell_type": "code",
   "execution_count": null,
   "id": "c97affef",
   "metadata": {},
   "outputs": [
    {
     "data": {
      "text/plain": [
       "{'query': '오늘 호랑이띠 운세',\n",
       " 'follow_up_questions': None,\n",
       " 'answer': None,\n",
       " 'images': [],\n",
       " 'results': [{'url': 'https://www.joongangenews.com/news/articleView.html?idxno=447303',\n",
       "   'title': '[오늘의 운세] 띠별 운세, 호랑이띠의 9월 3일 운세가 전하는 ...',\n",
       "   'content': '호랑이띠는 용기와 기백을 상징하며, 오늘은 도전의 기운이 강하게 흐른다. 자신의 뜻을 밀고 나가고 싶은 마음이 커지지만, 조율의 지혜가 필요하다.',\n",
       "   'score': 0.9108078,\n",
       "   'raw_content': None},\n",
       "  {'url': 'https://ineuro.co.kr/',\n",
       "   'title': '오늘의띠별운세 무료 : 오늘에운세 띠운세',\n",
       "   'content': '호랑이띠(寅) 호랑이띠는 강한 자신감과 리더십을 지닌 인물이에요. 도전 정신이 강해 새로운 일에 겁 없이 뛰어들고, 분위기를 주도하는 힘이 있죠. 감정 표현이 솔직해',\n",
       "   'score': 0.8991304,\n",
       "   'raw_content': None},\n",
       "  {'url': 'https://www.newsfreezone.co.kr/news/articleView.html?idxno=644650',\n",
       "   'title': '[오늘의 띠별 운세] 9월 3일',\n",
       "   'content': '사소한 일도 철저히 하라. 호랑이띠. 62년생: 건강을 소홀히 하면 낭패가 있다. 작은 증상도 살펴라. 74년생: 귀인의 도움으로 막힌 일이 풀린다. 86',\n",
       "   'score': 0.8440111,\n",
       "   'raw_content': None},\n",
       "  {'url': 'https://freesaju.net/unjoa/12animal/ddi.php?d=%C8%A3%B6%FB%C0%CC',\n",
       "   'title': '호랑이띠운세 오늘의 범띠 띠별운세',\n",
       "   'content': '범띠 총 운 : 오늘의 일진은 봄날 같이 활짝 개인 하늘이 힘을 보태니 만사가 형통하도다. 도모하는 일이 있다면 귀인의 도움도 받게 되고 실리도 많이 얻을 것이니 가히',\n",
       "   'score': 0.8145405,\n",
       "   'raw_content': None},\n",
       "  {'url': 'https://m.iyosu.com/fortune',\n",
       "   'title': '오늘의운세',\n",
       "   'content': '*   매물 등록 *   구해요 - 의뢰하기 *   구해요 - 내 의뢰현황 *   부동산 공지사항 *   구인구직 공지사항 *   자동차 등록 *   자동차 공지사항 *   까치정보 홈 *   부동산 *   구인구직 *   자동차 Image 1: 까치정보 *   부동산 *   구인구직 *   자동차 오늘의 운세 *   _소띠_ 오늘의 운세는 준비중입니다. *   _호랑이띠_ 오늘의 운세는 준비중입니다. *   _토끼띠_ 오늘의 운세는 준비중입니다. *   _용띠_ 오늘의 운세는 준비중입니다. *   _뱀띠_ 오늘의 운세는 준비중입니다. *   _말띠_ 오늘의 운세는 준비중입니다. *   _양띠_ 오늘의 운세는 준비중입니다. *   _원숭이띠_ 오늘의 운세는 준비중입니다. *   _닭띠_ 오늘의 운세는 준비중입니다. *   _개띠_ 오늘의 운세는 준비중입니다. *   _돼지띠_ 오늘의 운세는 준비중입니다. Copyright © **미디어내일(주)** All rights reserved *   사업체명: 미디어내일(주) / 대표번호: 061-654-5000, FAX: 061-653-4946 *   사업체명: 미디어내일(주) / 이메일: yeosuinfo92@hanmail.net 대표번호: 061-654-5000',\n",
       "   'score': 0.7230167,\n",
       "   'raw_content': None}],\n",
       " 'response_time': 0.9,\n",
       " 'request_id': '4f80d7cf-1b74-4913-a726-9d663692b343'}"
      ]
     },
     "execution_count": 3,
     "metadata": {},
     "output_type": "execute_result"
    }
   ],
   "source": [
    "search_tool.invoke({'query': '오늘 호랑이띠 운세'})"
   ]
  },
  {
   "cell_type": "code",
   "execution_count": 4,
   "id": "6bb8f708",
   "metadata": {},
   "outputs": [
    {
     "data": {
      "text/plain": [
       "'강남 신세계백화점에서 점심 식사 추천으로는 타치바나, 플레이버즈, 베통 등의 맛집이 인기 있으며, 미쉐린 빕 구르망 셰프의 점심 한정 반상도 좋은 선택입니다. 다양한 맛집과 점심 메뉴가 있어 취향에 맞게 선택하시면 좋습니다.'"
      ]
     },
     "execution_count": 4,
     "metadata": {},
     "output_type": "execute_result"
    }
   ],
   "source": [
    "from langchain.prompts import PromptTemplate\n",
    "from langchain_openai import ChatOpenAI\n",
    "from langchain_core.output_parsers import StrOutputParser\n",
    "from langchain_core.runnables import RunnableLambda, RunnablePassthrough\n",
    "\n",
    "llm = ChatOpenAI(model='gpt-4.1-nano')\n",
    "\n",
    "prompt = PromptTemplate(\n",
    "    input_variables=['query', 'search_results'],\n",
    "    template=\"\"\"넌 웹 검색결과를 요약해서 사용자의 질문에 맞게 좋은 답을 해주는 챗봇이야.\n",
    "\n",
    "    질문: {query}\n",
    "    검색결과: {search_results}\n",
    "    질문에 맞는 답을 검색결과 바탕으로 간단하게 알려줘\n",
    "    \"\"\"\n",
    ")\n",
    "\n",
    "chain = (\n",
    "    {\n",
    "        'query': RunnablePassthrough(),  # 사용자 입력 그대로 이 자리에 들어옴\n",
    "        'search_results': search_tool | RunnableLambda(\n",
    "            lambda x: '\\n'.join(\n",
    "                [f'-{r['title']} ({r['content']})' for r in x['results']]\n",
    "            )\n",
    "        )\n",
    "    }\n",
    "    | prompt\n",
    "    | llm\n",
    "    | StrOutputParser()\n",
    ")\n",
    "\n",
    "chain.invoke('강남 신세계에서 점심 먹기 좋은곳')"
   ]
  },
  {
   "cell_type": "code",
   "execution_count": 5,
   "id": "dab96841",
   "metadata": {},
   "outputs": [
    {
     "data": {
      "text/plain": [
       "'강남 신세계 내에서는 다양하고 맛있는 점심 식사 옵션이 있어요. 대표적으로 신세계 백화점 내에 위치한 프리미엄 레스토랑이나 카페에서 고급스럽고 편안한 식사를 즐기실 수 있습니다. 또한, 신세계 주변에는 한식, 일식, 양식 등 다양한 음식점들도 많아 취향에 맞게 선택하시면 좋을 것 같아요.'"
      ]
     },
     "execution_count": 5,
     "metadata": {},
     "output_type": "execute_result"
    }
   ],
   "source": [
    "dumb_chain = prompt | llm | StrOutputParser()\n",
    "\n",
    "dumb_chain.invoke({'query': '강남 신세계에서 점심먹기 좋은곳', 'search_results': ''})"
   ]
  },
  {
   "cell_type": "code",
   "execution_count": 16,
   "id": "cc40ae86",
   "metadata": {},
   "outputs": [],
   "source": [
    "from langchain.agents import create_openai_tools_agent, AgentExecutor\n",
    "from langchain_core.prompts import ChatPromptTemplate, MessagesPlaceholder\n",
    "from langchain.memory import ConversationBufferMemory\n",
    "from datetime import datetime\n",
    "\n",
    "today = datetime.today().strftime('%D')\n",
    "\n",
    "prompt = ChatPromptTemplate.from_messages([\n",
    "    ('system', f'너는 훌륭한 어시스턴트야. 반드시 웹 검색도구를 사용해야해 최대한 답을 잘 해보자. 오늘은 {today} 야'),\n",
    "    MessagesPlaceholder(variable_name='chat_history'),\n",
    "    ('human', '{input}'),\n",
    "    MessagesPlaceholder(variable_name='agent_scratchpad')  # 도구(검색) 호출 때 필요함\n",
    "])\n",
    "\n",
    "memory = ConversationBufferMemory(\n",
    "    return_messages=True,\n",
    "    memory_key='chat_history'\n",
    ")\n",
    "\n",
    "agent = create_openai_tools_agent(\n",
    "    llm=llm,\n",
    "    tools=[search_tool],\n",
    "    prompt=prompt\n",
    ")\n",
    "\n",
    "agent_executor = AgentExecutor(agent=agent, tools=[search_tool], verbose=True, memory=memory)"
   ]
  },
  {
   "cell_type": "code",
   "execution_count": 19,
   "id": "5dd4741d",
   "metadata": {},
   "outputs": [
    {
     "name": "stdout",
     "output_type": "stream",
     "text": [
      "\n",
      "\n",
      "\u001b[1m> Entering new AgentExecutor chain...\u001b[0m\n",
      "\u001b[32;1m\u001b[1;3m\n",
      "Invoking: `tavily_search` with `{'query': '하츄핑'}`\n",
      "\n",
      "\n",
      "\u001b[0m\u001b[36;1m\u001b[1;3m{'query': '하츄핑', 'follow_up_questions': None, 'answer': None, 'images': [], 'results': [{'url': 'https://ko.wikipedia.org/wiki/%ED%95%98%EC%B8%84%ED%95%91', 'title': '하츄핑 - 위키백과, 우리 모두의 백과사전', 'content': '하츄핑(영어: Heartsping)은 대한민국의 마법소녀 애니메이션 《캐치! 티니핑》의 주인공으로, 매 시즌마다 주제에 맞는 명칭이 따라온다. 1기에는 일반 하츄핑, 2기에는 다이아 하츄핑, 3기에는 플로라 하츄핑, 4기에는 베리 하츄핑, 5기에는 스타 하츄핑이다.', 'score': 0.89567816, 'raw_content': None}, {'url': 'https://catchteenieping.fandom.com/ko/wiki/%ED%95%98%EC%B8%84%ED%95%91', 'title': '하츄핑 | 캐치! 티니핑 위키 | Fandom', 'content': '하츄핑은 핑크 다이아몬드(시즌 2)를 휘두르는 사랑의 로열 티니핑이다. 그녀는 항상 이모션 왕국의 공주, 로미와 함께 있다. 로미를 프린세스 하트로 변신시켜준다.', 'score': 0.8055255, 'raw_content': None}, {'url': 'https://ko.wikipedia.org/wiki/%EC%82%AC%EB%9E%91%EC%9D%98_%ED%95%98%EC%B8%84%ED%95%91', 'title': '사랑의 하츄핑 - 위키백과, 우리 모두의 백과사전', 'content': '《사랑의 하츄핑》(영어: Heartsping : Teenieping of Love)은 2024년 8월 7일에 개봉한 대한민국의 애니메이션 영화이다. 캐치! 티니핑 시리즈를 원작으로 하는 첫 번째', 'score': 0.7123327, 'raw_content': None}, {'url': 'https://namu.wiki/w/%ED%95%98%EC%B8%84%ED%95%91', 'title': '하츄핑 - 나무위키', 'content': \"1. 개요[편집] ... 캐치! 티니핑 시리즈의 메인 티니핑 및 메인 로열핑으로 로미와 더불어 양대 주인공이자 메인 마스코트 캐릭터. '사랑의 티니핑'. 로미의 단짝친구로 함께\", 'score': 0.68420124, 'raw_content': None}, {'url': 'https://www.youtube.com/watch?v=7qxQMod_5Ck', 'title': '[슈팅스타 캐치! 티니핑] ⭐스타하츄핑을 소개할게! - YouTube', 'content': '사랑의 별가루!\" 사랑의 티니핑, 하츄핑 언제나 친구들을 도와주고 싶어하는 사랑둥이 배려심이 많은 다정다감한 성격의 사랑스러운 리더!', 'score': 0.57322514, 'raw_content': None}], 'response_time': 0.88, 'request_id': 'a4923c23-2323-41cd-b80e-2ec61e7035b7'}\u001b[0m\u001b[32;1m\u001b[1;3m네 이름인 \"하츄핑\"은 대한민국의 애니메이션 \"캐치! 티니핑\"의 주인공 이름인 것 같아. 하츄핑은 사랑의 로열 티니핑으로, 배려심이 많고 다정한 성격의 캐릭터야. \n",
      "\n",
      "혹시 사람 이름이 아니고 캐릭터 이름이라면, 지금 내가 찾은 정보는 애니메이션 속 캐릭터에 관한 내용이야. 네가 어떤 모습인지 더 구체적으로 알려줄 수 있으면, 내가 더 도와줄 수 있어!\u001b[0m\n",
      "\n",
      "\u001b[1m> Finished chain.\u001b[0m\n"
     ]
    },
    {
     "data": {
      "text/plain": [
       "{'input': '내 이름 알잖아, 이름 인터넷에 찾아봐',\n",
       " 'chat_history': [HumanMessage(content='나는 하츄핑이야', additional_kwargs={}, response_metadata={}),\n",
       "  AIMessage(content='반가워, 하츄핑! 너에 대해 더 알고 싶거나 도움이 필요한 것이 있다면 알려줘. 어떻게 도와줄까?', additional_kwargs={}, response_metadata={}),\n",
       "  HumanMessage(content='나는 어떻게 생겼어?', additional_kwargs={}, response_metadata={}),\n",
       "  AIMessage(content='나는 네가 어떻게 생긴지 직접 볼 수 없기 때문에, 네가 어떤 모습인지 구체적으로 설명해주면 좋아. 또는 네가 이미 알고 있는 모습에 대해 이야기해줄 수도 있고. 네가 어떤 모습인지 묘사해줄 수 있어?', additional_kwargs={}, response_metadata={}),\n",
       "  HumanMessage(content='내 이름 알잖아, 이름 인터넷에 찾아봐', additional_kwargs={}, response_metadata={}),\n",
       "  AIMessage(content='네 이름인 \"하츄핑\"은 대한민국의 애니메이션 \"캐치! 티니핑\"의 주인공 이름인 것 같아. 하츄핑은 사랑의 로열 티니핑으로, 배려심이 많고 다정한 성격의 캐릭터야. \\n\\n혹시 사람 이름이 아니고 캐릭터 이름이라면, 지금 내가 찾은 정보는 애니메이션 속 캐릭터에 관한 내용이야. 네가 어떤 모습인지 더 구체적으로 알려줄 수 있으면, 내가 더 도와줄 수 있어!', additional_kwargs={}, response_metadata={})],\n",
       " 'output': '네 이름인 \"하츄핑\"은 대한민국의 애니메이션 \"캐치! 티니핑\"의 주인공 이름인 것 같아. 하츄핑은 사랑의 로열 티니핑으로, 배려심이 많고 다정한 성격의 캐릭터야. \\n\\n혹시 사람 이름이 아니고 캐릭터 이름이라면, 지금 내가 찾은 정보는 애니메이션 속 캐릭터에 관한 내용이야. 네가 어떤 모습인지 더 구체적으로 알려줄 수 있으면, 내가 더 도와줄 수 있어!'}"
      ]
     },
     "execution_count": 19,
     "metadata": {},
     "output_type": "execute_result"
    }
   ],
   "source": [
    "agent_executor.invoke({'input': '내 이름 알잖아, 이름 인터넷에 찾아봐'})"
   ]
  }
 ],
 "metadata": {
  "kernelspec": {
   "display_name": "Python 3",
   "language": "python",
   "name": "python3"
  },
  "language_info": {
   "codemirror_mode": {
    "name": "ipython",
    "version": 3
   },
   "file_extension": ".py",
   "mimetype": "text/x-python",
   "name": "python",
   "nbconvert_exporter": "python",
   "pygments_lexer": "ipython3",
   "version": "3.13.4"
  }
 },
 "nbformat": 4,
 "nbformat_minor": 5
}
