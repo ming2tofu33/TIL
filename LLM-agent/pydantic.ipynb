{
 "cells": [
  {
   "cell_type": "markdown",
   "id": "1343bf73",
   "metadata": {},
   "source": [
    "# Pydantic\n",
    "\n",
    "- 파이썬 데이터 검증 라이브러리"
   ]
  },
  {
   "cell_type": "code",
   "execution_count": null,
   "id": "9c790f74",
   "metadata": {},
   "outputs": [],
   "source": [
    "from pydantic import BaseModel\n",
    "\n",
    "# BaseModel : 데이터 검증용 클래스를 만드릭 위한 부모 클래스\n"
   ]
  },
  {
   "cell_type": "code",
   "execution_count": 8,
   "id": "631a4e08",
   "metadata": {},
   "outputs": [
    {
     "ename": "NameError",
     "evalue": "name 'BaseModel' is not defined",
     "output_type": "error",
     "traceback": [
      "\u001b[31m---------------------------------------------------------------------------\u001b[39m",
      "\u001b[31mNameError\u001b[39m                                 Traceback (most recent call last)",
      "\u001b[36mCell\u001b[39m\u001b[36m \u001b[39m\u001b[32mIn[8]\u001b[39m\u001b[32m, line 3\u001b[39m\n\u001b[32m      1\u001b[39m \u001b[38;5;28;01mfrom\u001b[39;00m\u001b[38;5;250m \u001b[39m\u001b[34;01mpydantic\u001b[39;00m\u001b[38;5;250m \u001b[39m\u001b[38;5;28;01mimport\u001b[39;00m Field\n\u001b[32m----> \u001b[39m\u001b[32m3\u001b[39m \u001b[38;5;28;01mclass\u001b[39;00m\u001b[38;5;250m \u001b[39m\u001b[34;01mOrder\u001b[39;00m(\u001b[43mBaseModel\u001b[49m):\n\u001b[32m      4\u001b[39m     \u001b[38;5;66;03m# 추가 제약조건\u001b[39;00m\n\u001b[32m      5\u001b[39m     quantity: \u001b[38;5;28mint\u001b[39m = Field(gt=\u001b[32m0\u001b[39m, description=\u001b[33m'\u001b[39m\u001b[33m주문 수량 (0초과)\u001b[39m\u001b[33m'\u001b[39m)\n\u001b[32m      6\u001b[39m     price: \u001b[38;5;28mfloat\u001b[39m = Field(ge=\u001b[32m100\u001b[39m, description=\u001b[33m'\u001b[39m\u001b[33m최소 단가 100원 이상\u001b[39m\u001b[33m'\u001b[39m)\n",
      "\u001b[31mNameError\u001b[39m: name 'BaseModel' is not defined"
     ]
    }
   ],
   "source": [
    "from pydantic import Field\n",
    "\n",
    "class Order(BaseModel):\n",
    "    # 추가 제약조건\n",
    "    quantity: int = Field(gt=0, description='주문 수량 (0초과)')\n",
    "    price: float = Field(ge=100, description='최소 단가 100원 이상')\n",
    "\n",
    "\n",
    "o1 = Order(quantity=3, price=300)\n",
    "o2 = Order(quantity=0, price=50)"
   ]
  },
  {
   "cell_type": "code",
   "execution_count": 10,
   "id": "7eb7948d",
   "metadata": {},
   "outputs": [
    {
     "ename": "NameError",
     "evalue": "name 'BaseModel' is not defined",
     "output_type": "error",
     "traceback": [
      "\u001b[31m---------------------------------------------------------------------------\u001b[39m",
      "\u001b[31mNameError\u001b[39m                                 Traceback (most recent call last)",
      "\u001b[36mCell\u001b[39m\u001b[36m \u001b[39m\u001b[32mIn[10]\u001b[39m\u001b[32m, line 3\u001b[39m\n\u001b[32m      1\u001b[39m \u001b[38;5;28;01mfrom\u001b[39;00m\u001b[38;5;250m \u001b[39m\u001b[34;01mpydantic\u001b[39;00m\u001b[38;5;250m \u001b[39m\u001b[38;5;28;01mimport\u001b[39;00m field_validator\n\u001b[32m----> \u001b[39m\u001b[32m3\u001b[39m \u001b[38;5;28;01mclass\u001b[39;00m\u001b[38;5;250m \u001b[39m\u001b[34;01mAccount\u001b[39;00m(\u001b[43mBaseModel\u001b[49m):\n\u001b[32m      4\u001b[39m     username: \u001b[38;5;28mstr\u001b[39m\n\u001b[32m      5\u001b[39m     password: \u001b[38;5;28mstr\u001b[39m\n",
      "\u001b[31mNameError\u001b[39m: name 'BaseModel' is not defined"
     ]
    }
   ],
   "source": [
    "from pydantic import field_validator\n",
    "\n",
    "class Account(BaseModel):\n",
    "    username: str\n",
    "    password: str\n",
    "\n",
    "    @field_validator('password')\n",
    "    def check_password_length(cls, v):\n",
    "        if len(v) < 8:\n",
    "            raise ValueError('비밀번호는 8자 이상이어야 합니다.')\n",
    "        return v\n",
    "    \n",
    "\n",
    "a = Account(username='bob', password='short')"
   ]
  }
 ],
 "metadata": {
  "kernelspec": {
   "display_name": "Python 3",
   "language": "python",
   "name": "python3"
  },
  "language_info": {
   "codemirror_mode": {
    "name": "ipython",
    "version": 3
   },
   "file_extension": ".py",
   "mimetype": "text/x-python",
   "name": "python",
   "nbconvert_exporter": "python",
   "pygments_lexer": "ipython3",
   "version": "3.13.4"
  }
 },
 "nbformat": 4,
 "nbformat_minor": 5
}
