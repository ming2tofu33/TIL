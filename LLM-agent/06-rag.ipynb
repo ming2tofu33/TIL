{
 "cells": [
  {
   "cell_type": "markdown",
   "id": "6c30839b",
   "metadata": {},
   "source": [
    "# `06-rag`\n",
    "\n",
    "# RAG(검색-증강 생성) Retrieval-Augmented Generation\n",
    "\n",
    "- LLM이 외부 데이터를 컨텍스트로 활용."
   ]
  },
  {
   "cell_type": "code",
   "execution_count": 2,
   "id": "f58ef0a2",
   "metadata": {},
   "outputs": [
    {
     "data": {
      "text/plain": [
       "True"
      ]
     },
     "execution_count": 2,
     "metadata": {},
     "output_type": "execute_result"
    }
   ],
   "source": [
    "from dotenv import load_dotenv\n",
    "load_dotenv()"
   ]
  },
  {
   "cell_type": "code",
   "execution_count": 10,
   "id": "51da3289",
   "metadata": {},
   "outputs": [],
   "source": [
    "from langchain_core.documents import Document\n",
    "\n",
    "documents = [\n",
    "    Document(\n",
    "        page_content=\"Dogs are great companions, known for their loyalty and friendliness.\",\n",
    "        metadata={\"source\": \"mammal-pets-doc\"},\n",
    "    ),\n",
    "    Document(\n",
    "        page_content=\"Cats are independent pets that often enjoy their own space.\",\n",
    "        metadata={\"source\": \"mammal-pets-doc\"},\n",
    "    ),\n",
    "    Document(\n",
    "        page_content=\"Goldfish are popular pets for beginners, requiring relatively simple care.\",\n",
    "        metadata={\"source\": \"fish-pets-doc\"},\n",
    "    ),\n",
    "    Document(\n",
    "        page_content=\"Parrots are intelligent birds capable of mimicking human speech.\",\n",
    "        metadata={\"source\": \"bird-pets-doc\"},\n",
    "    ),\n",
    "    Document(\n",
    "        page_content=\"Rabbits are social animals that need plenty of space to hop around.\",\n",
    "        metadata={\"source\": \"mammal-pets-doc\"},\n",
    "    ),\n",
    "]"
   ]
  },
  {
   "cell_type": "code",
   "execution_count": 8,
   "id": "e756bf9f",
   "metadata": {},
   "outputs": [
    {
     "name": "stdout",
     "output_type": "stream",
     "text": [
      "Note: you may need to restart the kernel to use updated packages.\n"
     ]
    },
    {
     "name": "stderr",
     "output_type": "stream",
     "text": [
      "\n",
      "[notice] A new release of pip is available: 25.1.1 -> 25.2\n",
      "[notice] To update, run: python.exe -m pip install --upgrade pip\n"
     ]
    }
   ],
   "source": [
    "%pip install -q \"langchain_chroma>=0.1.2\" langchain_community faiss-cpu"
   ]
  },
  {
   "cell_type": "code",
   "execution_count": 19,
   "id": "d8fa5aee",
   "metadata": {},
   "outputs": [],
   "source": [
    "from langchain_openai import OpenAIEmbeddings\n",
    "from langchain_chroma import Chroma\n",
    "\n",
    "# OpenAI 임베딩 모델\n",
    "embedding = OpenAIEmbeddings(model='text-embedding-3-small')\n",
    "\n",
    "# VectorStore 에 임베딩 후 저장 (in memory)\n",
    "vectorstore = Chroma.from_documents(\n",
    "    documents,\n",
    "    embedding=embedding\n",
    ")"
   ]
  },
  {
   "cell_type": "code",
   "execution_count": 20,
   "id": "18da58e1",
   "metadata": {},
   "outputs": [
    {
     "data": {
      "text/plain": [
       "[Document(id='05ddbfb0-2154-4e5f-b145-3e8dec2fad8f', metadata={'source': 'fish-pets-doc'}, page_content='Goldfish are popular pets for beginners, requiring relatively simple care.'),\n",
       " Document(id='47c2635c-5b93-448b-8a57-727f3edd6ed5', metadata={'source': 'fish-pets-doc'}, page_content='Goldfish are popular pets for beginners, requiring relatively simple care.')]"
      ]
     },
     "execution_count": 20,
     "metadata": {},
     "output_type": "execute_result"
    }
   ],
   "source": [
    "vectorstore.similarity_search(\n",
    "    '초보자', k=2\n",
    ")"
   ]
  },
  {
   "cell_type": "markdown",
   "id": "d7d946e3",
   "metadata": {},
   "source": [
    "## 사전처리 단계\n",
    "1. 문서 불러오기 (Loading)\n",
    "2. 텍스트 나누기 (Splitting)\n",
    "3. 숫자로 바꾸기 (Embedding)\n",
    "4. 저장하기 (VectorStore)"
   ]
  },
  {
   "cell_type": "code",
   "execution_count": 15,
   "id": "52771de7",
   "metadata": {},
   "outputs": [
    {
     "name": "stdout",
     "output_type": "stream",
     "text": [
      "Note: you may need to restart the kernel to use updated packages.\n"
     ]
    },
    {
     "name": "stderr",
     "output_type": "stream",
     "text": [
      "\n",
      "[notice] A new release of pip is available: 25.1.1 -> 25.2\n",
      "[notice] To update, run: python.exe -m pip install --upgrade pip\n"
     ]
    }
   ],
   "source": [
    "%pip install -q pymupdf"
   ]
  },
  {
   "cell_type": "code",
   "execution_count": 16,
   "id": "9c545ac4",
   "metadata": {},
   "outputs": [
    {
     "name": "stdout",
     "output_type": "stream",
     "text": [
      "23\n"
     ]
    }
   ],
   "source": [
    "# 1. Load\n",
    "from langchain_community.document_loaders import PyMuPDFLoader\n",
    "\n",
    "loader = PyMuPDFLoader('./data/spri.pdf')\n",
    "docs = loader.load()\n",
    "\n",
    "print(len(docs))"
   ]
  },
  {
   "cell_type": "code",
   "execution_count": 18,
   "id": "dc409a93",
   "metadata": {},
   "outputs": [
    {
     "name": "stdout",
     "output_type": "stream",
     "text": [
      "72\n"
     ]
    }
   ],
   "source": [
    "# 2. Split\n",
    "from langchain_text_splitters import RecursiveCharacterTextSplitter\n",
    "\n",
    "# 500 글자 당 1 청크 / 50 글자는 겹치게 나눈다.\n",
    "text_splitter = RecursiveCharacterTextSplitter(chunk_size=500, chunk_overlap=50)\n",
    "split_docs = text_splitter.split_documents(docs)\n",
    "\n",
    "print(len(split_docs))"
   ]
  },
  {
   "cell_type": "code",
   "execution_count": 23,
   "id": "bba4d1dd",
   "metadata": {},
   "outputs": [
    {
     "data": {
      "text/plain": [
       "[Document(id='ec9f21d3-adb4-44ad-9824-f278f3fed74d', metadata={'producer': 'Hancom PDF 1.3.0.542', 'creator': 'Hwp 2018 10.0.0.13462', 'creationdate': '2023-12-08T13:28:38+09:00', 'source': './data/spri.pdf', 'file_path': './data/spri.pdf', 'total_pages': 23, 'format': 'PDF 1.4', 'title': '', 'author': 'dj', 'subject': '', 'keywords': '', 'moddate': '2023-12-08T13:28:38+09:00', 'trapped': '', 'modDate': \"D:20231208132838+09'00'\", 'creationDate': \"D:20231208132838+09'00'\", 'page': 3}, page_content='1. 정책/법제  \\n2. 기업/산업 \\n3. 기술/연구 \\n 4. 인력/교육\\n미국, 안전하고 신뢰할 수 있는 AI 개발과 사용에 관한 행정명령 발표 \\nn 미국 바이든 대통령이 ‘안전하고 신뢰할 수 있는 AI 개발과 사용에 관한 행정명령’에 서명하고 \\n광범위한 행정 조치를 명시\\nn 행정명령은 △AI의 안전과 보안 기준 마련 △개인정보보호 △형평성과 시민권 향상 △소비자 \\n보호 △노동자 지원 △혁신과 경쟁 촉진 △국제협력을 골자로 함\\nKEY Contents\\n£ 바이든 대통령, AI 행정명령 통해 안전하고 신뢰할 수 있는 AI 개발과 활용 추진\\nn 미국 바이든 대통령이 2023년 10월 30일 연방정부 차원에서 안전하고 신뢰할 수 있는 AI 개발과 \\n사용을 보장하기 위한 행정명령을 발표\\n∙행정명령은 △AI의 안전과 보안 기준 마련 △개인정보보호 △형평성과 시민권 향상 △소비자 보호 \\n△노동자 지원 △혁신과 경쟁 촉진 △국제협력에 관한 내용을 포괄'),\n",
       " Document(id='f60bc788-490a-4055-970a-752288f42c48', metadata={'producer': 'Hancom PDF 1.3.0.542', 'creator': 'Hwp 2018 10.0.0.13462', 'creationdate': '2023-12-08T13:28:38+09:00', 'source': './data/spri.pdf', 'file_path': './data/spri.pdf', 'total_pages': 23, 'format': 'PDF 1.4', 'title': '', 'author': 'dj', 'subject': '', 'keywords': '', 'moddate': '2023-12-08T13:28:38+09:00', 'trapped': '', 'modDate': \"D:20231208132838+09'00'\", 'creationDate': \"D:20231208132838+09'00'\", 'page': 3}, page_content='공부하고 취업할 수 있도록 지원\\n☞ 출처 : The White House, Executive Order on the Safe, Secure, and Trustworthy Development and Use of \\nArtificial Intelligence (E.O. 14110), 2023.10.30.'),\n",
       " Document(id='6e2bcc9a-8c72-4ad9-97b2-37a3b6c7585d', metadata={'producer': 'Hancom PDF 1.3.0.542', 'creator': 'Hwp 2018 10.0.0.13462', 'creationdate': '2023-12-08T13:28:38+09:00', 'source': './data/spri.pdf', 'file_path': './data/spri.pdf', 'total_pages': 23, 'format': 'PDF 1.4', 'title': '', 'author': 'dj', 'subject': '', 'keywords': '', 'moddate': '2023-12-08T13:28:38+09:00', 'trapped': '', 'modDate': \"D:20231208132838+09'00'\", 'creationDate': \"D:20231208132838+09'00'\", 'page': 4}, page_content='정보공유를 위해 ‘히로시마 AI 프로세스’를 출범**\\n∙기업의 자발적 채택을 위해 마련된 이번 행동강령은 기반모델과 생성 AI를 포함한 첨단 AI 시스템의 \\n위험 식별과 완화에 필요한 조치를 포함\\n* 주요 7개국(G7)은 미국, 일본, 독일, 영국, 프랑스, 이탈리아, 캐나다를 의미\\n** 5월 정상회의에는 한국, 호주, 베트남 등을 포함한 8개국이 초청을 받았으나, AI 국제 행동강령에는 우선 G7 국가만 포함하여 채택\\nn G7은 행동강령을 통해 아래의 조치를 제시했으며, 빠르게 발전하는 기술에 대응할 수 있도록 \\n이해관계자 협의를 통해 필요에 따라 개정할 예정\\n∙첨단 AI 시스템의 개발 과정에서 AI 수명주기 전반에 걸쳐 위험을 평가 및 완화하는 조치를 채택하고, \\n첨단 AI 시스템의 출시와 배포 이후 취약점과 오용 사고, 오용 유형을 파악해 완화\\n∙첨단 AI 시스템의 성능과 한계를 공개하고 적절하거나 부적절한 사용영역을 알리는 방법으로 투명성을 \\n보장하고 책임성을 강화'),\n",
       " Document(id='5926612c-6596-474e-9433-906a21ee21be', metadata={'producer': 'Hancom PDF 1.3.0.542', 'creator': 'Hwp 2018 10.0.0.13462', 'creationdate': '2023-12-08T13:28:38+09:00', 'source': './data/spri.pdf', 'file_path': './data/spri.pdf', 'total_pages': 23, 'format': 'PDF 1.4', 'title': '', 'author': 'dj', 'subject': '', 'keywords': '', 'moddate': '2023-12-08T13:28:38+09:00', 'trapped': '', 'modDate': \"D:20231208132838+09'00'\", 'creationDate': \"D:20231208132838+09'00'\", 'page': 1}, page_content='2023년 12월호\\nⅠ. 인공지능 산업 동향 브리프\\n 1. 정책/법제 \\n   ▹ 미국, 안전하고 신뢰할 수 있는 AI 개발과 사용에 관한 행정명령 발표  ························· 1\\n   ▹ G7, 히로시마 AI 프로세스를 통해 AI 기업 대상 국제 행동강령에 합의··························· 2\\n   ▹ 영국 AI 안전성 정상회의에 참가한 28개국, AI 위험에 공동 대응 선언··························· 3\\n   ▹ 미국 법원, 예술가들이 생성 AI 기업에 제기한 저작권 소송 기각····································· 4\\n   ▹ 미국 연방거래위원회, 저작권청에 소비자 보호와 경쟁 측면의 AI 의견서 제출················· 5')]"
      ]
     },
     "execution_count": 23,
     "metadata": {},
     "output_type": "execute_result"
    }
   ],
   "source": [
    "# 3. Vector Embedding + Vector Store\n",
    "from langchain_openai import OpenAIEmbeddings\n",
    "from langchain_community.vectorstores import FAISS\n",
    "\n",
    "embedding = OpenAIEmbeddings()\n",
    "vectorstore = FAISS.from_documents(documents=split_docs, embedding=embedding)\n",
    "\n",
    "# Test\n",
    "vectorstore.similarity_search(\n",
    "    '미국 대통령과 관련된 문서들 가져와봐', k=4\n",
    ")"
   ]
  },
  {
   "cell_type": "markdown",
   "id": "a4d271b3",
   "metadata": {},
   "source": [
    "## 검색 증강 단계\n",
    "1. 사용자 질문 (Query)\n",
    "2. 검색 (Retrieve)\n",
    "3. LLM\n",
    "4. 저장하기 (VectorStore)"
   ]
  },
  {
   "cell_type": "code",
   "execution_count": 26,
   "id": "e20e7fb5",
   "metadata": {},
   "outputs": [
    {
     "data": {
      "text/plain": [
       "\"삼성전자는 2023년 11월 8일 '삼성 AI 포럼 2023'에서 자체 개발한 생성 AI '삼성 가우스'를 공개했으며, 언어, 코드, 이미지 모델로 구성되어 온디바이스에서 작동 가능합니다. 삼성 가우스는 안전한 데이터 학습과 다양한 제품에 단계적으로 탑재될 예정이며, 2024년에는 경쟁 제품들과 경쟁할 것으로 예상됩니다. 자세한 내용은 공식 홈페이지(spri.kr) 또는 AI 정책연구실 문의처를 참고하시기 바랍니다.\""
      ]
     },
     "execution_count": 26,
     "metadata": {},
     "output_type": "execute_result"
    }
   ],
   "source": [
    "from langchain_openai import ChatOpenAI\n",
    "from langchain_core.prompts import PromptTemplate\n",
    "from langchain_core.runnables import RunnablePassthrough\n",
    "from langchain_core.output_parsers import StrOutputParser\n",
    "\n",
    "from langchain import hub\n",
    "\n",
    "# Prompt 세팅\n",
    "prompt = hub.pull('rlm/rag-prompt')\n",
    "\n",
    "# LLM 모델\n",
    "llm = ChatOpenAI(model='gpt-4.1-nano')\n",
    "\n",
    "# 검색기 생성(retriever 생성)\n",
    "retriever = vectorstore.as_retriever()\n",
    "\n",
    "chain = (\n",
    "    {'context': retriever, 'question': RunnablePassthrough()}\n",
    "    | prompt\n",
    "    | llm\n",
    "    | StrOutputParser()\n",
    ")\n",
    "\n",
    "chain.invoke('삼성전자 관련 소식 다 가져와')"
   ]
  },
  {
   "cell_type": "code",
   "execution_count": 28,
   "id": "3c5ee613",
   "metadata": {},
   "outputs": [],
   "source": [
    "# Agent + RAG\n",
    "from langchain.agents import create_openai_tools_agent, AgentExecutor\n",
    "from langchain_core.prompts import ChatPromptTemplate, MessagesPlaceholder\n",
    "from langchain.memory import ConversationBufferMemory\n",
    "from langchain_tavily import TavilySearch\n",
    "from datetime import datetime\n",
    "# RAG 관련\n",
    "from langchain_community.document_loaders import PyMuPDFLoader\n",
    "from langchain.text_splitter import RecursiveCharacterTextSplitter\n",
    "from langchain_openai import ChatOpenAI, OpenAIEmbeddings\n",
    "from langchain_community.vectorstores import FAISS\n",
    "from langchain.tools.retriever import create_retriever_tool\n",
    "\n",
    "today = datetime.today().strftime('%Y-%m-%d')\n",
    "\n",
    "llm = ChatOpenAI(model='gpt-4.1-nano')\n",
    "\n",
    "search_tool = TavilySearch(\n",
    "    max_results=5,\n",
    "    topic='general'\n",
    ")\n",
    "\n",
    "loader = PyMuPDFLoader('./data/spri.pdf')\n",
    "docs = loader.load()\n",
    "splitter = RecursiveCharacterTextSplitter(chunk_size=500, chunk_overlap=50)\n",
    "split_docs = splitter.split_documents(docs)\n",
    "embedding = OpenAIEmbeddings()\n",
    "vectorstore = FAISS.from_documents(split_docs, embedding=embedding)\n",
    "retriever = vectorstore.as_retriever()\n",
    "\n",
    "rag_tool = create_retriever_tool(\n",
    "    retriever,\n",
    "    name='pdf_search',\n",
    "    description='PDF 문서에서 질문과 관련된 내용을 검색합니다.'  # Agent가 언제 이 tool을 쓸지 알게됨\n",
    ")\n",
    "\n",
    "text = f\"\"\"\n",
    "너는 웹 검색이 가능하고, 2023년 12월 인공지능 산업 최신동향 정보를 담은 pdf 를 검색할 수 있는 어시스턴트야.\n",
    "\n",
    "- 사용자가 PDF 문서와 관련된 질문(ex. '이 pdf에서', '문서내용', '파일에서)을 하면 반드시 'pdf_search' 도구를 써야해\n",
    "- 사용자 질문이 팩트체크를 필요로 하고, 최신성이 필요하다 판단되면 web_search를 실행해야해\n",
    "- 사용자가 일반적인 질문을 하고, 최신성이나 팩트체크가 필요없으면 그냥 답변해\n",
    "- 뭔가 확실하지 않으면 pdf_search 와 web_search를 모두 실행해서 답변을 생성해\n",
    "\n",
    "오늘은 {today} 야.\n",
    "\"\"\"\n",
    "\n",
    "\n",
    "prompt = ChatPromptTemplate.from_messages([\n",
    "    ('system', text),\n",
    "    MessagesPlaceholder(variable_name='chat_history'),\n",
    "    ('human', '{input}'),\n",
    "    MessagesPlaceholder(variable_name='agent_scratchpad')  # 도구(검색) 호출때 필요함\n",
    "])\n",
    "\n",
    "memory = ConversationBufferMemory(\n",
    "    return_messages=True,\n",
    "    memory_key='chat_history'\n",
    ")\n",
    "\n",
    "agent = create_openai_tools_agent(\n",
    "    llm=llm,\n",
    "    tools=[search_tool, rag_tool],\n",
    "    prompt=prompt,\n",
    ")\n",
    "\n",
    "agent_executor = AgentExecutor(\n",
    "    agent=agent,\n",
    "    memory=memory, \n",
    "    tools=[search_tool, rag_tool],\n",
    "    verbose=True)"
   ]
  },
  {
   "cell_type": "code",
   "execution_count": 29,
   "id": "b9c1b961",
   "metadata": {},
   "outputs": [
    {
     "name": "stdout",
     "output_type": "stream",
     "text": [
      "\n",
      "\n",
      "\u001b[1m> Entering new AgentExecutor chain...\u001b[0m\n",
      "\u001b[32;1m\u001b[1;3m\n",
      "Invoking: `tavily_search` with `{'query': '2023년 이후 인공지능 산업 최신 동향', 'search_depth': 'advanced', 'time_range': 'year'}`\n",
      "\n",
      "\n",
      "\u001b[0m\u001b[36;1m\u001b[1;3m{'query': '2023년 이후 인공지능 산업 최신 동향', 'follow_up_questions': None, 'answer': None, 'images': [], 'results': [{'url': 'https://ettrends.etri.re.kr/ettrends/212/0905212008/', 'title': '인공지능 분야 산업·기술 동향 및 이슈', 'content': 'D. Pinto, \"NVIDIA Announces Project GR00T Foundation Model for Humanoid Robots and Major Isaac Robotics Platform Update,\" NVIDIA Newsroon, Mar. 18, 2024. \\n\\nSamsung, \"온디바이스AI.\" \\n\\n임양섭, \"멀티모달 AI 경쟁과 다가오는 AGI,\" IITPICT SPOT ISSUE ICT 산업동향, SPOT 2024-02, 2024, pp. 1-21.\\n\\nM.R. Morris et al., \"Levels of AGI for Operationalizing Progress on the Path to AGI,\" Proceedings of ICML, 2024. \\n\\nForbes, \"OpenAI’s 5 Levels of ‘Super AI’(AGI To Outperform Human Capability),\" July 16, 2024. [...] Marketsandmarkets, \"Artificial Intelligence (AI) Market,\" May. 2024.\\n\\nGartner, \"Gartner Top 10 Strategic Technology Trends for 2025,\" Oct. 21, 2024.\\n\\nStanford University Human-Centered Artificial Intelligence, \"Artificial Intelligence Index Report 2024,\" Apr. 2024.\\n\\nFinancial Times, \"Big Tech groups say their $100bn AI spending spree is just beginning,\" Aug. 2, 2024.\\n\\nAI타임스, \"메타, 첫 멀티모달모델 ‘라마 3.2’ 출시… \"오픈소스로 폐쇄형 잡을 것\",\" 2024. 9. 26.\\n\\nAI타임스, \"네이버 \"멀티모달 모바일 AI 검색, 내년으로 출시 연기\",\" 2024. 11. 8. [...] 인공지능(AI: Artificial Intelligence) 산업은 생성형 AI의 등장 이후 빠르게 성장하고 있으며, 최근 출시된 각종 AI 서비스는 실생활에 적용되며 그 영역을 확장해 나가고 있다. 전 세계 인공지능 시장 규모는 2023년 기준 2,146억 달러에 달하며, 2030년 1조 3,391억 달러로 연평균 35.7% 성장할 것으로 전망된다. Gartner는 2025년 10대 전략 기술 트렌드에서 “에이전트 AI(Agentic AI)”, “AI 거버넌스 플랫폼(AI Governance Platform)” 등을 주요 트렌드로 꼽았으며, 몇 해 전부터 AI를 주요 기술 트렌드로 다루고 있기도 하다. 또한, 최근 기계학습(Machine Learning)의 기반을 구축한 존 홉필드 프린스턴대학교 교수와 제프리 힌턴 토론토대학교 교수의 노벨 물리학상 수상, 그리고 AI 모델로 단백질 구조를 예측하는 알파폴드(AlphaFold)를 개발한 데미스 허사비스 딥마인드 최고경영자와 존 점퍼', 'score': 0.82761955, 'raw_content': None}, {'url': 'https://spri.kr/search/result?s_tags=%EC%9D%B8%EA%B3%B5%EC%A7%80%EB%8A%A5', 'title': '인공지능', 'content': \"+ 2023년\\n  + 인공지능\\n  + 산업동향\\n + 이슈리포트\\n  + 한상열\\n\\n  + 2024.03.11\\n  + 10418\\n\\n  메타버스의 진화 : 공간컴퓨팅과 AI융합\\n\\n  공간컴퓨팅과 AI의 메타버스 융합은 현재 메타버스 한계를 극복하고 새로운 발전 기회를 제공할 것으로 보인다. (후략)\\n\\n  + 메타버스\\n  + 공간컴퓨팅\\n  + 인공지능\\n  + AI\\n  + XR\\n + 이슈리포트\\n  + 봉강호\\n  + 조지연\\n\\n  + 2024.03.11\\n  + 16088\\n\\n  인공지능 기술에 대한 중소기업의 인식 및 수요 조사분석\\n\\n  미국과 중국 간의 AI 기술패권 경쟁이 격화됨에 따라 주요 선진국들은 자립적 AI 기술생태계 확보의 중요성을 인식하고, 집중 투자 및 정책적 노력 강화를 추진하고 있다.(후략)\\n\\n  + 인공지능\\n  + AI\\n  + 기술수요\\n  + 중소기업\\n  + 신뢰성\\n + 이슈리포트\\n  + 유재흥\\n  + 안성원\\n  + 안미소\\n  + 노재원 [...] 스탠퍼드대학교 인간중심 인공지능 연구소(HAI)가 지난 4월 7일 'AI Index 2025' 보고서를 발간했다. 이번 보고서는 2017년부터 발간되어 올해 8번째로, 현재 글로벌 AI 현황에 대한 종합적인 관점의 브리핑을 제공한다. 소프트웨어정책연구소에서는 이 보고서의 주요 내용을 분석‧요약하고 우리의 전략적 대응을 제안하고자 한다. AI 연구개발 경쟁은 매년 더욱 치열해지고 있으며, 선두 주자인 미국과의 경쟁에서 중국의 약진이 두드러진다. AI의 성능은 매년 급격하게 증가하여 이를 측정하기 위한 새로운 벤치마크들이 등장했다. 고성능 모델들은 모델 간 성능 격차가 줄어들어 상향 평준화 되었다. 또한, AI의 활용 확산은 과학과 의료계의 발전을 이끌고 있으며, AI의 활용이 확산됨에 따라 책임있는 AI를 위한 다양한 노력들도 추진되고 있다. 이에 따라 각국에서는 AI에 관련한 규제 법률을 늘리고 있는 추세이다. AI 분야의 `24년의 글로벌 투자 수준은 경기침체로 인해 [...] and medicine, and various efforts for responsible AI are also being promoted as the use of AI spreads. Accordingly, each country is increasing regulatory laws related to AI. The level of global investment in the AI \\u200b\\u200bfield in 2024 has increased significantly, unlike 2022-2023, when it was decreasing due to the economic recession. As AI and CS education are rapidly spreading worldwide, the production of AI experts is also accelerating. While public opinion on AI is showing an increasing\", 'score': 0.77792513, 'raw_content': None}, {'url': 'http://www.itdaily.kr/news/articleView.html?idxno=232711', 'title': '[초점] 안정기 접어든 국내 AI 산업, 2024년 6.3조원 시장 형성', 'content': '## 상단영역\\n\\n## 본문영역\\n\\n[초점] 안정기 접어든 국내 AI 산업, 2024년 6.3조원 시장 형성\\n\\n스크롤 이동 상태바\\n\\n### [초점] 안정기 접어든 국내 AI 산업, 2024년 6.3조원 시장 형성\\n\\n 기자명\\n  박재현 기자\\n 입력 2025.05.02 16:53\\n 댓글 0\\n\\n#### B2B AI 기업 주도 성장…인력난 및 해외진출 과제 산적\\n\\n[아이티데일리] 2024년 국내 인공지능(AI) 기업들의 총 매출이 6조 3,009억 원을 기록했다. 2023년 기록한 5조 6,991억 원보다 12.5%(7,018억 원) 늘어난 수치다. 2021년 이후 3년간의 성장률 추이를 보면, 2021년~2022년 72%, 2022년~2023년 30%, 2023~2024년 12.5%로 성장세가 완만해지면서 과도기에서 안정기로 접어들었음을 보여준다. 이와 동시에 인력 부족과 해외 진출에 어려움을 겪는 기업도 상당한 것으로 나타났다. [...] 과학기술정보통신부 산하 소프트웨어정책연구소(SPRi)는 ‘한국 인공지능(AI) 산업 실태조사’를 발표하며 이 같은 내용을 소개했다.\\n\\nAI 산업 총매출, 6.3조…AI 응용 SW가 주도\\n\\n2024년 국내 AI 산업 전체 매출은 6조 3,009억 원으로, 2023년 5조 6,991억 원 대비 7,018억 원(12.5%) 증가했다. 2021년(2조 5,000억 원) 이후 3년 연속 72%, 30%, 12.5% 성장률을 기록하며 고성장을 거듭했다.\\n\\nAI 산업 실태조사에 따르면, 2024년 AI 사업 분야별로는 ‘AI 응용 SW’가 2조 6,682억 원(42.4%)로 전체 매출의 절반 가까이 차지했다. 이 분야에는 챗봇, 제조·생산 자동화 시스템 등 실무 적용 솔루션 기업들이 포진해 있다. 기업들의 디지털 전환 수요가 확대되면서 매출 역시 크게 늘어난 것으로 조사됐다. [...] 2024년 상반기까지 외부 투자 유치 실적은 404건, 8,892억 원으로, 전년(667건, 1조 9,300억 원) 대비 건수와 금액 모두 감소했다. 평균 투자 유치 금액도 2023년 45억 원에서 2024년 21억 원으로 줄었다. 이는 투자 시장의 불확실성과 AI 기업의 수익화 구조 미흡, 글로벌 경쟁력 부족 등이 복합적으로 작용한 결과로 풀이된다.\\n\\n기술 개발 열기는 특허 출원 현황에서 확인할 수 있었다. 2024년 6월 기준 누적 AI 관련 특허 출원 건수는 11,314건으로, 2022년(3,090건), 2023년(7,431건) 대비 빠르게 증가했다. 하지만 중소 AI 기업의 상당수는 투자 대비 수익성, 수익화 모델의 부재, 글로벌 시장 진출의 어려움 등 한계를 호소했다.', 'score': 0.77137923, 'raw_content': None}, {'url': 'https://blog-ko.superb-ai.com/ai-trends-2024-review/', 'title': '다시보는 2024년 AI 트렌드 - 슈퍼브 블로그', 'content': '2024년 기초모델의 발전은 여러 분야에 걸쳐 인공지능의 활용도를 높였으며, 특히 기업 환경에서 큰 주목을 받았다. 고객 서비스, 마케팅, 데이터 분석 등에서 생성형 AI의 도입이 본격화되었고, 이 모델들은 특정 분야에 맞게 fine-tuning 되어 더욱 정교한 서비스 제공이 가능해졌다. 또한, AI의 성능을 높이기 위해 기존의 모델들이 더욱 발전하고, 이들 간의 통합적인 활용이 이루어짐에 따라, 기초모델은 이제 단순한 기술적 도약을 넘어 다양한 산업 분야에서 혁신적인 변화를 이끌어가고 있다.\\n\\n이러한 기초모델의 발전은 2025년에는 더욱 가속화될 것으로 보인다. 각 산업에 특화된 모델들이 대거 출시될 것이며, 더욱 정교한 추론과 이해 능력을 갖춘 인공지능이 등장할 것이다. 이를 통해 다양한 분야에서의 AI 적용이 더욱 깊고 넓어질 것으로 예상된다.\\n\\n## 2. AI 에이전트와 생성형 AI 기반 대화형 검색엔진의 출현 [...] AI 인사이트\\n\\n# 다시보는 2024년 AI 트렌드\\n\\n2024년은 인공지능 업계의 변곡점이 된 해로, 생성형 AI가 실용성을 증명하며 다양한 산업에 적극 도입되었습니다. GPT-4o, o1 등 기초모델의 성능 향상과 함께 AI 에이전트, AI 지식 검색 플랫폼 등 새로운 서비스들이 주목받으며 AI 기술이 한층 더 진화한 한 해였습니다. 노벨 과학상 또한 인공지능 연구자들이 휩쓸었습니다. 2024년의 AI 트렌드를 정리해 봅니다.\\n\\n#### SUPERB AI\\n\\n• 11 min read\\n\\n## 2024년 한 해 AI는 우리의 삶을 어떻게 혁신했을까?\\n\\n2024년 한 해는 인공지능 업계가 중요한 변곡점을 맞이한 한 해였다고 평가할 수 있다. 2023년이 생성형 AI 서비스 프로토타입 개발을 중심으로 한 ‘검증’의 해였다면, 2024년은 기나긴 인공지능 겨울(AI Winter)를 지나온 인공지능 기술이 의심의 눈초리를 벗어던지고 스스로의 가치를 ‘증명’해낸 한해였기 때문이다. [...] 또한 2024년에는 Perplexity나 Goover와 같은 생성형 AI 기반 대화형 검색엔진이 약진하며 AI의 활용 범위를 더욱 넓히는 중요한 기술로 자리 잡았다. 기존의 검색 엔진이 텍스트 기반의 정보 검색에 한정되어 있었다면, 생성형 AI 기반의 지식 검색 플랫폼은 사용자에게 더 고도화된 정보 검색과 함께, 문제 해결을 위한 직접적인 솔루션을 제시할 수 있는 능력을 갖추게 되었다. 이러한 생성형 AI 기반 대화형 검색엔진은 기업들이 보다 정확한 정보에 빠르게 접근하고, 복잡한 문제를 해결하는 데 중요한 자원이 되고 있다.\\n\\n2024년에는 이러한 AI 에이전트와 지식 검색 플랫폼들이 더욱 고도화되며, 특정 산업이나 분야에 맞춤화된 솔루션을 제공하는 방향으로 발전할 것으로 예상된다. 또한, AI의 정확도와 효율성이 더욱 향상됨에 따라, 인간의 역할을 보완하는 수준을 넘어, 일부 분야에서는 인간을 대체할 수 있는 가능성까지 열릴 것이다.', 'score': 0.7578844, 'raw_content': None}, {'url': 'https://www.samsungsds.com/kr/insights/survival-strategy-of-ai-sapiens-age-part1.html', 'title': 'AI 사피엔스 시대 생존 전략 1 AI 혁명의 시작 | 인사이트리포트', 'content': \"2024년 하반기에 접어들면서, AI 기술이 실무에 어떻게 활용될 수 있는지에 대한 정보가 유튜브에 쏟아졌으며, 홈페이지 제작, 광고, 마케팅, 업무 보고서 작성, 이메일 작성, 해외 인력과의 소통 등 거의 모든 분야에서 AI를 활용하게 되었습니다. 또한, ‘퍼플렉시티 AI(Perplexity AI)’, ‘OpenAI’, ‘팔란티어(Palantir Technologies)’ 등 다양한 AI 기업의 서비스가 혁신을 일으키고 있습니다. ‘퍼플렉시티(Perplexity)’는 AI 기반 대화형 검색 플랫폼으로서 ChatGPT의 문제점이었던 할루시네이션을 상당히 해소했습니다. 이 플랫폼은 최신 리포트를 중심으로 2차 전지 등 특정 산업 분야의 동향을 요약하고, 출처 링크까지 제공하여 R&D 업무에 상당히 유용합니다. 2025년 2월, OpenAI는 이에 대응하여 '딥 리서치(Deep Research)'라는 서비스를 출시했고, 퍼플렉시티도 심층적인 연구 분석/분석을 위한 '딥 리서치(Deep [...] 2024년 1월부터 AI 모델은 빠른 속도로 발전하며 많은 수많은 모델이 쏟아져 나왔습니다. 인공지능으로 영화의 한 장면과 같은 사실적인 이미지를 생성하는 'Midjourney v6'부터 환상적인 동영상을 만드는 OpenAI의 'SORA'와 구글의 'VEO2'가 등장했으며, 사람처럼 대화하는 OpenAI의 'GPT-4o', 'GPT-o1'가 출시되는 등 빅테크가 리드하는 가운데 수백 개의 관련 스타트업이 성장하기 시작했습니다. GPT-4o는 인간의 감정을 담아서 대화해 주는 서비스인데, 시각 장애인을 위해 폰으로 주변 환경을 설명해 주고 마치 친구처럼 택시까지 불러 주기도 합니다. GPT-o1 모델은 '생각하는 AI'로 불리며, IQ 테스트에서 수리 과학 영역으로 120점이 나오면서 실리콘밸리의 중하급 개발자들이 일자리를 위협할 수준이 되었습니다. 영상을 제작해 주는 SORA는 지구의 모든 물리 법칙을 학습해서 영상을 생성하기 때문에, 지하철에서 바깥 풍경을 바라보는 장면에서 잠깐\", 'score': 0.75049835, 'raw_content': None}], 'response_time': 1.15, 'request_id': 'c464bd1a-bd18-4bf3-b5a6-8ab5ac3565de'}\u001b[0m\u001b[32;1m\u001b[1;3m2023년 이후 인공지능 산업은 더욱 빠른 성장과 혁신을 보이고 있습니다. 최근 조사에 따르면, 전 세계 인공지능 시장 규모는 2023년 기준으로 2,146억 달러에 달하며, 2030년에는 1조 3,391억 달러까지 성장할 전망입니다(연평균 35.7%). 또한, 인공지능 기술의 발전과 함께 생성형 AI, AI 에이전트, 멀티모달 모델 등 다양한 신기술이 상용화되고 있습니다.\n",
      "\n",
      "특히, 글로벌 투자가 다시 활발해지고 있으며, 미국과 중국의 경쟁이 치열한 가운데, AI의 성능은 매년 급격히 향상되고 있습니다. 기업들은 고객 서비스, 마케팅, 제조업 등 다양한 산업 분야에서 AI를 적극 활용하고 있으며, 국내 시장도 2024년에는 약 6.3조 원 규모로 안정기에 접어들어 성장세를 유지하고 있습니다.\n",
      "\n",
      "이밖에도 AI 규제 법률 강화, 책임있는 AI 개발 노력, 특허 출원 증가 등 산업 전반에 걸친 변화가 지속되고 있음을 볼 수 있습니다. 2024년과 2025년에 걸쳐 산업의 다양한 분야에서 AI의 역할이 더욱 확대되고 있으며, 산업별 맞춤형 모델과 고도화된 AI 솔루션이 등장할 것으로 기대되고 있습니다.\u001b[0m\n",
      "\n",
      "\u001b[1m> Finished chain.\u001b[0m\n"
     ]
    },
    {
     "data": {
      "text/plain": [
       "{'input': '방금 말한 내용들 2023년 기준인데, 요즘엔 어떻게 됐대?',\n",
       " 'chat_history': [HumanMessage(content='방금 말한 내용들 2023년 기준인데, 요즘엔 어떻게 됐대?', additional_kwargs={}, response_metadata={}),\n",
       "  AIMessage(content='2023년 이후 인공지능 산업은 더욱 빠른 성장과 혁신을 보이고 있습니다. 최근 조사에 따르면, 전 세계 인공지능 시장 규모는 2023년 기준으로 2,146억 달러에 달하며, 2030년에는 1조 3,391억 달러까지 성장할 전망입니다(연평균 35.7%). 또한, 인공지능 기술의 발전과 함께 생성형 AI, AI 에이전트, 멀티모달 모델 등 다양한 신기술이 상용화되고 있습니다.\\n\\n특히, 글로벌 투자가 다시 활발해지고 있으며, 미국과 중국의 경쟁이 치열한 가운데, AI의 성능은 매년 급격히 향상되고 있습니다. 기업들은 고객 서비스, 마케팅, 제조업 등 다양한 산업 분야에서 AI를 적극 활용하고 있으며, 국내 시장도 2024년에는 약 6.3조 원 규모로 안정기에 접어들어 성장세를 유지하고 있습니다.\\n\\n이밖에도 AI 규제 법률 강화, 책임있는 AI 개발 노력, 특허 출원 증가 등 산업 전반에 걸친 변화가 지속되고 있음을 볼 수 있습니다. 2024년과 2025년에 걸쳐 산업의 다양한 분야에서 AI의 역할이 더욱 확대되고 있으며, 산업별 맞춤형 모델과 고도화된 AI 솔루션이 등장할 것으로 기대되고 있습니다.', additional_kwargs={}, response_metadata={})],\n",
       " 'output': '2023년 이후 인공지능 산업은 더욱 빠른 성장과 혁신을 보이고 있습니다. 최근 조사에 따르면, 전 세계 인공지능 시장 규모는 2023년 기준으로 2,146억 달러에 달하며, 2030년에는 1조 3,391억 달러까지 성장할 전망입니다(연평균 35.7%). 또한, 인공지능 기술의 발전과 함께 생성형 AI, AI 에이전트, 멀티모달 모델 등 다양한 신기술이 상용화되고 있습니다.\\n\\n특히, 글로벌 투자가 다시 활발해지고 있으며, 미국과 중국의 경쟁이 치열한 가운데, AI의 성능은 매년 급격히 향상되고 있습니다. 기업들은 고객 서비스, 마케팅, 제조업 등 다양한 산업 분야에서 AI를 적극 활용하고 있으며, 국내 시장도 2024년에는 약 6.3조 원 규모로 안정기에 접어들어 성장세를 유지하고 있습니다.\\n\\n이밖에도 AI 규제 법률 강화, 책임있는 AI 개발 노력, 특허 출원 증가 등 산업 전반에 걸친 변화가 지속되고 있음을 볼 수 있습니다. 2024년과 2025년에 걸쳐 산업의 다양한 분야에서 AI의 역할이 더욱 확대되고 있으며, 산업별 맞춤형 모델과 고도화된 AI 솔루션이 등장할 것으로 기대되고 있습니다.'}"
      ]
     },
     "execution_count": 29,
     "metadata": {},
     "output_type": "execute_result"
    }
   ],
   "source": [
    "agent_executor.invoke({'input': '방금 말한 내용들 2023년 기준인데, 요즘엔 어떻게 됐대?'})"
   ]
  }
 ],
 "metadata": {
  "kernelspec": {
   "display_name": "Python 3",
   "language": "python",
   "name": "python3"
  },
  "language_info": {
   "codemirror_mode": {
    "name": "ipython",
    "version": 3
   },
   "file_extension": ".py",
   "mimetype": "text/x-python",
   "name": "python",
   "nbconvert_exporter": "python",
   "pygments_lexer": "ipython3",
   "version": "3.13.4"
  }
 },
 "nbformat": 4,
 "nbformat_minor": 5
}
