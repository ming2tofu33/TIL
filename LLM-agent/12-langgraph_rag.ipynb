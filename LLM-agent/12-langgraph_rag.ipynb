{
 "cells": [
  {
   "cell_type": "markdown",
   "id": "f5b51629",
   "metadata": {},
   "source": [
    "# `12-langgraph_rag.ipynb`\n",
    "\n",
    "# RAG w/ Langgraph"
   ]
  },
  {
   "cell_type": "code",
   "execution_count": 1,
   "id": "3082abcf",
   "metadata": {},
   "outputs": [
    {
     "data": {
      "text/plain": [
       "True"
      ]
     },
     "execution_count": 1,
     "metadata": {},
     "output_type": "execute_result"
    }
   ],
   "source": [
    "from dotenv import load_dotenv\n",
    "\n",
    "load_dotenv()"
   ]
  },
  {
   "cell_type": "code",
   "execution_count": null,
   "id": "c5cd4f37",
   "metadata": {},
   "outputs": [
    {
     "name": "stdout",
     "output_type": "stream",
     "text": [
      "63\n"
     ]
    }
   ],
   "source": [
    "from pprint import pprint\n",
    "\n",
    "# 1. Loader (웹문서)\n",
    "from langchain_community.document_loaders import WebBaseLoader\n",
    "from bs4.filter import SoupStrainer  # pip install beautifulsoup4\n",
    "\n",
    "loader = WebBaseLoader(\n",
    "    # 문서 출처 URL\n",
    "    web_paths=('https://lilianweng.github.io/posts/2023-06-23-agent/', ),\n",
    "    # 웹페이지 안에서 필요한 정보만 선택\n",
    "    bs_kwargs={\n",
    "        'parse_only': SoupStrainer(class_=['post-content']) \n",
    "    }\n",
    "    # header_template={}\n",
    ")\n",
    "docs = loader.load()\n",
    "\n",
    "# 2. Splitter\n",
    "from langchain_text_splitters import RecursiveCharacterTextSplitter\n",
    "\n",
    "splitter = RecursiveCharacterTextSplitter(chunk_size=1000, chunk_overlap=200)\n",
    "splitted_docs = splitter.split_documents(docs)\n",
    "print(len(splitted_docs))\n",
    "\n",
    "# 3. Embedding Model\n",
    "from langchain_openai import OpenAIEmbeddings\n",
    "embedding = OpenAIEmbeddings(model='text-embedding-3-small')  # small <-> large\n",
    "\n",
    "# 4. Vectorstore (지금은 FAISS -> 클라우드-Pinecone)\n",
    "from langchain_community.vectorstores import FAISS\n",
    "\n",
    "vectorstore = FAISS.from_documents(splitted_docs, embedding=embedding)"
   ]
  },
  {
   "cell_type": "code",
   "execution_count": 12,
   "id": "da222571",
   "metadata": {},
   "outputs": [
    {
     "name": "stdout",
     "output_type": "stream",
     "text": [
      "================================\u001b[1m Human Message \u001b[0m=================================\n",
      "\n",
      "You are an assistant for question-answering tasks. Use the following pieces of retrieved context to answer the question. If you don't know the answer, just say that you don't know. Use three sentences maximum and keep the answer concise.\n",
      "Question: \u001b[33;1m\u001b[1;3m{question}\u001b[0m \n",
      "Context: \u001b[33;1m\u001b[1;3m{context}\u001b[0m \n",
      "Answer:\n"
     ]
    }
   ],
   "source": [
    "from langchain import hub\n",
    "\n",
    "prompt = hub.pull('rlm/rag-prompt')\n",
    "\n",
    "for m in prompt.messages:\n",
    "    m.pretty_print()"
   ]
  },
  {
   "cell_type": "code",
   "execution_count": null,
   "id": "b0f8fd6f",
   "metadata": {},
   "outputs": [],
   "source": [
    "\n",
    "\n",
    "# State\n",
    "from langchain_core.documents import Document\n",
    "from typing_extensions import TypedDict, List\n",
    "\n",
    "class State(TypedDict):\n",
    "    question: str\n",
    "    context: List[Document] # RAG 데이터 문서 조각\n",
    "    answer: str\n",
    "    \n",
    "# Node - Edge\n",
    "\n",
    "# 검색 노드\n",
    "def retrieve(state: State):\n",
    "    retrieved_docs = vectorstore.similarity_search(state['question'], k=4)\n",
    "    # 나머지 return 하지 않은 state 항목들은, 알아서 그대로 감 (question, answer는 알아서 그대로 나감)\n",
    "    return {'context': retrieved_docs, }\n",
    "\n",
    "def generate(state: State):\n",
    "    question_with_context = prompt.invoke({'question': state['question'], 'context': state['context']})\n",
    "    llm.invoke(question_with_context)\n",
    "\n",
    "# Graph"
   ]
  }
 ],
 "metadata": {
  "kernelspec": {
   "display_name": "Python 3",
   "language": "python",
   "name": "python3"
  },
  "language_info": {
   "codemirror_mode": {
    "name": "ipython",
    "version": 3
   },
   "file_extension": ".py",
   "mimetype": "text/x-python",
   "name": "python",
   "nbconvert_exporter": "python",
   "pygments_lexer": "ipython3",
   "version": "3.13.4"
  }
 },
 "nbformat": 4,
 "nbformat_minor": 5
}
