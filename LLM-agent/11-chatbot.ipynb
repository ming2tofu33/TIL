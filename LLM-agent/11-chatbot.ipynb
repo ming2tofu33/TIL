{
 "cells": [
  {
   "cell_type": "markdown",
   "id": "1c06f221",
   "metadata": {},
   "source": [
    "# `11-chatbot.ipynb`\n",
    "\n",
    "# Build Chatbot\n",
    "- https://python.langchain.com/docs/tutorials/chatbot/"
   ]
  },
  {
   "cell_type": "code",
   "execution_count": 2,
   "id": "1da67611",
   "metadata": {},
   "outputs": [
    {
     "data": {
      "text/plain": [
       "True"
      ]
     },
     "execution_count": 2,
     "metadata": {},
     "output_type": "execute_result"
    }
   ],
   "source": [
    "from dotenv import load_dotenv\n",
    "from langchain_openai import ChatOpenAI\n",
    "\n",
    "load_dotenv()"
   ]
  },
  {
   "cell_type": "code",
   "execution_count": 4,
   "id": "0bf0825e",
   "metadata": {},
   "outputs": [
    {
     "name": "stdout",
     "output_type": "stream",
     "text": [
      "==================================\u001b[1m Ai Message \u001b[0m==================================\n",
      "\n",
      "Hello, Bob!\n"
     ]
    }
   ],
   "source": [
    "from langchain_core.messages import HumanMessage, AIMessage\n",
    "\n",
    "messages = [\n",
    "    HumanMessage(content='Hi, I am Bob'),\n",
    "    AIMessage(content='Hello Bob. How can I help you?'),\n",
    "    HumanMessage(content='Say my name.')\n",
    "]\n",
    "\n",
    "llm = ChatOpenAI(model='gpt-4.1-nano', temperature=0)\n",
    "\n",
    "res = llm.invoke(messages)\n",
    "\n",
    "res.pretty_print()"
   ]
  },
  {
   "cell_type": "code",
   "execution_count": 5,
   "id": "00bb5f01",
   "metadata": {},
   "outputs": [],
   "source": [
    "from langgraph.checkpoint.memory import MemorySaver\n",
    "from langgraph.graph import START, END, MessagesState, StateGraph\n",
    "\n",
    "# Graph Builder\n",
    "builder = StateGraph(state_schema=MessagesState)\n",
    "\n",
    "# Node\n",
    "def simple_node(state: MessagesState):\n",
    "    res = llm.invoke(state['messages'])\n",
    "    return {'messages': res}\n",
    "\n",
    "builder.add_node('simple_node', simple_node)\n",
    "\n",
    "# Edge (Node 끼리 연결)\n",
    "builder.add_edge(START, 'simple_node')\n",
    "builder.add_edge('simple_node', END)\n",
    "\n",
    "# Memory (대화내역 기록)\n",
    "memory = MemorySaver()\n",
    "\n",
    "# Graph (그래프 생성)\n",
    "graph = builder.compile(checkpointer=memory)"
   ]
  },
  {
   "cell_type": "code",
   "execution_count": 6,
   "id": "6a6573a7",
   "metadata": {},
   "outputs": [
    {
     "data": {
      "text/plain": [
       "{'messages': [HumanMessage(content='Hi, I am Bob', additional_kwargs={}, response_metadata={}, id='ff726c65-01a0-4090-9714-95a56ee73057'),\n",
       "  AIMessage(content='Hello Bob. How can I help you?', additional_kwargs={}, response_metadata={}, id='f7aa3ca9-6e59-4028-bb86-3bd2587fe5a4'),\n",
       "  HumanMessage(content='Say my name.', additional_kwargs={}, response_metadata={}, id='feec7b44-f46d-4dbb-ab93-bc5cc27631e8'),\n",
       "  AIMessage(content='Hello, Bob!', additional_kwargs={'refusal': None}, response_metadata={'token_usage': {'completion_tokens': 4, 'prompt_tokens': 33, 'total_tokens': 37, 'completion_tokens_details': {'accepted_prediction_tokens': 0, 'audio_tokens': 0, 'reasoning_tokens': 0, 'rejected_prediction_tokens': 0}, 'prompt_tokens_details': {'audio_tokens': 0, 'cached_tokens': 0}}, 'model_name': 'gpt-4.1-nano-2025-04-14', 'system_fingerprint': 'fp_7c233bf9d1', 'id': 'chatcmpl-CDKSxOwO6JtAW2IiaYsKZGTWfOM5E', 'service_tier': 'default', 'finish_reason': 'stop', 'logprobs': None}, id='run--07ac0c5b-6242-4859-889e-ac2df5b7d090-0', usage_metadata={'input_tokens': 33, 'output_tokens': 4, 'total_tokens': 37, 'input_token_details': {'audio': 0, 'cache_read': 0}, 'output_token_details': {'audio': 0, 'reasoning': 0}})]}"
      ]
     },
     "execution_count": 6,
     "metadata": {},
     "output_type": "execute_result"
    }
   ],
   "source": [
    "# 설정(conf, config, configuration -> 설정)\n",
    "config = {'configurable': {'thread_id': 'abc123'}} # 채팅방 아이디\n",
    "\n",
    "graph.invoke({'messages': messages}, config=config)"
   ]
  },
  {
   "cell_type": "code",
   "execution_count": 8,
   "id": "8b317217",
   "metadata": {},
   "outputs": [
    {
     "name": "stdout",
     "output_type": "stream",
     "text": [
      "b46c96b4-8c4f-11f0-8a1f-a0d36593c8de\n"
     ]
    },
    {
     "data": {
      "text/plain": [
       "{'messages': [HumanMessage(content='내 이름은 말해.', additional_kwargs={}, response_metadata={}, id='aab0c3bf-b010-4e1a-b5c2-ccdd9c1ad5d2'),\n",
       "  AIMessage(content='죄송하지만, 저는 당신의 이름을 알지 못해요. 혹시 알려주실 수 있나요?', additional_kwargs={'refusal': None}, response_metadata={'token_usage': {'completion_tokens': 24, 'prompt_tokens': 13, 'total_tokens': 37, 'completion_tokens_details': {'accepted_prediction_tokens': 0, 'audio_tokens': 0, 'reasoning_tokens': 0, 'rejected_prediction_tokens': 0}, 'prompt_tokens_details': {'audio_tokens': 0, 'cached_tokens': 0}}, 'model_name': 'gpt-4.1-nano-2025-04-14', 'system_fingerprint': 'fp_7c233bf9d1', 'id': 'chatcmpl-CDKUiExTmgr71k3ITkawFKjhToaG1', 'service_tier': 'default', 'finish_reason': 'stop', 'logprobs': None}, id='run--ccd541cd-0b12-448e-8eee-6d51cbc2cb41-0', usage_metadata={'input_tokens': 13, 'output_tokens': 24, 'total_tokens': 37, 'input_token_details': {'audio': 0, 'cache_read': 0}, 'output_token_details': {'audio': 0, 'reasoning': 0}}),\n",
       "  HumanMessage(content='내 이름은 말해.', additional_kwargs={}, response_metadata={}, id='0062188f-d4c2-419d-8c1c-2ef6190ea720'),\n",
       "  AIMessage(content='당신의 이름이 무엇인지 제가 알 수 없어요. 혹시 알려주실 수 있나요?', additional_kwargs={'refusal': None}, response_metadata={'token_usage': {'completion_tokens': 22, 'prompt_tokens': 51, 'total_tokens': 73, 'completion_tokens_details': {'accepted_prediction_tokens': 0, 'audio_tokens': 0, 'reasoning_tokens': 0, 'rejected_prediction_tokens': 0}, 'prompt_tokens_details': {'audio_tokens': 0, 'cached_tokens': 0}}, 'model_name': 'gpt-4.1-nano-2025-04-14', 'system_fingerprint': 'fp_04d3664870', 'id': 'chatcmpl-CDKaXSP5YhyKiAYuBP8BeYXBATtIm', 'service_tier': 'default', 'finish_reason': 'stop', 'logprobs': None}, id='run--18cf2026-4838-404b-ba4d-e5f5a9342508-0', usage_metadata={'input_tokens': 51, 'output_tokens': 22, 'total_tokens': 73, 'input_token_details': {'audio': 0, 'cache_read': 0}, 'output_token_details': {'audio': 0, 'reasoning': 0}})]}"
      ]
     },
     "execution_count": 8,
     "metadata": {},
     "output_type": "execute_result"
    }
   ],
   "source": [
    "import uuid\n",
    "\n",
    "u_id = uuid.uuid1()\n",
    "print(u_id)\n",
    "\n",
    "config = {'configurable': {'thread_id': '가나다123'}} # 채팅방 아이디 -> 추후에는 UUID 형식으로 생성\n",
    "messages = [\n",
    "    HumanMessage(content='내 이름은 말해.')\n",
    "]\n",
    "\n",
    "graph.invoke({'messages': messages}, config=config)"
   ]
  },
  {
   "cell_type": "markdown",
   "id": "b41a25f3",
   "metadata": {},
   "source": [
    "## Langgraph + `PromptTemplate`"
   ]
  },
  {
   "cell_type": "code",
   "execution_count": 11,
   "id": "192b1b69",
   "metadata": {},
   "outputs": [
    {
     "name": "stdout",
     "output_type": "stream",
     "text": [
      "content='You need to think and speak like gen-z' additional_kwargs={} response_metadata={}\n",
      "content='hi' additional_kwargs={} response_metadata={}\n"
     ]
    }
   ],
   "source": [
    "from langchain_core.prompts import ChatPromptTemplate, MessagesPlaceholder\n",
    "\n",
    "prompt_template = ChatPromptTemplate.from_messages([\n",
    "    ('system', 'You need to think and speak like gen-z'), \n",
    "    MessagesPlaceholder(variable_name='messages')\n",
    "])\n",
    "\n",
    "# 실행 예시\n",
    "for msg in prompt_template.invoke({'messages': ['hi']}).messages:\n",
    "    print(msg)"
   ]
  },
  {
   "cell_type": "markdown",
   "id": "cc8d4833",
   "metadata": {},
   "source": [
    "## State 확장"
   ]
  },
  {
   "cell_type": "code",
   "execution_count": 29,
   "id": "e48ada72",
   "metadata": {},
   "outputs": [],
   "source": [
    "# 내장된 MessagesState를 확장해서 사용\n",
    "class MyState(MessagesState):\n",
    "    # 상속받아서 이미 key 'messages'는 있음\n",
    "    # messages: Annotated[list[AnyMessage], add_messages]\n",
    "    lang: str\n",
    "\n",
    "builder = StateGraph(state_schema=MyState)\n",
    "\n",
    "prompt_template = ChatPromptTemplate.from_messages([\n",
    "    ('system', '너는 유능한 어시스턴트야. 너의 능력을 최대한 활용해서 답을 해봐. {lang} 언어로 답해.'),\n",
    "    MessagesPlaceholder(variable_name='messages')  # 모든 저장된 대화 내용(최신것 포함)\n",
    "])\n",
    "\n",
    "def simple_node(state: MyState):\n",
    "    # prompt 추가.\n",
    "    chain = prompt_template | llm  # 체인 방식\n",
    "    res = chain.invoke(state)\n",
    "\n",
    "    return {'messages': res}\n",
    "\n",
    "builder.add_node('simple_node', simple_node)\n",
    "\n",
    "builder.add_edge(START, 'simple_node')\n",
    "builder.add_edge('simple_node', END)\n",
    "\n",
    "memory = MemorySaver()\n",
    "\n",
    "graph = builder.compile(checkpointer=memory)"
   ]
  },
  {
   "cell_type": "code",
   "execution_count": 30,
   "id": "adb47a5a",
   "metadata": {},
   "outputs": [
    {
     "name": "stdout",
     "output_type": "stream",
     "text": [
      "================================\u001b[1m Human Message \u001b[0m=================================\n",
      "\n",
      "안녕 나는 이상한 나라의 앨리스야\n",
      "==================================\u001b[1m Ai Message \u001b[0m==================================\n",
      "\n",
      "你好，爱丽丝！很高兴见到你。你来自奇幻的奇境，想要探索什么样的奇妙冒险呢？\n"
     ]
    }
   ],
   "source": [
    "config = {'configurable': {'thread_id': 'abc1'}}\n",
    "state = {\n",
    "    'messages':[HumanMessage(content='안녕 나는 이상한 나라의 앨리스야')],\n",
    "    'lang': 'Chinese'\n",
    "}\n",
    "\n",
    "res = graph.invoke(state, config)\n",
    "\n",
    "for msg in res['messages']:\n",
    "    msg.pretty_print()"
   ]
  },
  {
   "cell_type": "markdown",
   "id": "b6f5d6c4",
   "metadata": {},
   "source": [
    "## 대화 기록 관리하기\n",
    "\n",
    "대화 내역을 관리하지 않으면, LLM의 컨텍스트 윈도우(입력 최대치)를 넘어가 버림."
   ]
  },
  {
   "cell_type": "code",
   "execution_count": 33,
   "id": "73687678",
   "metadata": {},
   "outputs": [],
   "source": [
    "from langchain_core.messages import SystemMessage, HumanMessage, AIMessage, trim_messages\n",
    "\n",
    "# trim - 정리하다\n",
    "trimmer = trim_messages(\n",
    "    strategy='last',        # 최신 메세지들을\n",
    "    max_tokens=65,           # 최대 65 토큰까지만 허용\n",
    "    token_counter=llm,      # llm 모델에 맞춰서 토큰 세고\n",
    "    include_system=True,    # system 프롬포트는 포함(정리X)\n",
    "    allow_partial=False,    # 메세지 중간에서 자르지는 말고\n",
    "    start_on='human'        # 잘린 메세지의 첫번째는 사람 메세지가 되도록\n",
    ")"
   ]
  },
  {
   "cell_type": "code",
   "execution_count": null,
   "id": "0e42c0c6",
   "metadata": {},
   "outputs": [
    {
     "data": {
      "text/plain": [
       "[SystemMessage(content=\"you're a good assistant\", additional_kwargs={}, response_metadata={}),\n",
       " HumanMessage(content='whats 2 + 2', additional_kwargs={}, response_metadata={}),\n",
       " AIMessage(content='4', additional_kwargs={}, response_metadata={}),\n",
       " HumanMessage(content='thanks', additional_kwargs={}, response_metadata={}),\n",
       " AIMessage(content='no problem!', additional_kwargs={}, response_metadata={}),\n",
       " HumanMessage(content='having fun?', additional_kwargs={}, response_metadata={}),\n",
       " AIMessage(content='yes!', additional_kwargs={}, response_metadata={})]"
      ]
     },
     "execution_count": 34,
     "metadata": {},
     "output_type": "execute_result"
    }
   ],
   "source": [
    "messages = [\n",
    "    SystemMessage(content=\"you're a good assistant\"),\n",
    "    \n",
    "    HumanMessage(content=\"hi! I'm bob\"),\n",
    "    AIMessage(content=\"hi!\"),\n",
    "    HumanMessage(content=\"I like vanilla ice cream\"),\n",
    "    AIMessage(content=\"nice\"),\n",
    "    HumanMessage(content=\"whats 2 + 2\"),\n",
    "    AIMessage(content=\"4\"),\n",
    "    HumanMessage(content=\"thanks\"),\n",
    "    AIMessage(content=\"no problem!\"),\n",
    "    HumanMessage(content=\"having fun?\"),\n",
    "    AIMessage(content=\"yes!\"),\n",
    "]\n",
    "\n",
    "trimmer.invoke(messages)  # 시스템 메세지 -> 2+2 부터 등장"
   ]
  },
  {
   "cell_type": "code",
   "execution_count": null,
   "id": "227e49d1",
   "metadata": {},
   "outputs": [],
   "source": [
    "class MyState(MessagesState):\n",
    "    # messages: ~~\n",
    "    lang: str\n",
    "\n",
    "\n",
    "builder = StateGraph(state_schema=MyState)\n",
    "\n",
    "prompt_template = ChatPromptTemplate.from_messages([\n",
    "    ('system', '너는 유능한 어시스턴트야. 너의 능력을 최대한 활용해서 답을 해봐. {lang} 언어로 답해.'),\n",
    "    MessagesPlaceholder(variable_name='messages')  # 모든 저장된 대화 내용(최신것 포함)\n",
    "])\n",
    "\n",
    "\n",
    "def simple_node(state: MyState):\n",
    "    # 메세지 정리 -> 프롬프트 생성 -> LLM 답변\n",
    "    # print('정리 전 메시지 개수: ', len(state['messages']))\n",
    "    trimmed_messages = trimmer.invoke(state['messages'])\n",
    "    # print('정리 후 메시지 개수: ', len(trimmed_messages))\n",
    "    \n",
    "    # 체인 생성\n",
    "    chain = prompt_template | llm\n",
    "    \n",
    "    # 정리된 메세지로 state 교체 후, 체인 실행\n",
    "    state['messages'] = trimmed_messages\n",
    "    res = chain.invoke(state)\n",
    "\n",
    "    return {'messages': res}\n",
    "\n",
    "\n",
    "builder.add_node('simple_node', simple_node)\n",
    "\n",
    "builder.add_edge(START, 'simple_node')\n",
    "builder.add_edge('simple_node', END)\n",
    "\n",
    "memory = MemorySaver()\n",
    "\n",
    "graph = builder.compile(checkpointer=memory)"
   ]
  },
  {
   "cell_type": "code",
   "execution_count": null,
   "id": "84b8614f",
   "metadata": {},
   "outputs": [
    {
     "name": "stdout",
     "output_type": "stream",
     "text": [
      "정리 전 메세지 개수:  5\n",
      "정리 후 메세지 개수:  1\n",
      "================================\u001b[1m Human Message \u001b[0m=================================\n",
      "\n",
      "한국 라면 추천 좀\n",
      "\t None\n",
      "|当然|可以|！|以下|是|一些|受|欢迎|的|韩国|拉|面|推荐|：\n",
      "\n",
      "|1|.| 辛|拉|面|（|Sh|in| Ram|yun|）|  \n",
      "|  | -| 特|点|：|辣|味|十|足|，|汤|头|浓|郁|，|面|条|弹|牙|。|  \n",
      "|  | -| |适|合|喜欢|辣|味|的|朋友|。\n",
      "\n",
      "|2|.| 三|养|火|鸡|面|（|Sam|yang| Hot| Chicken| Flavor| R|amen|）|  \n",
      "|  | -| 特|点|：|极|辣|，|风|靡|全球|的|“|火|鸡|面|”。|  \n",
      "|  | -| 建|议|逐|步|尝|试|，|适|合|喜欢|挑战|辣|味|的|食|客|。\n",
      "\n",
      "|3|.| |皱|眉|面|（|J|j|apag|etti|）|  \n",
      "|  | -| 特|点|：|非|辣|口|味|，|偏|向|酱|料|，|口|感|丰富|。|  \n",
      "|  | -| |适|合|不|喜欢|辣|的|朋友|。\n",
      "\n",
      "|4|.| |牧|羊|人|拉|面|（|Ne|og|uri|）|  \n",
      "|  | -| 特|点|：|海|鲜|味|浓|郁|，|汤|底|偏|咸|鲜|，|面|条|宽|厚|。|  \n",
      "|  | -| |适|合|喜欢|海|鲜|风|味|的|食|客|。\n",
      "\n",
      "|5|.| |方便|面|（|B|uld|ak| Bok|ke|um| My|un|）|  \n",
      "|  | -| 特|点|：|辣|味|酱|炒|面|，|辣|度|较|高|，|口|感|丰富|。|  \n",
      "|  | -| |适|合|喜欢|辣|味|和|炒|面的|朋友|。\n",
      "\n",
      "|如果|你|喜欢|辣|味|，|推荐|辛|拉|面|和|火|鸡|面|；|如果|偏|好|清|淡|或|海|鲜|口|味|，可以|试|试|皱|眉|面|或|牧|羊|人|拉|面|。|希望|你|能|找到|喜欢|的|韩国|拉|面|！||"
     ]
    }
   ],
   "source": [
    "config = {'configurable': {'thread_id': 'abc1'}}\n",
    "state = {\n",
    "    'messages':[HumanMessage(content='한국 라면 추천')],\n",
    "    'lang': 'Chinese'\n",
    "}\n",
    "\n",
    "for chunk, metadata in graph.stream(state, config, stream_mode='messages'):\n",
    "    print(chunk.content, end='|')"
   ]
  }
 ],
 "metadata": {
  "kernelspec": {
   "display_name": "Python 3",
   "language": "python",
   "name": "python3"
  },
  "language_info": {
   "codemirror_mode": {
    "name": "ipython",
    "version": 3
   },
   "file_extension": ".py",
   "mimetype": "text/x-python",
   "name": "python",
   "nbconvert_exporter": "python",
   "pygments_lexer": "ipython3",
   "version": "3.13.4"
  }
 },
 "nbformat": 4,
 "nbformat_minor": 5
}
