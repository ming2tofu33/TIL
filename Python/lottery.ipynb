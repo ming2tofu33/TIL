{
 "cells": [
  {
   "cell_type": "markdown",
   "id": "c62a0c86",
   "metadata": {},
   "source": [
    "# Lottery"
   ]
  },
  {
   "cell_type": "markdown",
   "id": "3831c282",
   "metadata": {},
   "source": [
    "URL URI -> 요청을 보낸다. -> 응답 "
   ]
  },
  {
   "cell_type": "markdown",
   "id": "ab7eea3c",
   "metadata": {},
   "source": [
    "### Draw your own lottery number! good luck 👍❤️\n",
    "6 random numbers will pop out from number range of 1 to 45"
   ]
  },
  {
   "cell_type": "code",
   "execution_count": 586,
   "id": "6197dd6f",
   "metadata": {},
   "outputs": [],
   "source": [
    "import random\n",
    "\n",
    "my_numbers = random.sample(range(1, 46), 6)"
   ]
  },
  {
   "cell_type": "markdown",
   "id": "b02cd8f9",
   "metadata": {},
   "source": [
    "### Here are your numbers\n",
    "I'll sort numbers and show your numbers again in order"
   ]
  },
  {
   "cell_type": "code",
   "execution_count": 587,
   "id": "f3f35775",
   "metadata": {},
   "outputs": [
    {
     "name": "stdout",
     "output_type": "stream",
     "text": [
      "[20, 8, 14, 24, 41, 11]\n",
      "[8, 11, 14, 20, 24, 41]\n"
     ]
    }
   ],
   "source": [
    "print(my_numbers)\n",
    "my_numbers.sort()\n",
    "print(my_numbers)"
   ]
  },
  {
   "cell_type": "code",
   "execution_count": 593,
   "id": "3029d52b",
   "metadata": {},
   "outputs": [
    {
     "data": {
      "text/plain": [
       "'{\"totSellamnt\":113802682000,\"returnValue\":\"success\",\"drwNoDate\":\"2025-07-19\",\"firstWinamnt\":1593643500,\"drwtNo6\":41,\"drwtNo4\":20,\"firstPrzwnerCo\":17,\"drwtNo5\":33,\"bnusNo\":28,\"firstAccumamnt\":27091939500,\"drwNo\":1181,\"drwtNo2\":10,\"drwtNo3\":14,\"drwtNo1\":8}'"
      ]
     },
     "execution_count": 593,
     "metadata": {},
     "output_type": "execute_result"
    }
   ],
   "source": [
    "import requests\n",
    "\n",
    "URL = '''https://www.dhlottery.co.kr/common.do?method=getLottoNumber&drwNo=1181'''\n",
    "\n",
    "res = requests.get(URL)\n",
    "\n",
    "res\n",
    "res.text"
   ]
  },
  {
   "cell_type": "code",
   "execution_count": 594,
   "id": "b540d9c5",
   "metadata": {},
   "outputs": [
    {
     "data": {
      "text/plain": [
       "{'totSellamnt': 113802682000,\n",
       " 'returnValue': 'success',\n",
       " 'drwNoDate': '2025-07-19',\n",
       " 'firstWinamnt': 1593643500,\n",
       " 'drwtNo6': 41,\n",
       " 'drwtNo4': 20,\n",
       " 'firstPrzwnerCo': 17,\n",
       " 'drwtNo5': 33,\n",
       " 'bnusNo': 28,\n",
       " 'firstAccumamnt': 27091939500,\n",
       " 'drwNo': 1181,\n",
       " 'drwtNo2': 10,\n",
       " 'drwtNo3': 14,\n",
       " 'drwtNo1': 8}"
      ]
     },
     "execution_count": 594,
     "metadata": {},
     "output_type": "execute_result"
    }
   ],
   "source": [
    "data = res.json()\n",
    "\n",
    "data"
   ]
  },
  {
   "cell_type": "markdown",
   "id": "c56519ec",
   "metadata": {},
   "source": [
    "### Let's check if you won any prize\n"
   ]
  },
  {
   "cell_type": "code",
   "execution_count": 590,
   "id": "1c11ec35",
   "metadata": {},
   "outputs": [
    {
     "name": "stdout",
     "output_type": "stream",
     "text": [
      "my numbers: [8, 11, 14, 20, 24, 41]\n",
      "drawn numbers: [8, 10, 14, 20, 33, 41] + bonus: 28\n",
      "matching numbers: [8, 14, 20, 41]\n",
      "-----------------------------------\n",
      "Your lottery number result:\n",
      "4rd!!!!\n"
     ]
    }
   ],
   "source": [
    "# data 에서 real_numbers 를 뽑는다.\n",
    "\n",
    "real_numbers = []\n",
    "for key, value in data.items():\n",
    "    if 'drwtNo' in key:\n",
    "        real_numbers.append(data[key])\n",
    "\n",
    "bonus = data['bnusNo']\n",
    "\n",
    "real_numbers.sort()\n",
    "\n",
    "# real_numbers + 보너스 와 my_numbers 를 비교해서 등수 확인\n",
    "# '''\n",
    "# 1등 6개 같음\n",
    "# 2등 5개가 같고, 나머지 한 개가 보너스 번호\n",
    "# 3등 5개 같음\n",
    "# 4등 4개 같음\n",
    "# 5등 3개 같음\n",
    "# 꽝\n",
    "# '''\n",
    "\n",
    "print('my numbers:', my_numbers)\n",
    "print('drawn numbers:', real_numbers, '+ bonus:', bonus)\n",
    "\n",
    "match = []\n",
    "\n",
    "for number in my_numbers:\n",
    "    if number in real_numbers:\n",
    "        match.append(number)\n",
    "\n",
    "print('matching numbers:', match)        \n",
    "print('-----------------------------------')\n",
    "print('Your lottery number result:')\n",
    "\n",
    "if len(match) == 6:\n",
    "    print('1st!!!!!!')\n",
    "elif len(match) == 5:\n",
    "    if bonus in my_numbers:\n",
    "        print('2nd!!!!!')\n",
    "    else:\n",
    "        print('3rd!!!!!')\n",
    "elif len(match) == 4:\n",
    "    print('4rd!!!!')\n",
    "elif len(match) == 3:\n",
    "    print('5rd!!!')\n",
    "else:\n",
    "    print('maybe at another chance... :(')"
   ]
  },
  {
   "cell_type": "code",
   "execution_count": 591,
   "id": "2303ce29",
   "metadata": {},
   "outputs": [],
   "source": [
    "# set 교집합의 길이를 구해서 간단하게 등수 뽑기"
   ]
  },
  {
   "cell_type": "markdown",
   "id": "5cbe685c",
   "metadata": {},
   "source": [
    "### Chance of winning the place"
   ]
  },
  {
   "cell_type": "code",
   "execution_count": 592,
   "id": "2425f499",
   "metadata": {},
   "outputs": [],
   "source": [
    "# 통계\n",
    "\n"
   ]
  }
 ],
 "metadata": {
  "kernelspec": {
   "display_name": "base",
   "language": "python",
   "name": "python3"
  },
  "language_info": {
   "codemirror_mode": {
    "name": "ipython",
    "version": 3
   },
   "file_extension": ".py",
   "mimetype": "text/x-python",
   "name": "python",
   "nbconvert_exporter": "python",
   "pygments_lexer": "ipython3",
   "version": "3.12.7"
  }
 },
 "nbformat": 4,
 "nbformat_minor": 5
}
