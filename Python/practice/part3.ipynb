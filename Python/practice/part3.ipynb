{
 "cells": [
  {
   "cell_type": "markdown",
   "id": "015c665a",
   "metadata": {},
   "source": [
    "### 22번 문제\n",
    "학생들의 성적 딕셔너리를 만들고, 평균 점수를 계산하여 평균 이상인 학생들만 출력하세요."
   ]
  },
  {
   "cell_type": "code",
   "execution_count": 14,
   "id": "3e3ee36e",
   "metadata": {},
   "outputs": [
    {
     "name": "stdout",
     "output_type": "stream",
     "text": [
      "class average score: 81.4\n",
      "students with score higher than the average: \n",
      "Alice 85\n",
      "Charlie 90\n",
      "Amy 100\n"
     ]
    }
   ],
   "source": [
    "scores = {'Alice': 85, 'Bob': 72, 'Charlie': 90, 'David': 60, 'Amy': 100}\n",
    "\n",
    "average_score = 0\n",
    "\n",
    "for name, score in scores.items():\n",
    "    average_score += score\n",
    "\n",
    "average_score /= len(scores)\n",
    "\n",
    "print('class average score:', average_score)\n",
    "print('students with score higher than the average: ')\n",
    "\n",
    "for name, score in scores.items():\n",
    "    if score >= average_score:\n",
    "        print(name, score)"
   ]
  },
  {
   "cell_type": "markdown",
   "id": "cf788c80",
   "metadata": {},
   "source": [
    "### 23번 문제\n",
    "주어진 문자열에서 숫자만 추출하여 합계를 구하는 프로그램을 작성하세요."
   ]
  },
  {
   "cell_type": "code",
   "execution_count": 6,
   "id": "7ea517c6",
   "metadata": {},
   "outputs": [
    {
     "name": "stdout",
     "output_type": "stream",
     "text": [
      "10\n"
     ]
    }
   ],
   "source": [
    "text = \"a1b2c3d4\"\n",
    "\n",
    "nums_total = 0\n",
    "\n",
    "for t in text:\n",
    "    if t.isnumeric():\n",
    "        nums_total += int(t)\n",
    "        \n",
    "print(nums_total)"
   ]
  },
  {
   "cell_type": "markdown",
   "id": "8a14b3de",
   "metadata": {},
   "source": [
    "### 24번 문제\n",
    "피보나치 수열의 첫 10개 항을 리스트에 저장하여 출력하세요."
   ]
  },
  {
   "cell_type": "code",
   "execution_count": 60,
   "id": "cc8b02fd",
   "metadata": {},
   "outputs": [
    {
     "name": "stdout",
     "output_type": "stream",
     "text": [
      "[0, 1, 1, 2, 3, 5, 8, 13, 21, 34, 55]\n"
     ]
    }
   ],
   "source": [
    "fibonacci = [0, 1]\n",
    "idx = 0\n",
    "\n",
    "while len(fibonacci) <= 10:\n",
    "    fibonacci.append(fibonacci[idx] + fibonacci[idx+1])\n",
    "    idx += 1\n",
    "    \n",
    "print(fibonacci)"
   ]
  },
  {
   "cell_type": "markdown",
   "id": "cf47b1ae",
   "metadata": {},
   "source": [
    "### 25번 문제\n",
    "영어 문장을 입력받아 단어 개수, 문자 개수(공백 제외), 모음 개수를 세는 프로그램을 작성하세요."
   ]
  },
  {
   "cell_type": "code",
   "execution_count": 54,
   "id": "92747767",
   "metadata": {},
   "outputs": [
    {
     "name": "stdout",
     "output_type": "stream",
     "text": [
      "\n",
      "      sentence: Hello this is jelly the boing boing\n",
      "      number of words: 7\n",
      "      number of letters(except space): 29\n",
      "      number of vowels: 10\n",
      "      \n"
     ]
    }
   ],
   "source": [
    "sentence = input(\"영어 문장을 입력하세요: \")\n",
    "\n",
    "cnt_words = 0\n",
    "cnt_letters = 0\n",
    "cnt_vowels = 0 \n",
    "\n",
    "sentence_list = sentence.split()\n",
    "\n",
    "cnt_words = len(sentence_list)\n",
    "\n",
    "for word in sentence_list:\n",
    "    for letter in word:\n",
    "        cnt_letters += 1\n",
    "        if letter in ('a', 'e', 'i', 'o', 'u'):\n",
    "            cnt_vowels += 1\n",
    "\n",
    "print(f'''\n",
    "      sentence: {sentence}\n",
    "      number of words: {cnt_words}\n",
    "      number of letters(except space): {cnt_letters}\n",
    "      number of vowels: {cnt_vowels}\n",
    "      ''')"
   ]
  },
  {
   "cell_type": "markdown",
   "id": "65dcf00d",
   "metadata": {},
   "source": [
    "### 26번 문제\n",
    "2차원 리스트 [[1, 2, 3], [4, 5, 6], [7, 8, 9]]의 모든 원소의 합을 구하세요."
   ]
  },
  {
   "cell_type": "code",
   "execution_count": 9,
   "id": "26a8319e",
   "metadata": {},
   "outputs": [
    {
     "name": "stdout",
     "output_type": "stream",
     "text": [
      "45\n"
     ]
    }
   ],
   "source": [
    "matrix = [[1, 2, 3], [4, 5, 6], [7, 8, 9]]\n",
    "\n",
    "total = 0\n",
    "\n",
    "for i in matrix:\n",
    "    for j in i:\n",
    "        total += j\n",
    "        \n",
    "print(total)"
   ]
  },
  {
   "cell_type": "markdown",
   "id": "dea32b37",
   "metadata": {},
   "source": [
    "### 27번 문제\n",
    "문자열 리스트에서 가장 긴 문자열과 가장 짧은 문자열을 찾아 출력하세요."
   ]
  },
  {
   "cell_type": "code",
   "execution_count": 45,
   "id": "28d8b0c0",
   "metadata": {},
   "outputs": [
    {
     "name": "stdout",
     "output_type": "stream",
     "text": [
      "가장 짧은 문자열: 4개 ['kiwi', 'lime']\n",
      "가장 긴 문자열: 11개 ['dragonfruit']\n"
     ]
    }
   ],
   "source": [
    "words = [\"apple\", \"banana\", \"kiwi\", \"strawberry\", \"lemon\", \"lime\", \"dragonfruit\"]\n",
    "\n",
    "if words == []:\n",
    "    print('비어 있는 리스트!!!')  # 비어 있는 리스트 일 때 경고문\n",
    "else:\n",
    "    short_words = []\n",
    "    short_len = float('inf')\n",
    "    long_words = []\n",
    "    long_len = 0\n",
    "    for word in words:\n",
    "        \n",
    "        if len(word) < short_len:\n",
    "            short_words = [word]\n",
    "            short_len = len(word)\n",
    "        \n",
    "        elif len(word) == short_len:\n",
    "            short_words.append(word)\n",
    "        \n",
    "                \n",
    "        if len(word) > long_len:\n",
    "            long_words = [word]\n",
    "            long_len = len(word)\n",
    "\n",
    "        elif len(word) == long_len:\n",
    "            long_words.append(word)\n",
    "\n",
    "print(f'가장 짧은 문자열: {short_len}개 {short_words}')\n",
    "print(f'가장 긴 문자열: {long_len}개 {long_words}')"
   ]
  },
  {
   "cell_type": "markdown",
   "id": "88c6ac5b",
   "metadata": {},
   "source": [
    "### 28번 문제\n",
    "로또 번호 생성기를 만드세요. (1~45 중 중복 없는 6개 숫자)"
   ]
  },
  {
   "cell_type": "code",
   "execution_count": 10,
   "id": "5c9030f3",
   "metadata": {},
   "outputs": [
    {
     "data": {
      "text/plain": [
       "[13, 28, 6, 36, 19, 5]"
      ]
     },
     "execution_count": 10,
     "metadata": {},
     "output_type": "execute_result"
    }
   ],
   "source": [
    "import random\n",
    "\n",
    "random.sample(range(1,46), 6)"
   ]
  },
  {
   "cell_type": "markdown",
   "id": "4cdf20f0",
   "metadata": {},
   "source": [
    "### 29번 문제\n",
    "문자열을 입력받아 각 문자의 ASCII 값을 딕셔너리로 저장하여 출력하세요."
   ]
  },
  {
   "cell_type": "code",
   "execution_count": 50,
   "id": "4ff89e6f",
   "metadata": {},
   "outputs": [
    {
     "name": "stdout",
     "output_type": "stream",
     "text": [
      "{'A': 65, 'S': 83, 'D': 68, 'F': 70}\n"
     ]
    }
   ],
   "source": [
    "text = input(\"문자열을 입력하세요: \")\n",
    "\n",
    "ASCII_dict = {}\n",
    "\n",
    "for t in text:\n",
    "    ASCII_dict[t] = ord(t)\n",
    "    \n",
    "print(ASCII_dict)"
   ]
  },
  {
   "cell_type": "markdown",
   "id": "d458db98",
   "metadata": {},
   "source": [
    "### 30번 문제\n",
    "주어진 문자열에서 가장 많이 나타나는 문자와 그 개수를 찾아 출력하세요."
   ]
  },
  {
   "cell_type": "code",
   "execution_count": 59,
   "id": "edbc2d19",
   "metadata": {},
   "outputs": [
    {
     "name": "stdout",
     "output_type": "stream",
     "text": [
      "\n",
      "      text: mississippi\n",
      "      most frequent letter: {'s', 'i'}\n",
      "      number of most frequent letter: 4\n",
      "      \n"
     ]
    }
   ],
   "source": [
    "text = \"mississippi\"\n",
    "\n",
    "if text == \"\":\n",
    "    print(\"Nothing!\")\n",
    "else:\n",
    "    freq_letter = set()\n",
    "    freq_num = 0\n",
    "    for t in text:\n",
    "        if text.count(t) > freq_num:\n",
    "            freq_letter = {t}\n",
    "            freq_num = text.count(t)\n",
    "        elif text.count(t) == freq_num:\n",
    "            freq_letter.add(t)\n",
    "        \n",
    "print(f'''\n",
    "      text: {text}\n",
    "      most frequent letter: {freq_letter}\n",
    "      number of most frequent letter: {freq_num}\n",
    "      ''')"
   ]
  }
 ],
 "metadata": {
  "kernelspec": {
   "display_name": "Python 3",
   "language": "python",
   "name": "python3"
  },
  "language_info": {
   "codemirror_mode": {
    "name": "ipython",
    "version": 3
   },
   "file_extension": ".py",
   "mimetype": "text/x-python",
   "name": "python",
   "nbconvert_exporter": "python",
   "pygments_lexer": "ipython3",
   "version": "3.13.4"
  }
 },
 "nbformat": 4,
 "nbformat_minor": 5
}
