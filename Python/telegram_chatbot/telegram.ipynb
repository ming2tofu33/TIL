{
 "cells": [
  {
   "cell_type": "markdown",
   "id": "61b36e82",
   "metadata": {},
   "source": [
    "# telegram.ipynb"
   ]
  },
  {
   "cell_type": "code",
   "execution_count": 2,
   "id": "ab45840c",
   "metadata": {},
   "outputs": [],
   "source": [
    "from dotenv import load_dotenv\n",
    "import os\n",
    "\n",
    "load_dotenv()\n",
    "\n",
    "# Bot 의 주민번호. 이게 있어야 어떤 봇을 컨트롤 하는지 알 수 있다.\n",
    "bot_token = os.getenv('TELEGRAM_BOT_TOKEN')"
   ]
  },
  {
   "cell_type": "code",
   "execution_count": null,
   "id": "ee5888da",
   "metadata": {},
   "outputs": [],
   "source": [
    "# 고정된 URL. 뒤에 붙는 말에따라 다른 요청이 됨\n",
    "URL = f'https://api.telegram.org/bot{bot_token}'"
   ]
  },
  {
   "cell_type": "code",
   "execution_count": 6,
   "id": "e8c6a310",
   "metadata": {},
   "outputs": [
    {
     "data": {
      "text/plain": [
       "'https://api.telegram.org/bot8053118345:AAELhHRimZu1i_8ucMB5ysewAklZM8pCknw/getMe'"
      ]
     },
     "execution_count": 6,
     "metadata": {},
     "output_type": "execute_result"
    }
   ],
   "source": [
    "# Bot 에 대한 정보\n",
    "URL + '/getMe'"
   ]
  },
  {
   "cell_type": "code",
   "execution_count": null,
   "id": "4994e413",
   "metadata": {},
   "outputs": [
    {
     "data": {
      "text/plain": [
       "'https://api.telegram.org/bot8053118345:AAELhHRimZu1i_8ucMB5ysewAklZM8pCknw/getUpdates'"
      ]
     },
     "execution_count": 7,
     "metadata": {},
     "output_type": "execute_result"
    }
   ],
   "source": [
    "# Bot의 모든 업데이트\n",
    "URL + '/getUpdates'"
   ]
  },
  {
   "cell_type": "code",
   "execution_count": null,
   "id": "529a39c8",
   "metadata": {},
   "outputs": [
    {
     "data": {
      "text/plain": [
       "'https://api.telegram.org/bot8053118345:AAELhHRimZu1i_8ucMB5ysewAklZM8pCknw/sendMessage'"
      ]
     },
     "execution_count": 10,
     "metadata": {},
     "output_type": "execute_result"
    }
   ],
   "source": [
    "# 메세지 보내기\n",
    "URL + '/sendMessage'"
   ]
  },
  {
   "cell_type": "code",
   "execution_count": 73,
   "id": "f1be3fa9",
   "metadata": {},
   "outputs": [
    {
     "name": "stdout",
     "output_type": "stream",
     "text": [
      "https://api.telegram.org/bot8053118345:AAELhHRimZu1i_8ucMB5ysewAklZM8pCknw/sendMessage?chat_id=8072965683&text=로또\n"
     ]
    }
   ],
   "source": [
    "# 답장을 위한 상대방 id\n",
    "my_id = '8072965683'\n",
    "# 메세지\n",
    "message = '로또'\n",
    "\n",
    "print(URL + '/sendMessage' + f'?chat_id={my_id}&text={message}')"
   ]
  },
  {
   "cell_type": "code",
   "execution_count": 129,
   "id": "e4eca235",
   "metadata": {},
   "outputs": [
    {
     "name": "stdout",
     "output_type": "stream",
     "text": [
      "hihihi 8072965683\n"
     ]
    }
   ],
   "source": [
    "# 봇 업데이트 받아서 \n",
    "import requests\n",
    "\n",
    "# /getUpdates 로 요청 보내고 -> 응답 JSON 받아서 저장 (실행할 때 마다 갱신)\n",
    "data = requests.get(URL + '/getUpdates').json()\n",
    "\n",
    "# 데이터 안에 마지막 메세지의 text(내용)을 뽑아라\n",
    "input_message = data['result'][-1]['message']['text']\n",
    "# 마지막 메시지의 보낸사람 id 뽑기\n",
    "user_id = data['result'][-1]['message']['from']['id']\n",
    "\n",
    "print(input_message, user_id)"
   ]
  },
  {
   "cell_type": "code",
   "execution_count": 130,
   "id": "9bab7fd4",
   "metadata": {},
   "outputs": [
    {
     "name": "stdout",
     "output_type": "stream",
     "text": [
      "Learning in process\n"
     ]
    },
    {
     "data": {
      "text/plain": [
       "{'ok': True,\n",
       " 'result': {'message_id': 58,\n",
       "  'from': {'id': 8053118345,\n",
       "   'is_bot': True,\n",
       "   'first_name': 'DoMiniJelly',\n",
       "   'username': 'DoMiniJellyBot'},\n",
       "  'chat': {'id': 8072965683,\n",
       "   'first_name': '도민',\n",
       "   'last_name': '김',\n",
       "   'type': 'private'},\n",
       "  'date': 1753342962,\n",
       "  'text': 'Learning in process'}}"
      ]
     },
     "execution_count": 130,
     "metadata": {},
     "output_type": "execute_result"
    }
   ],
   "source": [
    "# 메세지가 로또면, 로또 번호 6개 만들어서 보내기\n",
    "\n",
    "import random\n",
    "\n",
    "if input_message == '로또' or input_message.lower() in ('lotto', 'lottery'):\n",
    "    output_message = str(sorted(random.sample(range(1, 46), 6)))\n",
    "elif input_message in ('안녕', '안녕하세요'):\n",
    "    output_message = '반가워!'\n",
    "elif input_message.lower() in ('hello', 'hi'):\n",
    "    output_message = 'Hey there!'\n",
    "else:\n",
    "    output_message = 'Learning in process'\n",
    "\n",
    "print(output_message)\n",
    "\n",
    "body = {\n",
    "    # 누구에게\n",
    "    'chat_id': user_id,\n",
    "    # 답변 메세지\n",
    "    'text': output_message,\n",
    "}\n",
    "\n",
    "requests.get(URL + '/sendMessage', body).json()"
   ]
  }
 ],
 "metadata": {
  "kernelspec": {
   "display_name": "base",
   "language": "python",
   "name": "python3"
  },
  "language_info": {
   "codemirror_mode": {
    "name": "ipython",
    "version": 3
   },
   "file_extension": ".py",
   "mimetype": "text/x-python",
   "name": "python",
   "nbconvert_exporter": "python",
   "pygments_lexer": "ipython3",
   "version": "3.12.7"
  }
 },
 "nbformat": 4,
 "nbformat_minor": 5
}
