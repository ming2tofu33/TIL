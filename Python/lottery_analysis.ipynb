{
 "cells": [
  {
   "cell_type": "code",
   "execution_count": 5,
   "id": "a86f35de",
   "metadata": {},
   "outputs": [
    {
     "data": {
      "text/plain": [
       "'{\"totSellamnt\":113802682000,\"returnValue\":\"success\",\"drwNoDate\":\"2025-07-19\",\"firstWinamnt\":1593643500,\"drwtNo6\":41,\"drwtNo4\":20,\"firstPrzwnerCo\":17,\"drwtNo5\":33,\"bnusNo\":28,\"firstAccumamnt\":27091939500,\"drwNo\":1181,\"drwtNo2\":10,\"drwtNo3\":14,\"drwtNo1\":8}'"
      ]
     },
     "execution_count": 5,
     "metadata": {},
     "output_type": "execute_result"
    }
   ],
   "source": [
    "import requests\n",
    "\n",
    "URL = '''https://www.dhlottery.co.kr/common.do?method=getLottoNumber&drwNo=1181'''\n",
    "\n",
    "res = requests.get(URL)\n",
    "\n",
    "res\n",
    "res.text"
   ]
  },
  {
   "cell_type": "code",
   "execution_count": 11,
   "id": "7d39385b",
   "metadata": {},
   "outputs": [
    {
     "data": {
      "text/plain": [
       "[{'totSellamnt': 3681782000,\n",
       "  'returnValue': 'success',\n",
       "  'drwNoDate': '2002-12-07',\n",
       "  'firstWinamnt': 0,\n",
       "  'drwtNo6': 40,\n",
       "  'drwtNo4': 33,\n",
       "  'firstPrzwnerCo': 0,\n",
       "  'drwtNo5': 37,\n",
       "  'bnusNo': 16,\n",
       "  'firstAccumamnt': 863604600,\n",
       "  'drwNo': 1,\n",
       "  'drwtNo2': 23,\n",
       "  'drwtNo3': 29,\n",
       "  'drwtNo1': 10},\n",
       " {'totSellamnt': 4904274000,\n",
       "  'returnValue': 'success',\n",
       "  'drwNoDate': '2002-12-14',\n",
       "  'firstWinamnt': 2002006800,\n",
       "  'drwtNo6': 42,\n",
       "  'drwtNo4': 25,\n",
       "  'firstPrzwnerCo': 1,\n",
       "  'drwtNo5': 32,\n",
       "  'bnusNo': 2,\n",
       "  'firstAccumamnt': 0,\n",
       "  'drwNo': 2,\n",
       "  'drwtNo2': 13,\n",
       "  'drwtNo3': 21,\n",
       "  'drwtNo1': 9},\n",
       " {'totSellamnt': 4729342000,\n",
       "  'returnValue': 'success',\n",
       "  'drwNoDate': '2002-12-21',\n",
       "  'firstWinamnt': 2000000000,\n",
       "  'drwtNo6': 31,\n",
       "  'drwtNo4': 21,\n",
       "  'firstPrzwnerCo': 1,\n",
       "  'drwtNo5': 27,\n",
       "  'bnusNo': 30,\n",
       "  'firstAccumamnt': 0,\n",
       "  'drwNo': 3,\n",
       "  'drwtNo2': 16,\n",
       "  'drwtNo3': 19,\n",
       "  'drwtNo1': 11},\n",
       " {'totSellamnt': 5271464000,\n",
       "  'returnValue': 'success',\n",
       "  'drwNoDate': '2002-12-28',\n",
       "  'firstWinamnt': 0,\n",
       "  'drwtNo6': 42,\n",
       "  'drwtNo4': 31,\n",
       "  'firstPrzwnerCo': 0,\n",
       "  'drwtNo5': 40,\n",
       "  'bnusNo': 2,\n",
       "  'firstAccumamnt': 1267147200,\n",
       "  'drwNo': 4,\n",
       "  'drwtNo2': 27,\n",
       "  'drwtNo3': 30,\n",
       "  'drwtNo1': 14},\n",
       " {'totSellamnt': 6277102000,\n",
       "  'returnValue': 'success',\n",
       "  'drwNoDate': '2003-01-04',\n",
       "  'firstWinamnt': 0,\n",
       "  'drwtNo6': 42,\n",
       "  'drwtNo4': 40,\n",
       "  'firstPrzwnerCo': 0,\n",
       "  'drwtNo5': 41,\n",
       "  'bnusNo': 3,\n",
       "  'firstAccumamnt': 3041094900,\n",
       "  'drwNo': 5,\n",
       "  'drwtNo2': 24,\n",
       "  'drwtNo3': 29,\n",
       "  'drwtNo1': 16},\n",
       " {'totSellamnt': 15305356000,\n",
       "  'returnValue': 'success',\n",
       "  'drwNoDate': '2003-01-11',\n",
       "  'firstWinamnt': 6574451700,\n",
       "  'drwtNo6': 42,\n",
       "  'drwtNo4': 27,\n",
       "  'firstPrzwnerCo': 1,\n",
       "  'drwtNo5': 40,\n",
       "  'bnusNo': 34,\n",
       "  'firstAccumamnt': 0,\n",
       "  'drwNo': 6,\n",
       "  'drwtNo2': 15,\n",
       "  'drwtNo3': 26,\n",
       "  'drwtNo1': 14},\n",
       " {'totSellamnt': 12794890000,\n",
       "  'returnValue': 'success',\n",
       "  'drwNoDate': '2003-01-18',\n",
       "  'firstWinamnt': 0,\n",
       "  'drwtNo6': 40,\n",
       "  'drwtNo4': 25,\n",
       "  'firstPrzwnerCo': 0,\n",
       "  'drwtNo5': 26,\n",
       "  'bnusNo': 42,\n",
       "  'firstAccumamnt': 2600913000,\n",
       "  'drwNo': 7,\n",
       "  'drwtNo2': 9,\n",
       "  'drwtNo3': 16,\n",
       "  'drwtNo1': 2},\n",
       " {'totSellamnt': 20751450000,\n",
       "  'returnValue': 'success',\n",
       "  'drwNoDate': '2003-01-25',\n",
       "  'firstWinamnt': 0,\n",
       "  'drwtNo6': 39,\n",
       "  'drwtNo4': 34,\n",
       "  'firstPrzwnerCo': 0,\n",
       "  'drwtNo5': 37,\n",
       "  'bnusNo': 9,\n",
       "  'firstAccumamnt': 7336896000,\n",
       "  'drwNo': 8,\n",
       "  'drwtNo2': 19,\n",
       "  'drwtNo3': 25,\n",
       "  'drwtNo1': 8},\n",
       " {'totSellamnt': 73624020000,\n",
       "  'returnValue': 'success',\n",
       "  'drwNoDate': '2003-02-01',\n",
       "  'firstWinamnt': 0,\n",
       "  'drwtNo6': 39,\n",
       "  'drwtNo4': 17,\n",
       "  'firstPrzwnerCo': 0,\n",
       "  'drwtNo5': 36,\n",
       "  'bnusNo': 14,\n",
       "  'firstAccumamnt': 25803852000,\n",
       "  'drwNo': 9,\n",
       "  'drwtNo2': 4,\n",
       "  'drwtNo3': 16,\n",
       "  'drwtNo1': 2}]"
      ]
     },
     "execution_count": 11,
     "metadata": {},
     "output_type": "execute_result"
    }
   ],
   "source": [
    "def get_requests_json(URL):\n",
    "    res = requests.get(URL)\n",
    "    return res.json()\n",
    "\n",
    "list(map(get_requests_json, [(f'https://www.dhlottery.co.kr/common.do?method=getLottoNumber&drwNo={i}') for i in range(1, 10)]))"
   ]
  },
  {
   "cell_type": "code",
   "execution_count": 2,
   "id": "09c16f71",
   "metadata": {},
   "outputs": [
    {
     "data": {
      "text/plain": [
       "{'totSellamnt': 113802682000,\n",
       " 'returnValue': 'success',\n",
       " 'drwNoDate': '2025-07-19',\n",
       " 'firstWinamnt': 1593643500,\n",
       " 'drwtNo6': 41,\n",
       " 'drwtNo4': 20,\n",
       " 'firstPrzwnerCo': 17,\n",
       " 'drwtNo5': 33,\n",
       " 'bnusNo': 28,\n",
       " 'firstAccumamnt': 27091939500,\n",
       " 'drwNo': 1181,\n",
       " 'drwtNo2': 10,\n",
       " 'drwtNo3': 14,\n",
       " 'drwtNo1': 8}"
      ]
     },
     "execution_count": 2,
     "metadata": {},
     "output_type": "execute_result"
    }
   ],
   "source": [
    "data = res.json()\n",
    "\n",
    "data"
   ]
  }
 ],
 "metadata": {
  "kernelspec": {
   "display_name": "base",
   "language": "python",
   "name": "python3"
  },
  "language_info": {
   "codemirror_mode": {
    "name": "ipython",
    "version": 3
   },
   "file_extension": ".py",
   "mimetype": "text/x-python",
   "name": "python",
   "nbconvert_exporter": "python",
   "pygments_lexer": "ipython3",
   "version": "3.12.7"
  }
 },
 "nbformat": 4,
 "nbformat_minor": 5
}
