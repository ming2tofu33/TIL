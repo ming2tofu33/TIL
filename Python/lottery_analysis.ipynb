{
 "cells": [
  {
   "cell_type": "code",
   "execution_count": 5,
   "id": "a86f35de",
   "metadata": {},
   "outputs": [
    {
     "data": {
      "text/plain": [
       "'{\"totSellamnt\":113802682000,\"returnValue\":\"success\",\"drwNoDate\":\"2025-07-19\",\"firstWinamnt\":1593643500,\"drwtNo6\":41,\"drwtNo4\":20,\"firstPrzwnerCo\":17,\"drwtNo5\":33,\"bnusNo\":28,\"firstAccumamnt\":27091939500,\"drwNo\":1181,\"drwtNo2\":10,\"drwtNo3\":14,\"drwtNo1\":8}'"
      ]
     },
     "execution_count": 5,
     "metadata": {},
     "output_type": "execute_result"
    }
   ],
   "source": [
    "import requests\n",
    "\n",
    "URL = '''https://www.dhlottery.co.kr/common.do?method=getLottoNumber&drwNo=1181'''\n",
    "\n",
    "res = requests.get(URL)\n",
    "\n",
    "res\n",
    "res.text"
   ]
  },
  {
   "cell_type": "code",
   "execution_count": null,
   "id": "7d39385b",
   "metadata": {},
   "outputs": [
    {
     "ename": "SyntaxError",
     "evalue": "Generator expression must be parenthesized (3817582542.py, line 5)",
     "output_type": "error",
     "traceback": [
      "\u001b[1;36m  Cell \u001b[1;32mIn[7], line 5\u001b[1;36m\u001b[0m\n\u001b[1;33m    list(map(get_requests_json, (f'https://www.dhlottery.co.kr/common.do?method=getLottoNumber&drwNo={i}') for i in range(1, 1181)))\u001b[0m\n\u001b[1;37m                                 ^\u001b[0m\n\u001b[1;31mSyntaxError\u001b[0m\u001b[1;31m:\u001b[0m Generator expression must be parenthesized\n"
     ]
    }
   ],
   "source": [
    "def get_requests_json(URL):\n",
    "    res = requests.get(URL)\n",
    "    return res.json()\n",
    "\n",
    "list(map(get_requests_json, f'https://www.dhlottery.co.kr/common.do?method=getLottoNumber&drwNo={i}' for i in range(1, 1181)))"
   ]
  },
  {
   "cell_type": "code",
   "execution_count": 2,
   "id": "09c16f71",
   "metadata": {},
   "outputs": [
    {
     "data": {
      "text/plain": [
       "{'totSellamnt': 113802682000,\n",
       " 'returnValue': 'success',\n",
       " 'drwNoDate': '2025-07-19',\n",
       " 'firstWinamnt': 1593643500,\n",
       " 'drwtNo6': 41,\n",
       " 'drwtNo4': 20,\n",
       " 'firstPrzwnerCo': 17,\n",
       " 'drwtNo5': 33,\n",
       " 'bnusNo': 28,\n",
       " 'firstAccumamnt': 27091939500,\n",
       " 'drwNo': 1181,\n",
       " 'drwtNo2': 10,\n",
       " 'drwtNo3': 14,\n",
       " 'drwtNo1': 8}"
      ]
     },
     "execution_count": 2,
     "metadata": {},
     "output_type": "execute_result"
    }
   ],
   "source": [
    "data = res.json()\n",
    "\n",
    "data"
   ]
  }
 ],
 "metadata": {
  "kernelspec": {
   "display_name": "base",
   "language": "python",
   "name": "python3"
  },
  "language_info": {
   "codemirror_mode": {
    "name": "ipython",
    "version": 3
   },
   "file_extension": ".py",
   "mimetype": "text/x-python",
   "name": "python",
   "nbconvert_exporter": "python",
   "pygments_lexer": "ipython3",
   "version": "3.12.7"
  }
 },
 "nbformat": 4,
 "nbformat_minor": 5
}
