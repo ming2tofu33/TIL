{
 "cells": [
  {
   "cell_type": "code",
   "execution_count": 42,
   "id": "53fe2bfc",
   "metadata": {},
   "outputs": [
    {
     "name": "stdout",
     "output_type": "stream",
     "text": [
      "[1, 2, 0, 0, 0]\n",
      "[0, 0, 0, 0, 0]\n",
      "[0, 0, 0, 0, 0]\n",
      "[0, 0, 0, 0, 0]\n",
      "[0, 0, 0, 0, 0]\n",
      "[0, 0, 0, 0, 0]\n",
      "숫자: 3\n",
      "현재 좌표 x y: 0 1\n",
      "다음 좌표 x y: 0 1\n"
     ]
    }
   ],
   "source": [
    "from pprint import pprint\n",
    "mtx = []\n",
    "n = 5\n",
    "dxy = [(0, 1), (1, 0), (0, -1), (-1, 0)]  #  튜블\n",
    "    #    0        1        2        3\n",
    "      \n",
    "# 매트릭스 만들기\n",
    "for i in range(n):\n",
    "    r = []\n",
    "    for j in range(n):\n",
    "        r.append(0)\n",
    "    mtx.append(r)\n",
    "\n",
    "# nx, ny -> 가능하면\n",
    "# x = nx\n",
    "# y = ny\n",
    "\n",
    "# 현재 위치점을 영점 위치로 [0, 0] 으로 세팅\n",
    "x = 0\n",
    "y = 0\n",
    "next_x = 0\n",
    "next_y = 0\n",
    "number = 1  # 채울 숫자\n",
    "\n",
    "while 0 <= next_x < n and 0 <= next_y < n and mtx[next_x][next_y] == 0:\n",
    "    mtx[x][y] = number\n",
    "    number += 1\n",
    "    next_x, next_y = x + dxy[0][0], y + dxy[0][1]\n",
    "    if 0 <= next_x < n and 0 <= next_y < n and mtx[next_x][next_y] == 0:\n",
    "        x = next_x\n",
    "        y = next_y\n",
    "        mtx[x][y] = number\n",
    "        number += 1\n",
    "        x = next_x\n",
    "        y = next_y\n",
    "    \n",
    "    \n",
    "    \n",
    "# dot = [x,y]\n",
    "# while dot[0] in range(n) and mtx[x][y] == 0:  # 아래쪽로 이동\n",
    "#     mtx[x][y] = number\n",
    "#     number += 1\n",
    "#     x += 1\n",
    "#     dot[0] = x\n",
    "# y -= 1\n",
    "# x -= 1\n",
    "# dot = [x,y]\n",
    "# while dot[1] in range(n) and mtx[x][y] == 0:  # 왼쪽으로 이동\n",
    "#     mtx[x][y] = number\n",
    "#     number += 1\n",
    "#     y -= 1\n",
    "#     dot[1] = y\n",
    "# y += 1\n",
    "# x -= 1\n",
    "# dot = [x,y]    \n",
    "# while dot[0] in range(n) and mtx[x][y] == 0:  # 위쪽로 이동\n",
    "#     mtx[x][y] = number\n",
    "#     number += 1\n",
    "#     x -= 1\n",
    "#     dot[0] = x\n",
    "# y += 1\n",
    "# x += 1\n",
    "# while dot[1] in range(n) and mtx[x][y] == 0:  # 다시 오른쪽으로 이동\n",
    "#     mtx[x][y] = number\n",
    "#     number += 1\n",
    "#     y += 1\n",
    "#     dot[1] = y\n",
    "\n",
    "    # 매트릭스 값 직접 수정\n",
    "    # 현재 위치\n",
    "      \n",
    "# pprint(mtx)  \n",
    "print(mtx[0]) \n",
    "print(mtx[1])  \n",
    "print(mtx[2])  \n",
    "print(mtx[3])\n",
    "print(mtx[3])\n",
    "print(mtx[4])\n",
    "print('숫자:', number)\n",
    "print('현재 좌표 x y:', x, y)\n",
    "print('다음 좌표 x y:', next_x, next_y)"
   ]
  },
  {
   "cell_type": "code",
   "execution_count": 3,
   "id": "ec55fecb",
   "metadata": {},
   "outputs": [
    {
     "name": "stdout",
     "output_type": "stream",
     "text": [
      "1 2\n"
     ]
    }
   ],
   "source": [
    "x, y = [1,2]\n",
    "print(x,y)\n",
    "\n",
    "# print(mtx[0])  # [[0, 0], [0, 1], [0, 2], [0, 3]]\n",
    "# print(mtx[1])  # [[1, 0], [1, 1], [1, 2], [1, 3]]\n",
    "# print(mtx[2])  # [[2, 0], [2, 1], [2, 2], [2, 3]]\n",
    "# print(mtx[3])  # [[3, 0], [3, 1], [3, 2], [3, 3]]"
   ]
  },
  {
   "cell_type": "code",
   "execution_count": null,
   "id": "9305c274",
   "metadata": {},
   "outputs": [
    {
     "name": "stdout",
     "output_type": "stream",
     "text": [
      "[1, 2, 3, 4]\n",
      "[5, 6, 7, 8]\n",
      "[9, 10, 11, 12]\n",
      "[13, 14, 15, 16]\n"
     ]
    }
   ],
   "source": [
    "mrx = []\n",
    "n = 4\n",
    "\n",
    "# 매트릭스 만들기\n",
    "for i in range(n):\n",
    "    r = []\n",
    "    for j in range(n):\n",
    "        r.append([i, j])\n",
    "    mrx.append(r)\n",
    "\n",
    "# 매트릭스 순차적으로 순회하며 출력\n",
    "number = 1\n",
    "\n",
    "for k in range(n):\n",
    "    for l in range(n):\n",
    "        mrx[k][l] = number\n",
    "        number += 1\n",
    "\n",
    "print(mrx[0])  # [1, 2, 3, 4]\n",
    "print(mrx[1])  # [5, 6, 7, 8]\n",
    "print(mrx[2])  # [9, 10, 11, 12]\n",
    "print(mrx[3])  # [13, 14, 15, 16]"
   ]
  },
  {
   "cell_type": "code",
   "execution_count": null,
   "id": "c30e6a73",
   "metadata": {},
   "outputs": [],
   "source": [
    "numbers = [-99,50,-75,25]  # [25,50,-75,-99]\n",
    "numbers = [-10,7,-4,2,-9]  # [2,-4,7,-9,-10]\n",
    "numbers = [-5,4,0,-4,5]  # [0,4,-4,-5,5]\n",
    "\n",
    "all_num = []\n",
    "negative_num = []\n",
    "\n",
    "for i in numbers:\n",
    "    if i >= 0:\n",
    "        a.append(enumerate(numbers))\n",
    "    else:\n",
    "        a.append(-i)\n",
    "        n.append(i)\n",
    "a.sort()\n",
    "print(a)\n",
    "print(n)\n",
    "\n",
    "answer = a + n\n"
   ]
  }
 ],
 "metadata": {
  "kernelspec": {
   "display_name": "Python 3",
   "language": "python",
   "name": "python3"
  },
  "language_info": {
   "codemirror_mode": {
    "name": "ipython",
    "version": 3
   },
   "file_extension": ".py",
   "mimetype": "text/x-python",
   "name": "python",
   "nbconvert_exporter": "python",
   "pygments_lexer": "ipython3",
   "version": "3.13.4"
  }
 },
 "nbformat": 4,
 "nbformat_minor": 5
}
