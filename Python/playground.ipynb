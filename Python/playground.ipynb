{
 "cells": [
  {
   "cell_type": "code",
   "execution_count": 53,
   "id": "53fe2bfc",
   "metadata": {},
   "outputs": [
    {
     "name": "stdout",
     "output_type": "stream",
     "text": [
      "[0, 1]\n",
      "[[0, 1], [0, 0], [0, 0], [0, 0]]\n",
      "[[0, 0], [0, 0], [0, 0], [0, 0]]\n",
      "[[0, 0], [0, 0], [0, 0], [0, 0]]\n",
      "[[0, 0], [0, 0], [0, 0], [0, 0]]\n",
      "2\n",
      "[0, 1]\n",
      "1\n"
     ]
    }
   ],
   "source": [
    "mrx = []\n",
    "n = 4\n",
    "dx = [-1, 1, 0, 0]  # 상, 하, 좌, 우 (행 변화량)\n",
    "dy = [0, 0, -1, 1]  # 상, 하, 좌, 우 (열 변화량)\n",
    "dxy = [(-1, 0), (1, 0), (0, -1), (0, 1)]  # 상, 하, 좌, 우 튜블\n",
    "\n",
    "# 매트릭스 만들기\n",
    "for i in range(n):\n",
    "    r = []\n",
    "    for j in range(n):\n",
    "        r.append([0, 0])\n",
    "    mrx.append(r)\n",
    "\n",
    "\n",
    "# 현재 위치점 dot을 시작 위치 mrx[0][0] == [0, 0] 으로 세팅\n",
    "dot = mrx[0][0]  # [0, 0]\n",
    "number = 1  # \n",
    "for k in range(n):\n",
    "    if dot[1] + 1 in range(n) and dot == [0, 0]:\n",
    "        tmp = dot\n",
    "        dot[1] = 1\n",
    "        tmp = number\n",
    "        print(dot)\n",
    "        number += 1\n",
    "        # 매트릭스 값 직접 수정\n",
    "        # 현재 위치\n",
    "      \n",
    "# print(mrx)  \n",
    "print(mrx[0])  # [[0, 0], [0, 1], [0, 2], [0, 3]]\n",
    "print(mrx[1])  # [[1, 0], [1, 1], [1, 2], [1, 3]]\n",
    "print(mrx[2])  # [[2, 0], [2, 1], [2, 2], [2, 3]]\n",
    "print(mrx[3])  # [[3, 0], [3, 1], [3, 2], [3, 3]]\n",
    "print(number)\n",
    "print(dot)\n",
    "print(tmp)"
   ]
  },
  {
   "cell_type": "code",
   "execution_count": null,
   "id": "9305c274",
   "metadata": {},
   "outputs": [
    {
     "name": "stdout",
     "output_type": "stream",
     "text": [
      "[1, 2, 3, 4]\n",
      "[5, 6, 7, 8]\n",
      "[9, 10, 11, 12]\n",
      "[13, 14, 15, 16]\n"
     ]
    }
   ],
   "source": [
    "mrx = []\n",
    "n = 4\n",
    "\n",
    "# 매트릭스 만들기\n",
    "for i in range(n):\n",
    "    r = []\n",
    "    for j in range(n):\n",
    "        r.append([i, j])\n",
    "    mrx.append(r)\n",
    "\n",
    "# 매트릭스 순차적으로 순회하며 출력\n",
    "number = 1\n",
    "\n",
    "for k in range(n):\n",
    "    for l in range(n):\n",
    "        mrx[k][l] = number\n",
    "        number += 1\n",
    "\n",
    "print(mrx[0])  # [1, 2, 3, 4]\n",
    "print(mrx[1])  # [5, 6, 7, 8]\n",
    "print(mrx[2])  # [9, 10, 11, 12]\n",
    "print(mrx[3])  # [13, 14, 15, 16]"
   ]
  },
  {
   "cell_type": "code",
   "execution_count": null,
   "id": "c30e6a73",
   "metadata": {},
   "outputs": [],
   "source": [
    "numbers = [-99,50,-75,25]  # [25,50,-75,-99]\n",
    "numbers = [-10,7,-4,2,-9]  # [2,-4,7,-9,-10]\n",
    "numbers = [-5,4,0,-4,5]  # [0,4,-4,-5,5]\n",
    "\n",
    "all_num = []\n",
    "negative_num = []\n",
    "\n",
    "for i in numbers:\n",
    "    if i >= 0:\n",
    "        a.append(enumerate(numbers))\n",
    "    else:\n",
    "        a.append(-i)\n",
    "        n.append(i)\n",
    "a.sort()\n",
    "print(a)\n",
    "print(n)\n",
    "\n",
    "answer = a + n\n"
   ]
  }
 ],
 "metadata": {
  "kernelspec": {
   "display_name": "Python 3",
   "language": "python",
   "name": "python3"
  },
  "language_info": {
   "codemirror_mode": {
    "name": "ipython",
    "version": 3
   },
   "file_extension": ".py",
   "mimetype": "text/x-python",
   "name": "python",
   "nbconvert_exporter": "python",
   "pygments_lexer": "ipython3",
   "version": "3.13.4"
  }
 },
 "nbformat": 4,
 "nbformat_minor": 5
}
