{
 "cells": [
  {
   "cell_type": "markdown",
   "id": "2b8b2ea2",
   "metadata": {},
   "source": [
    "# 완전탐색 투 포인터 알고리즘"
   ]
  },
  {
   "cell_type": "code",
   "execution_count": 2,
   "id": "f2e0ff35",
   "metadata": {},
   "outputs": [
    {
     "name": "stdout",
     "output_type": "stream",
     "text": [
      "3\n"
     ]
    }
   ],
   "source": [
    "nums = [1, 2, 3, 4, 2, 5, 3, 1, 1, 2]\n",
    "\n",
    "s = e = 0\n",
    "tmp = 0\n",
    "cnt = 0\n",
    "\n",
    "while True:\n",
    "    if tmp < 5:\n",
    "        if e >= 10:\n",
    "            break\n",
    "        else:\n",
    "            tmp += nums[e]\n",
    "            e += 1\n",
    "            \n",
    "    elif tmp > 5:\n",
    "        tmp -= nums[s]\n",
    "        s += 1\n",
    "    \n",
    "    else:\n",
    "        cnt += 1\n",
    "        tmp -= nums[s]\n",
    "        s += 1\n",
    "        \n",
    "print(cnt)"
   ]
  }
 ],
 "metadata": {
  "kernelspec": {
   "display_name": "Python 3",
   "language": "python",
   "name": "python3"
  },
  "language_info": {
   "codemirror_mode": {
    "name": "ipython",
    "version": 3
   },
   "file_extension": ".py",
   "mimetype": "text/x-python",
   "name": "python",
   "nbconvert_exporter": "python",
   "pygments_lexer": "ipython3",
   "version": "3.13.4"
  }
 },
 "nbformat": 4,
 "nbformat_minor": 5
}
