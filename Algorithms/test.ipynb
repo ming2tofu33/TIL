{
 "cells": [
  {
   "cell_type": "code",
   "execution_count": null,
   "id": "7ad9bae1",
   "metadata": {},
   "outputs": [],
   "source": [
    "users = {\n",
    "\t'total_user': 3,\n",
    "\t'information': [\n",
    "\t\t\t{'name': 'ken', 'age':20, 'license':True},\n",
    "\t\t\t{'name': 'jun', 'age':7, 'license':False},\n",
    "\t\t\t{'name': 'alex', 'age':30, 'license':False}\n",
    "\t]\n",
    "}"
   ]
  },
  {
   "cell_type": "code",
   "execution_count": null,
   "id": "fceda113",
   "metadata": {},
   "outputs": [
    {
     "name": "stdout",
     "output_type": "stream",
     "text": [
      "19.0\n"
     ]
    }
   ],
   "source": [
    "total = 0\n",
    "for i in users['information']:\n",
    "    total += i['age']\n",
    "    \n",
    "print(total / users['total_user'])"
   ]
  },
  {
   "cell_type": "code",
   "execution_count": 10,
   "id": "03cd7fed",
   "metadata": {},
   "outputs": [
    {
     "name": "stdout",
     "output_type": "stream",
     "text": [
      "{3: 5, 1: 2, 2: 3}\n"
     ]
    }
   ],
   "source": [
    "# 방법 2 : 딕셔너리를 통한 구조화\n",
    "gems = [3, 3, 1, 2, 3, 2, 2, 3, 3, 1]\n",
    "\n",
    "grades = {}\n",
    "for gem in gems:\n",
    "    grades[gem] = grades.get(gem, 0) + 1\n",
    "\n",
    "print(grades)           # {1:2, 2:3, 3:5}"
   ]
  },
  {
   "cell_type": "code",
   "execution_count": null,
   "id": "cfd51452",
   "metadata": {},
   "outputs": [],
   "source": []
  }
 ],
 "metadata": {
  "kernelspec": {
   "display_name": "Python 3",
   "language": "python",
   "name": "python3"
  },
  "language_info": {
   "codemirror_mode": {
    "name": "ipython",
    "version": 3
   },
   "file_extension": ".py",
   "mimetype": "text/x-python",
   "name": "python",
   "nbconvert_exporter": "python",
   "pygments_lexer": "ipython3",
   "version": "3.13.4"
  }
 },
 "nbformat": 4,
 "nbformat_minor": 5
}
