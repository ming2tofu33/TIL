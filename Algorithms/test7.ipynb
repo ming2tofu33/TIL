{
 "cells": [
  {
   "cell_type": "markdown",
   "id": "d50bbce0",
   "metadata": {},
   "source": [
    "# 비트연산자"
   ]
  },
  {
   "cell_type": "markdown",
   "id": "ec318ae6",
   "metadata": {},
   "source": [
    "## 부분집합 구하기"
   ]
  },
  {
   "cell_type": "code",
   "execution_count": 3,
   "id": "17c9a4e5",
   "metadata": {},
   "outputs": [
    {
     "name": "stdout",
     "output_type": "stream",
     "text": [
      "[]\n",
      "['a']\n",
      "['b']\n",
      "['a', 'b']\n",
      "['c']\n",
      "['a', 'c']\n",
      "['b', 'c']\n",
      "['a', 'b', 'c']\n"
     ]
    }
   ],
   "source": [
    "letters = ['a', 'b', 'c']\n",
    "\n",
    "for i in range(1 << len(letters)):\n",
    "    selected = []\n",
    "    for j in range(len(letters)):\n",
    "        if i & (1 << j):\n",
    "            selected.append(letters[j])\n",
    "\n",
    "    print(selected)"
   ]
  }
 ],
 "metadata": {
  "kernelspec": {
   "display_name": "Python 3",
   "language": "python",
   "name": "python3"
  },
  "language_info": {
   "codemirror_mode": {
    "name": "ipython",
    "version": 3
   },
   "file_extension": ".py",
   "mimetype": "text/x-python",
   "name": "python",
   "nbconvert_exporter": "python",
   "pygments_lexer": "ipython3",
   "version": "3.13.4"
  }
 },
 "nbformat": 4,
 "nbformat_minor": 5
}
