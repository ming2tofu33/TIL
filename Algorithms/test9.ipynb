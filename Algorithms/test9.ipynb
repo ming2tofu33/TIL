{
 "cells": [
  {
   "cell_type": "markdown",
   "id": "4ee9c6f1",
   "metadata": {},
   "source": [
    "# 깊이 우선 탐색(Depth First Search, DFS)"
   ]
  },
  {
   "cell_type": "code",
   "execution_count": null,
   "id": "7be2fd6e",
   "metadata": {},
   "outputs": [
    {
     "name": "stdout",
     "output_type": "stream",
     "text": [
      "0 시작\n",
      "1 시작\n",
      "2 시작\n",
      "2 끝\n",
      "1 끝\n",
      "0 끝\n"
     ]
    }
   ],
   "source": [
    "# 시스템 스택\n",
    "\n",
    "def func(n):\n",
    "    if n == 3:\n",
    "        return\n",
    "    \n",
    "    print(n, '시작')\n",
    "    func(n + 1)\n",
    "    print(n, '끝')\n",
    "    \n",
    "func(0)"
   ]
  },
  {
   "cell_type": "markdown",
   "id": "2ba8780a",
   "metadata": {},
   "source": [
    "## 스택을 활용한 깊이 우선 탐색"
   ]
  },
  {
   "cell_type": "code",
   "execution_count": null,
   "id": "3ae8ae93",
   "metadata": {},
   "outputs": [],
   "source": [
    "def solution(n, edges):\n",
    "    adj_matrix = [[0] * (n + 1) for _ in range(n + 1)]\n",
    "\n",
    "    for x, y in edges:\n",
    "        adj_matrix[x][y] = 1\n",
    "        adj_matrix[y][x] = 1\n",
    "    \n",
    "    stack = [1]\n",
    "    visited = set() \n",
    "    trail = []\n",
    "\n",
    "    while stack:\n",
    "        cur = stack.pop()\n",
    "        if cur not in visited:\n",
    "            trail.append(cur)\n",
    "            visited.add(cur)\n",
    "        \n",
    "        for nxt in range(n + 1):\n",
    "            if adj_matrix[cur][nxt] and nxt not in visited:\n",
    "                stack.append(nxt)\n",
    "    \n",
    "    return len(trail)"
   ]
  },
  {
   "cell_type": "code",
   "execution_count": 15,
   "id": "92d4666d",
   "metadata": {},
   "outputs": [
    {
     "data": {
      "text/plain": [
       "5"
      ]
     },
     "execution_count": 15,
     "metadata": {},
     "output_type": "execute_result"
    }
   ],
   "source": [
    "solution(n = 6, edges=[[1,2],[1,3],[2,3],[2,4],[3,5]])"
   ]
  }
 ],
 "metadata": {
  "kernelspec": {
   "display_name": "Python 3",
   "language": "python",
   "name": "python3"
  },
  "language_info": {
   "codemirror_mode": {
    "name": "ipython",
    "version": 3
   },
   "file_extension": ".py",
   "mimetype": "text/x-python",
   "name": "python",
   "nbconvert_exporter": "python",
   "pygments_lexer": "ipython3",
   "version": "3.13.4"
  }
 },
 "nbformat": 4,
 "nbformat_minor": 5
}
