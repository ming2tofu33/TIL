{
 "cells": [
  {
   "cell_type": "markdown",
   "id": "8df1234d",
   "metadata": {},
   "source": [
    "# 델타 탐색"
   ]
  },
  {
   "cell_type": "raw",
   "id": "9ee154d5",
   "metadata": {
    "vscode": {
     "languageId": "raw"
    }
   },
   "source": [
    "nr = r + dr\n",
    "nc = c + dc\n",
    "\n",
    "r 1 -1 0 0\n",
    "c 0 0 1 -1\n",
    "우 좌 하 상\n",
    "\n",
    "r 0 0 -1 1\n",
    "c -1 1 0 0\n",
    "상 하 좌 우\n",
    "\n",
    "    | 상 | 상우| 우 | 우하| 하 | 좌하| 좌 | 좌상|\n",
    "r\t| -1 | -1 |  0 |  1 |  1 | -1 |  0 |  1 |\n",
    "c\t|  0 |  1 |  1 |  1 |  0 | -1 | -1 | -1 |\t"
   ]
  },
  {
   "cell_type": "markdown",
   "id": "19d76d45",
   "metadata": {},
   "source": [
    "# 달팽이 순회"
   ]
  },
  {
   "cell_type": "code",
   "execution_count": 1,
   "id": "45debc5d",
   "metadata": {},
   "outputs": [],
   "source": [
    "def solution(n):\n",
    "    snail = [[0 for _ in range(n)] for _ in range(n)]\n",
    "    \n",
    "    dr = [0, 1, 0, -1]\n",
    "    dc = [1, 0, -1, 0]\n",
    "    \n",
    "    num = d = r = 0\n",
    "    c = -1\n",
    "    \n",
    "    for i in range(n * 2, 1, -1):\n",
    "        for _ in range(i // 2):\n",
    "            num += 1\n",
    "            r += dr[d % 4]\n",
    "            c += dc[d % 4]\n",
    "            snail[r][c] = num\n",
    "        d += 1\n",
    "\n",
    "    return snail"
   ]
  },
  {
   "cell_type": "code",
   "execution_count": 3,
   "id": "35e232e5",
   "metadata": {},
   "outputs": [
    {
     "data": {
      "text/plain": [
       "[[1, 2, 3, 4, 5],\n",
       " [16, 17, 18, 19, 6],\n",
       " [15, 24, 25, 20, 7],\n",
       " [14, 23, 22, 21, 8],\n",
       " [13, 12, 11, 10, 9]]"
      ]
     },
     "execution_count": 3,
     "metadata": {},
     "output_type": "execute_result"
    }
   ],
   "source": [
    "solution(5)"
   ]
  }
 ],
 "metadata": {
  "kernelspec": {
   "display_name": "Python 3",
   "language": "python",
   "name": "python3"
  },
  "language_info": {
   "codemirror_mode": {
    "name": "ipython",
    "version": 3
   },
   "file_extension": ".py",
   "mimetype": "text/x-python",
   "name": "python",
   "nbconvert_exporter": "python",
   "pygments_lexer": "ipython3",
   "version": "3.13.4"
  }
 },
 "nbformat": 4,
 "nbformat_minor": 5
}
