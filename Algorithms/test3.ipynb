{
 "cells": [
  {
   "cell_type": "markdown",
   "id": "dc458c86",
   "metadata": {},
   "source": [
    "# 누적합 알고리즘, 카운팅 정렬 알고리즘"
   ]
  },
  {
   "cell_type": "code",
   "execution_count": null,
   "id": "a3680d71",
   "metadata": {},
   "outputs": [],
   "source": [
    "# 2559 \"수열\"\n",
    "\n",
    "n, k = map(int, input().split())\n",
    "\n",
    "nums = list(map(int, input().split()))\n",
    "\n",
    "tmp = max_num = sum(nums[:k])\n",
    "\n",
    "for idx in range(n - k):\n",
    "    tmp += nums[idx + k] - nums[idx]\n",
    "    max_num = max(max_num, tmp)\n",
    "    \n",
    "print(max_num)"
   ]
  },
  {
   "cell_type": "code",
   "execution_count": null,
   "id": "b820ab78",
   "metadata": {},
   "outputs": [],
   "source": [
    "# 11659 \"구간 합 구하기 4\"\n",
    "\n",
    "n, m = map(int, input().split())\n",
    "\n",
    "nums = list(map(int, input().split()))\n",
    "\n",
    "acc_nums = [0]\n",
    "\n",
    "for num in nums:\n",
    "    acc_nums.append(acc_nums[-1] + num)\n",
    "    \n",
    "for _ in range(m):\n",
    "    i, j = map(int, input().split())\n",
    "    print(acc_nums[j] - acc_nums[i - 1])\n",
    "    \n",
    "    \n",
    "# 11659 \"구간 합 구하기 4\"\n",
    "\n",
    "import sys\n",
    "\n",
    "n, m = map(int, sys.stdin.readline().split())\n",
    "nums = list(map(int, sys.stdin.readline().split()))\n",
    "\n",
    "acc_nums = [0]\n",
    "\n",
    "for num in nums:\n",
    "    acc_nums.append(acc_nums[-1] + num)\n",
    "    \n",
    "for _ in range(m):\n",
    "    i, j = map(int, sys.stdin.readline().split())\n",
    "    sys.stdout.write(f\"{acc_nums[j] - acc_nums[i - 1]} \\n\")"
   ]
  },
  {
   "cell_type": "markdown",
   "id": "01fe3dcd",
   "metadata": {},
   "source": []
  }
 ],
 "metadata": {
  "kernelspec": {
   "display_name": "Python 3",
   "language": "python",
   "name": "python3"
  },
  "language_info": {
   "codemirror_mode": {
    "name": "ipython",
    "version": 3
   },
   "file_extension": ".py",
   "mimetype": "text/x-python",
   "name": "python",
   "nbconvert_exporter": "python",
   "pygments_lexer": "ipython3",
   "version": "3.13.4"
  }
 },
 "nbformat": 4,
 "nbformat_minor": 5
}
