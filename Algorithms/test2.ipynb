{
 "cells": [
  {
   "cell_type": "code",
   "execution_count": 1,
   "id": "b9e1729b",
   "metadata": {},
   "outputs": [
    {
     "name": "stdout",
     "output_type": "stream",
     "text": [
      "[1, 2, 3, 4]\n"
     ]
    }
   ],
   "source": [
    "# 버블 정렬\n",
    "\n",
    "arr = [2, 4, 1, 3]\n",
    "\n",
    "for i in range(len(arr) - 1, 0, -1):\n",
    "    for j in range(i):\n",
    "        if arr[j] > arr[j + 1]:\n",
    "            arr[j], arr[j + 1] = arr[j + 1], arr[j]\n",
    "            \n",
    "print(arr)"
   ]
  },
  {
   "cell_type": "code",
   "execution_count": 5,
   "id": "f2e07bb0",
   "metadata": {},
   "outputs": [
    {
     "name": "stdout",
     "output_type": "stream",
     "text": [
      "True\n"
     ]
    }
   ],
   "source": [
    "# 투 포인터 알고리즘\n",
    "\n",
    "word = input()\n",
    "\n",
    "left = 0\n",
    "right = len(word) - 1\n",
    "\n",
    "is_pallindrome = True\n",
    "\n",
    "while left < right:\n",
    "    if word[left] == word[right]:\n",
    "        left += 1\n",
    "        right -= 1\n",
    "    else:\n",
    "        is_pallindrome = False\n",
    "        break\n",
    "    \n",
    "print(is_pallindrome)"
   ]
  },
  {
   "cell_type": "code",
   "execution_count": 20,
   "id": "8a4270d4",
   "metadata": {},
   "outputs": [
    {
     "name": "stdout",
     "output_type": "stream",
     "text": [
      "{1: 4, 3: 3, 2: 5}\n",
      "dict_items([(1, 4), (3, 3), (2, 5)])\n",
      "[2, 1, 3]\n",
      "(2, 5)\n"
     ]
    }
   ],
   "source": [
    "nums = [1, 3, 2, 2, 1, 2, 3, 1, 1, 2, 3, 2]\n",
    "\n",
    "cnt = {}  # {1: 4, 3: 3, 2: 5} -> [2, 1, 3]\n",
    "\n",
    "for num in nums:\n",
    "    cnt[num] = cnt.get(num, 0) + 1\n",
    "    \n",
    "print(cnt)\n",
    "\n",
    "print(cnt.items())\n",
    "\n",
    "votes = sorted(cnt.items(), key=lambda x: -x[1])\n",
    "answer = [v[0] for v in votes]\n",
    "print(answer)\n",
    "\n",
    "answer = max(cnt.items(), key=lambda x: x[1])\n",
    "print(answer)"
   ]
  }
 ],
 "metadata": {
  "kernelspec": {
   "display_name": "Python 3",
   "language": "python",
   "name": "python3"
  },
  "language_info": {
   "codemirror_mode": {
    "name": "ipython",
    "version": 3
   },
   "file_extension": ".py",
   "mimetype": "text/x-python",
   "name": "python",
   "nbconvert_exporter": "python",
   "pygments_lexer": "ipython3",
   "version": "3.13.4"
  }
 },
 "nbformat": 4,
 "nbformat_minor": 5
}
